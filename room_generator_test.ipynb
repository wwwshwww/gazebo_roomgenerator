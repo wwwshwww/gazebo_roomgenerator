{
 "cells": [
  {
   "cell_type": "code",
   "execution_count": null,
   "metadata": {},
   "outputs": [],
   "source": [
    "import rospy"
   ]
  },
  {
   "cell_type": "code",
   "execution_count": null,
   "metadata": {},
   "outputs": [],
   "source": [
    "DEFAULT_I = 10\n",
    "try:\n",
    "    i = rospy.get_param('ii')\n",
    "except:\n",
    "    print('can not collect param. Going to use default value.')\n",
    "    i = DEFAULT_I\n",
    "    \n",
    "print(i)"
   ]
  },
  {
   "cell_type": "code",
   "execution_count": 1,
   "metadata": {},
   "outputs": [
    {
     "name": "stdout",
     "output_type": "stream",
     "text": [
      "ROS_MASTER_URI=http://localhost:11311, GAZEBO_MASTER_URI=http://localhost:11345\n"
     ]
    }
   ],
   "source": [
    "from pcg_gazebo.task_manager import ProcessManager\n",
    "from pcg_gazebo.generators.creators import create_models_from_config\n",
    "\n",
    "TARGET_SIM = dict(\n",
    "    ros_host='localhost',\n",
    "    ros_port=11311,\n",
    "    gazebo_host='localhost',\n",
    "    gazebo_port=11345\n",
    ")\n",
    "\n",
    "process_manager = ProcessManager(**TARGET_SIM)\n",
    "gazebo_proxy = process_manager.get_gazebo_proxy()\n",
    "print(gazebo_proxy.ros_config)"
   ]
  },
  {
   "cell_type": "code",
   "execution_count": 79,
   "metadata": {},
   "outputs": [
    {
     "name": "stdout",
     "output_type": "stream",
     "text": [
      "[<pcg_gazebo.simulation.model.SimulationModel object at 0x7ff44d5b0550>]\n",
      "None\n",
      "False\n",
      "<collision name=\"collision\">\n",
      "  <geometry>\n",
      "    <mesh>\n",
      "      <scale>1 1 1</scale>\n",
      "      <uri>file:///root/.pcg/meshes/YEcTxqdIlR.stl</uri>\n",
      "    </mesh>\n",
      "  </geometry>\n",
      "  <max_contacts>20</max_contacts>\n",
      "  <pose frame=\"\">-1.1267 -1.06112 -0.4 0 -0 0</pose>\n",
      "</collision>\n",
      "\n",
      "[[ 0.8446597   4.31495609  0.4923411 ]\n",
      " [-1.32939889  3.62870235  0.56645934]\n",
      " [-1.30136098  3.42762894  0.6554246 ]\n",
      " [ 4.15158405  0.6249689   0.60124047]\n",
      " [-2.25607361  2.96292256  0.25897758]\n",
      " [ 3.79076431  3.70934131  0.79390184]\n",
      " [-1.34340688  3.44389602  0.8       ]\n",
      " [ 4.2097089   3.31342802  0.34247602]\n",
      " [ 1.94731166  4.29594652  0.47039146]\n",
      " [-1.04306018 -1.26439227  0.05292209]]\n",
      "196\n",
      "(array([2.10646239, 0.73893361, 0.4       ]), array([0.       , 0.       , 1.8701774]))\n",
      "(array([-0.86905077,  0.58625451,  0.4       ]), array([0.        , 0.        , 0.56786298]))\n",
      "(array([ 0.63791376, -0.15877169,  0.4       ]), array([0.        , 0.        , 1.88557017]))\n",
      "(array([ 1.3171567 , -1.14280914,  0.4       ]), array([0.        , 0.        , 2.93761652]))\n",
      "(array([-1.33027027,  0.10800323,  0.4       ]), array([0.        , 0.        , 1.44975709]))\n",
      "(array([-0.34640907,  1.13645057,  0.4       ]), array([0.        , 0.        , 6.12815676]))\n",
      "(array([-1.51533815, -1.25809708,  0.4       ]), array([0.       , 0.       , 4.9660982]))\n",
      "(array([-2.1063305 ,  0.41955067,  0.4       ]), array([0.        , 0.        , 2.39455682]))\n",
      "(array([-1.94412571,  1.39979967,  0.4       ]), array([0.       , 0.       , 0.3646914]))\n",
      "(array([1.12891546, 0.49769507, 0.4       ]), array([0.        , 0.        , 6.27926254]))\n"
     ]
    }
   ],
   "source": [
    "## spawn box to the any place of wall collision space coordinates\n",
    "\n",
    "import numpy as np\n",
    "from pcg_gazebo.generators.shapes import random_rectangle, \\\n",
    "    random_points_to_triangulation, random_rectangles\n",
    "import trimesh\n",
    "\n",
    "THRESHOLD_WALL = 0.7\n",
    "ROOM_SIZE_RADIUS = 4.5\n",
    "ROOM_WALL_HEIGHT = 0.8\n",
    "OBSTACLE_NUM = 10\n",
    "OBSTACLE_SIZE = 0.8\n",
    "TARGET_SIZE = 0.4\n",
    "\n",
    "config = [\n",
    "    dict(\n",
    "        type='extrude',\n",
    "        args=dict(\n",
    "            polygon=random_points_to_triangulation(\n",
    "                x_min=-ROOM_SIZE_RADIUS,\n",
    "                x_max=ROOM_SIZE_RADIUS,\n",
    "                y_min=-ROOM_SIZE_RADIUS,\n",
    "                y_max=ROOM_SIZE_RADIUS\n",
    "            ),\n",
    "            height=ROOM_WALL_HEIGHT,\n",
    "            thickness=0.1,\n",
    "            extrude_boundaries=True,\n",
    "            name='extruded_poly_triangulation',\n",
    "            color='random'\n",
    "        )\n",
    "    )\n",
    "]\n",
    "\n",
    "models = create_models_from_config(config)\n",
    "print(models)\n",
    "for model in models:\n",
    "    print(model.get_link_by_name('visual_mesh'))\n",
    "    print(model.links is None)\n",
    "    for elem in model.links:\n",
    "        cols = model.get_link_by_name(elem).collisions\n",
    "        print(cols[0])\n",
    "        col_mesh = cols[0]._geometry._geometry_entity.get_meshes()[0]\n",
    "        sample_pts = cols[0]._geometry._geometry_entity.get_samples(OBSTACLE_NUM)\n",
    "        print(sample_pts)\n",
    "    model.spawn(\n",
    "        gazebo_proxy=gazebo_proxy, \n",
    "        robot_namespace=model.name,\n",
    "        pos=[0,0,ROOM_WALL_HEIGHT/2]\n",
    "    )\n",
    "\n",
    "print(len(col_mesh.vertices))\n",
    "mini_col_mesh = trimesh.Trimesh(np.array(col_mesh.vertices)*THRESHOLD_WALL)\n",
    "\n",
    "sample_pts = np.array(mini_col_mesh.convex_hull.sample(len(sample_pts)))\n",
    "sample_pts += cols[0].pose.position * THRESHOLD_WALL\n",
    "sample_pts[:,2] = OBSTACLE_SIZE/2\n",
    "\n",
    "sample_rot = np.zeros([len(sample_pts), 3])\n",
    "sample_rot[:,2] = np.random.random([len(sample_pts)])*np.pi*2\n",
    "\n",
    "sizes = [[OBSTACLE_SIZE, OBSTACLE_SIZE, OBSTACLE_SIZE]]*len(sample_pts)\n",
    "\n",
    "config_obstacle_box = [\n",
    "    dict(\n",
    "        type='box_factory',\n",
    "        args=dict(\n",
    "            size=sizes,\n",
    "            name='obstacle_box',\n",
    "            use_permutation=True,\n",
    "            color='white'\n",
    "        )\n",
    "    )\n",
    "]\n",
    "\n",
    "models_box = create_models_from_config(config_obstacle_box)\n",
    "for model, p, r in zip(models_box, sample_pts, sample_rot):\n",
    "    print(p, r)\n",
    "    model.spawn(\n",
    "        gazebo_proxy=gazebo_proxy, \n",
    "        robot_namespace=model.name,\n",
    "        pos=list(p),\n",
    "        rot=list(r)\n",
    "    )"
   ]
  },
  {
   "cell_type": "code",
   "execution_count": 80,
   "metadata": {},
   "outputs": [
    {
     "name": "stdout",
     "output_type": "stream",
     "text": [
      "[0 1 0 0 1 1 2 1 1 0]\n"
     ]
    }
   ],
   "source": [
    "from sklearn.cluster import DBSCAN\n",
    "\n",
    "db = DBSCAN(eps=np.sqrt(OBSTACLE_SIZE*2), min_samples=1).fit(np.array(sample_pts))\n",
    "labels = db.labels_\n",
    "print(labels)\n"
   ]
  },
  {
   "cell_type": "code",
   "execution_count": 81,
   "metadata": {},
   "outputs": [],
   "source": [
    "sizes = [[TARGET_SIZE, TARGET_SIZE, TARGET_SIZE]]*(max(labels)+1)\n",
    "config_target_box = [\n",
    "    dict(\n",
    "        type='box_factory',\n",
    "        args=dict(\n",
    "            size=sizes,\n",
    "            name='target_box',\n",
    "            use_permutation=True,\n",
    "            color='cyan'\n",
    "        )\n",
    "    )\n",
    "]\n",
    "\n",
    "models_target = create_models_from_config(config_target_box)"
   ]
  },
  {
   "cell_type": "code",
   "execution_count": 82,
   "metadata": {},
   "outputs": [],
   "source": [
    "def get_square_horizon(base_pos, half_length):\n",
    "    poss = [None]*4\n",
    "    for i in range(4):\n",
    "        pos = [0,0,base_pos[2]]\n",
    "        d1 = [1,1,-1,-1]\n",
    "        d2 = [1,-1,-1,1]\n",
    "        pos[0] = base_pos[0] + d1[i]*half_length\n",
    "        pos[1] = base_pos[1] + d2[i]*half_length\n",
    "        poss[i] = pos\n",
    "    \n",
    "    return poss\n",
    "\n",
    "def get_extended_face(face_vertices, length):\n",
    "    face_bottom = np.copy(face_vertices)\n",
    "    face_bottom[:,2] += length\n",
    "    return np.concatenate([face_vertices, face_bottom])"
   ]
  },
  {
   "cell_type": "markdown",
   "metadata": {},
   "source": [
    "#### Generate convex hull with cluster\n",
    "\n",
    "- Origin version\n",
    "- Expanded version\n",
    "\n",
    "To create expand version is the steps below.\n",
    "\n",
    "1. preparate more than 3 points per cluster\n",
    "2. calculate that polygon's gravity and vectors from this gravity each point\n",
    "3. extend vector length with depend on box size\n",
    "4. create convex hull as expanded version"
   ]
  },
  {
   "cell_type": "code",
   "execution_count": 89,
   "metadata": {},
   "outputs": [
    {
     "name": "stdout",
     "output_type": "stream",
     "text": [
      "('zone_vecs_g2v', [array([[-0.97744593, -0.21118584],\n",
      "       [ 0.01734616, -0.99984954],\n",
      "       [ 0.73094496,  0.68243642],\n",
      "       [-0.31187443,  0.95012333]]), array([[-0.68217415,  0.73118974],\n",
      "       [-0.9302495 , -0.36692762],\n",
      "       [-0.01773493, -0.99984272],\n",
      "       [ 0.95260975, -0.30419511],\n",
      "       [ 0.92270819,  0.38549915]]), array([[-0.70710678, -0.70710678],\n",
      "       [ 0.70710678, -0.70710678],\n",
      "       [ 0.70710678,  0.70710678],\n",
      "       [-0.70710678,  0.70710678]])])\n",
      "zone_full: \n",
      "1.03125814624\n",
      "zone_full_expand: \n",
      "3.16212451949\n",
      "[array([[ 0.01972268, -0.29233734],\n",
      "       [ 1.32812738, -1.77516952],\n",
      "       [ 2.56875257,  1.1705443 ],\n",
      "       [ 0.93166875,  1.09860582]]), array([[-2.37557052,  1.86224466],\n",
      "       [-2.69467194,  0.18748527],\n",
      "       [-1.34148683, -0.52435283],\n",
      "       [-0.26656746,  0.39386463],\n",
      "       [ 0.23716283,  1.38026164]]), array([[-1.97255174, -1.71531067],\n",
      "       [-1.05812455, -1.71531067],\n",
      "       [-1.05812455, -0.80088348],\n",
      "       [-1.97255174, -0.80088348]])]\n"
     ]
    }
   ],
   "source": [
    "hull_points_2d = [None]*(max(labels)+1)\n",
    "for i in range(len(hull_points_2d)):\n",
    "    pts = sample_pts[labels==i]\n",
    "    if len(pts) < 2:\n",
    "        v = []\n",
    "        for p in pts:\n",
    "            v.extend(get_square_horizon(p, 0.01))\n",
    "        pts = np.array(v)\n",
    "        \n",
    "#     convex_2d = ConvexHull(pts[:,:2])\n",
    "    hull_points_2d[i] = trimesh.convex.hull_points(pts[:,:2])\n",
    "\n",
    "\n",
    "zone_hull = [None]*(len(hull_points_2d)) # trimesh.Trimesh in\n",
    "for i in range(len(zone_hull)):\n",
    "    tmp = np.zeros([len(hull_points_2d[i]), 3])\n",
    "    tmp[:,:2] = hull_points_2d[i]\n",
    "    pts = get_extended_face(tmp, OBSTACLE_SIZE)\n",
    "    zone_hull[i] = trimesh.Trimesh(vertices=pts).convex_hull\n",
    "    \n",
    "    \n",
    "zone_hull_expand = [None]*(len(hull_points_2d)) # trimesh.Trimesh in\n",
    "zone_vecs_g2v = [None]*(len(hull_points_2d)) # normalized vector gravity to vertice\n",
    "hull_points_2d_expand = [None]*(len(hull_points_2d))\n",
    "for i in range(len(zone_hull_expand)):\n",
    "    g = np.mean(hull_points_2d[i], axis=0)\n",
    "#     print('g,', g)\n",
    "#     print('norm', np.linalg.norm(hull_points_2d[i]-g, axis=1))\n",
    "#     print('2dp', hull_points_2d[i]-g)\n",
    "    norm = np.linalg.norm(hull_points_2d[i]-g, axis=1)\n",
    "    zone_vecs_g2v[i] = (hull_points_2d[i]-g) / np.array([norm]).T ## KETAOTI OKIRUYO\n",
    "    hull_points_2d_expand[i] = hull_points_2d[i]+zone_vecs_g2v[i]*(np.sqrt(OBSTACLE_SIZE*2)/2)\n",
    "    \n",
    "    tmp = np.zeros([len(hull_points_2d[i]), 3])\n",
    "    tmp[:,:2] = hull_points_2d_expand[i]\n",
    "    pts = get_extended_face(tmp, OBSTACLE_SIZE)\n",
    "    zone_hull_expand[i] = trimesh.Trimesh(vertices=pts).convex_hull\n",
    "    \n",
    "print(\"zone_vecs_g2v\", zone_vecs_g2v)\n",
    "print(\"zone_full: \\n{}\".format(zone_hull[0].mass))\n",
    "print(\"zone_full_expand: \\n{}\".format(zone_hull_expand[0].mass))\n",
    "\n",
    "print(hull_points_2d_expand)\n"
   ]
  },
  {
   "cell_type": "markdown",
   "metadata": {},
   "source": [
    "#### Methods to get target position: "
   ]
  },
  {
   "cell_type": "markdown",
   "metadata": {},
   "source": [
    "- sample a vector in convex face that generated with all origin position of cubes in a cluster"
   ]
  },
  {
   "cell_type": "code",
   "execution_count": 17,
   "metadata": {},
   "outputs": [
    {
     "name": "stdout",
     "output_type": "stream",
     "text": [
      "[[ 1.6280383   0.47532221  0.4       ]\n",
      " [ 1.06612518 -1.25524001  0.4       ]\n",
      " [ 1.07051614 -0.37006875  0.4       ]\n",
      " [ 1.6280383   0.47532221  0.        ]\n",
      " [ 1.06612518 -1.25524001  0.        ]\n",
      " [ 1.07051614 -0.37006875  0.        ]]\n",
      "[[-1.91878831 -1.45287269  0.4       ]\n",
      " [-1.13075492 -1.3815387   0.4       ]\n",
      " [-1.72196411 -1.775725    0.4       ]\n",
      " [-1.78581065 -1.93064327  0.4       ]\n",
      " [-0.8571042  -1.08652255  0.4       ]\n",
      " [-1.91878831 -1.45287269  0.        ]\n",
      " [-1.13075492 -1.3815387   0.        ]\n",
      " [-1.72196411 -1.775725    0.        ]\n",
      " [-1.78581065 -1.93064327  0.        ]\n",
      " [-0.8571042  -1.08652255  0.        ]]\n",
      "[[1.52151552 2.82872883 0.4       ]\n",
      " [1.52151552 2.82872883 0.        ]]\n",
      "[[-0.62495616  0.95918874  0.4       ]\n",
      " [-0.62495616  0.95918874  0.        ]]\n",
      "zone_full: \n",
      "[<trimesh.Trimesh(vertices.shape=(6, 3), faces.shape=(8, 3))>, <trimesh.Trimesh(vertices.shape=(8, 3), faces.shape=(12, 3))>, <trimesh.Trimesh(vertices.shape=(8, 3), faces.shape=(12, 3))>, <trimesh.Trimesh(vertices.shape=(8, 3), faces.shape=(12, 3))>]\n",
      "[[ 1.39751567 -0.23463409  0.2       ]\n",
      " [-1.45945648 -1.65707484  0.2       ]\n",
      " [ 1.53151552  2.82410625  0.2       ]\n",
      " [-0.61495616  0.95667678  0.2       ]]\n"
     ]
    }
   ],
   "source": [
    "zone_samples = [None]*len(zone_hull)\n",
    "for i in range(len(zone_samples)):\n",
    "    ## sample_surface return tuple, so choice 0 index\n",
    "    samples = trimesh.sample.sample_surface(zone_hull[i], 100)[0]\n",
    "    zone_samples[i] = samples[\n",
    "        np.logical_and(\n",
    "            np.not_equal(samples[:,2], 0), \n",
    "            np.not_equal(samples[:,2], OBSTACLE_SIZE)\n",
    "        )\n",
    "    ]\n",
    "\n",
    "choiced_goal = np.zeros([len(zone_hull),3])\n",
    "for i in range(len(choiced_goal)):\n",
    "    choiced_goal[i] = zone_samples[i][np.random.choice(range(len(zone_samples[i])))]\n",
    "    \n",
    "choiced_goal[:,2] = TARGET_SIZE/2\n",
    "\n",
    "print(choiced_goal)\n",
    "for model, p in zip(models_target, choiced_goal):\n",
    "    model.spawn(\n",
    "        gazebo_proxy=gazebo_proxy, \n",
    "        robot_namespace=model.name,\n",
    "        pos=list(p*1.4)\n",
    "    )"
   ]
  },
  {
   "cell_type": "markdown",
   "metadata": {},
   "source": [
    "- sample a vector in above convex face that expanded with depend on target size"
   ]
  },
  {
   "cell_type": "code",
   "execution_count": 90,
   "metadata": {},
   "outputs": [
    {
     "name": "stdout",
     "output_type": "stream",
     "text": [
      "[[ 1.01877164  1.10243339  0.2       ]\n",
      " [-2.2190668  -0.06270508  0.2       ]\n",
      " [-1.05812455 -1.41798253  0.2       ]]\n"
     ]
    }
   ],
   "source": [
    "zone_samples = [None]*len(zone_hull_expand)\n",
    "for i in range(len(zone_samples)):\n",
    "    ## sample_surface return tuple, so choice 0 index\n",
    "    samples = trimesh.sample.sample_surface(zone_hull_expand[i], 100)[0]\n",
    "    zone_samples[i] = samples[\n",
    "        np.logical_and(\n",
    "            np.not_equal(samples[:,2], 0), \n",
    "            np.not_equal(samples[:,2], OBSTACLE_SIZE)\n",
    "        )\n",
    "    ]\n",
    "\n",
    "choiced_goal = np.zeros([len(zone_hull_expand),3])\n",
    "for i in range(len(choiced_goal)):\n",
    "    choiced_goal[i] = zone_samples[i][np.random.choice(range(len(zone_samples[i])))]\n",
    "    \n",
    "choiced_goal[:,2] = TARGET_SIZE/2\n",
    "\n",
    "print(choiced_goal)\n",
    "for model, p in zip(models_target, choiced_goal):\n",
    "    model.spawn(\n",
    "        gazebo_proxy=gazebo_proxy, \n",
    "        robot_namespace=model.name,\n",
    "        pos=list(p)\n",
    "    )"
   ]
  },
  {
   "cell_type": "code",
   "execution_count": 100,
   "metadata": {},
   "outputs": [],
   "source": [
    "def delete_models(model_name, start=None, stop=None):\n",
    "    if start is not None and stop is not None:\n",
    "        for i in range(start, stop+1):\n",
    "            gazebo_proxy.delete_model(model_name=model_name+\"_\"+str(i))\n",
    "    else:\n",
    "        gazebo_proxy.delete_model(model_name='')\n",
    "        \n",
    "delete_models('box_static_var_size', 0, 10)"
   ]
  },
  {
   "cell_type": "code",
   "execution_count": null,
   "metadata": {},
   "outputs": [],
   "source": []
  }
 ],
 "metadata": {
  "kernelspec": {
   "display_name": "Python 2",
   "language": "python",
   "name": "python2"
  },
  "language_info": {
   "codemirror_mode": {
    "name": "ipython",
    "version": 2
   },
   "file_extension": ".py",
   "mimetype": "text/x-python",
   "name": "python",
   "nbconvert_exporter": "python",
   "pygments_lexer": "ipython2",
   "version": "2.7.17"
  }
 },
 "nbformat": 4,
 "nbformat_minor": 2
}
