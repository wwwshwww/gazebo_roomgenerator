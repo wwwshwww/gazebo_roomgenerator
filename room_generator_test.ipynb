{
 "cells": [
  {
   "cell_type": "code",
   "execution_count": null,
   "metadata": {},
   "outputs": [],
   "source": [
    "DEFAULT_I = 10\n",
    "try:\n",
    "    i = rospy.get_param('ii')\n",
    "except:\n",
    "    print('can not collect param. Going to use default value.')\n",
    "    i = DEFAULT_I\n",
    "    \n",
    "print(i)"
   ]
  },
  {
   "cell_type": "code",
   "execution_count": 3,
   "metadata": {},
   "outputs": [
    {
     "name": "stderr",
     "output_type": "stream",
     "text": [
      "/usr/local/lib/python2.7/dist-packages/quaternion/numba_wrapper.py:21: UserWarning: \n",
      "\n",
      "!!!!!!!!!!!!!!!!!!!!!!!!!!!!!!!!!!!!!!!!!!!!!!!!!!!!!\n",
      "Could not import from numba, which means that some\n",
      "parts of this code may run MUCH more slowly.  You\n",
      "may wish to install numba.\n",
      "!!!!!!!!!!!!!!!!!!!!!!!!!!!!!!!!!!!!!!!!!!!!!!!!!!!!!\n",
      "\n",
      "  warnings.warn(warning_text)\n"
     ]
    }
   ],
   "source": [
    "import quaternion\n",
    "from shapely.geometry import Polygon\n",
    "\n",
    "def get_square_horizon(base_pos, radius, z_angle=0):\n",
    "    d1 = [1,1,-1,-1]\n",
    "    d2 = [1,-1,-1,1]\n",
    "    poss = np.array([np.quaternion(1,d1[i]*radius,d2[i]*radius,0) for i in range(4)])\n",
    "    q = quaternion.from_euler_angles(0,0,z_angle)\n",
    "    pq = q*poss*q.conj()\n",
    "    \n",
    "    return np.array([[p.x, p.y, p.z] for p in pq])+base_pos\n",
    "\n",
    "def get_extended_face(face_vertices, length):\n",
    "    face_bottom = np.copy(face_vertices)\n",
    "    face_bottom[:,2] += length\n",
    "    return np.concatenate([face_vertices, face_bottom])\n",
    "\n",
    "def unique_augment_poly(polygon, length):\n",
    "    '''\n",
    "    arg1: must be object of shapely.geometry such as Polygon and more.\n",
    "    arg2: length of augmentation to centroid\n",
    "    '''\n",
    "    p = np.array(np.array(polygon.exterior.coords))\n",
    "    r = p - polygon.centroid\n",
    "    n = r / np.linalg.norm(r, axis=1, ord=2)[np.newaxis,:].T\n",
    "    return Polygon(p+n*length)\n",
    "\n",
    "# p = [0, 0, 0]\n",
    "# ang = np.pi/4\n",
    "# print(get_square_horizon(p, 0.1, ang))"
   ]
  },
  {
   "cell_type": "code",
   "execution_count": 1,
   "metadata": {},
   "outputs": [
    {
     "name": "stdout",
     "output_type": "stream",
     "text": [
      "ROS_MASTER_URI=http://localhost:11311, GAZEBO_MASTER_URI=http://localhost:11345\n"
     ]
    }
   ],
   "source": [
    "from pcg_gazebo.task_manager import ProcessManager\n",
    "from pcg_gazebo.generators.creators import create_models_from_config\n",
    "\n",
    "TARGET_SIM = dict(\n",
    "    ros_host='localhost',\n",
    "    ros_port=11311,\n",
    "    gazebo_host='localhost',\n",
    "    gazebo_port=11345\n",
    ")\n",
    "\n",
    "process_manager = ProcessManager(**TARGET_SIM)\n",
    "gazebo_proxy = process_manager.get_gazebo_proxy()\n",
    "print(gazebo_proxy.ros_config)"
   ]
  },
  {
   "cell_type": "code",
   "execution_count": 180,
   "metadata": {},
   "outputs": [
    {
     "name": "stdout",
     "output_type": "stream",
     "text": [
      "(array([-0.62174862, -1.21196953,  0.3       ]), array([0.        , 0.        , 5.82855672]))\n",
      "(array([ 2.27040742, -0.77527883,  0.3       ]), array([0.        , 0.        , 4.14716173]))\n",
      "(array([ 1.59978379, -2.11465862,  0.3       ]), array([0.        , 0.        , 3.51803078]))\n",
      "(array([ 0.58191248, -0.82805438,  0.3       ]), array([0.        , 0.        , 1.91335738]))\n",
      "(array([-2.43123406, -2.14756492,  0.3       ]), array([0.        , 0.        , 0.03685378]))\n",
      "(array([-2.09971557, -1.49841384,  0.3       ]), array([0.        , 0.        , 5.73678102]))\n",
      "(array([-2.19974165, -1.25127643,  0.3       ]), array([0.        , 0.        , 4.45974618]))\n",
      "(array([ 0.83266128, -0.45692212,  0.3       ]), array([0.        , 0.        , 1.66010784]))\n",
      "(array([1.01849636, 0.68643637, 0.3       ]), array([0.        , 0.        , 0.40925882]))\n",
      "(array([-0.15311434,  1.10561757,  0.3       ]), array([0.        , 0.        , 0.45904319]))\n",
      "(array([ 1.27903733, -1.96740843,  0.3       ]), array([0.       , 0.       , 4.7104135]))\n",
      "(array([-1.57380573, -0.83650348,  0.3       ]), array([0.       , 0.       , 0.5666163]))\n",
      "(array([ 2.36209355, -1.83002666,  0.3       ]), array([0.     , 0.     , 4.56253]))\n",
      "(array([-1.86241404, -1.01269502,  0.3       ]), array([0.      , 0.      , 5.184174]))\n",
      "(array([ 1.41852369, -0.87382301,  0.3       ]), array([0.        , 0.        , 2.85612463]))\n"
     ]
    },
    {
     "data": {
      "image/svg+xml": [
       "<svg xmlns=\"http://www.w3.org/2000/svg\" xmlns:xlink=\"http://www.w3.org/1999/xlink\" width=\"100.0\" height=\"100.0\" viewBox=\"-3.06974000491 -2.53970352426 6.1333421109 4.58532728494\" preserveAspectRatio=\"xMinYMin meet\"><g transform=\"matrix(1,0,0,-1,0,-0.494079763588)\"><path fill-rule=\"evenodd\" fill=\"#66cc99\" stroke=\"#555555\" stroke-width=\"0.122666842218\" opacity=\"0.6\" d=\"M -2.80113702735,-2.31212685647 L -2.80577693527,-2.31254270534 L -2.81031693801,-2.31253975397 L -2.81471119829,-2.31211808766 L -2.81891531309,-2.3112821126 L -2.82288675776,-2.31004050573 L -2.82658531299,-2.30840611874 L -2.82997347053,-2.30639583747 L -2.83301681369,-2.30403039855 L -2.83568436851,-2.30133416556 L -2.8379489222,-2.29833486759 L -2.83978730525,-2.29506330322 L -2.84118063422,-2.29155301359 L -2.84211451239,-2.28783992835 L -2.84257918599,-2.28396198865 L -2.84256965392,-2.27995875134 L -2.84208572962,-2.27587097898 L -2.84113205396,-2.27174021998 L -2.83971805854,-2.26760838357 L -1.89933178746,0.356244128719 L -1.89868521172,0.359403782572 L -1.89759315676,0.362392704786 L -1.89606648143,0.365181477499 L -1.89412016369,0.367742577263 L -1.89177314591,0.370050664909 L -1.88904814468,0.372082854543 L -1.88597142689,0.373818958437 L -1.88257255484,0.375241704367 L -0.985610843668,0.722547536228 L -0.982932577366,0.723641759364 L 0.648867446584,1.81150984423 L 0.652367920754,1.81388814587 L 0.655959862007,1.8157899378 L 0.659604507833,1.81719521242 L 0.66326239748,1.81808928627 L 0.66689381044,1.81846294175 L 0.670459212226,1.818312511 L 0.673919701951,1.81763990165 L 0.677237455954,1.81645256459 L 1.29239337111,1.58728913624 L 1.29540329279,1.5861435103 L 1.2982083384,1.58461389406 L 1.30078350325,1.58271396799 L 1.30310577348,1.580460613 L 1.30515434294,1.57787375431 L 1.30691081108,1.57497618049 L 1.4884159615,1.24408036526 L 1.49005300611,1.24069017419 L 1.49124301142,1.23697048135 L 1.49197159258,1.23296430794 L 2.83208082747,-2.20016119364 L 2.83226667424,-2.20054214377 L 2.83381819407,-2.2041336529 L 2.83396351053,-2.20451928522 L 2.83512877978,-2.20813730763 L 2.83523218495,-2.20852391559 L 2.83600017042,-2.21213364417 L 2.83606069018,-2.21251750499 L 2.83642421138,-2.21608414835 L 2.83644128707,-2.21646155886 L 2.83639707739,-2.21995067777 L 2.83637057026,-2.22031799041 L 2.83591929972,-2.22369583308 L 2.83584949136,-2.22404949148 L 2.83499575123,-2.22728332441 L 2.83488333985,-2.22761989837 L 2.83363558946,-2.23067832923 L 2.83348168226,-2.23099454866 L 2.83185215881,-2.23384783792 L 2.83165826037,-2.23414062544 L 2.82966285303,-2.23676098328 L 2.82943085004,-2.23702748497 L 2.8270889397,-2.23938935043 L 2.82682108207,-2.23962696465 L 2.82415534861,-2.24170726374 L 2.82385422719,-2.24191366742 L 2.82089042631,-2.24369204742 L 2.82055894753,-2.24386521971 L 2.81732565949,-2.24532425694 L 2.81696701713,-2.24546249994 L 2.8134953699,-2.24658787852 L 2.81311301423,-2.24668983472 L 2.80943638384,-2.24747049437 L 2.80903398849,-2.2475351607 L 2.80518767949,-2.24796341159 L 2.80476910638,-2.24799014992 L 2.80079001533,-2.24806175338 L 2.80035927793,-2.24805029724 L 2.79628554325,-2.24776451116 L 2.79584676856,-2.24771496865 L -2.80113702735,-2.31212685647 z\" /></g></svg>"
      ],
      "text/plain": [
       "<shapely.geometry.polygon.Polygon at 0x7fbb7e333bd0>"
      ]
     },
     "execution_count": 180,
     "metadata": {},
     "output_type": "execute_result"
    }
   ],
   "source": [
    "## spawn box to the any place of wall collision space coordinates\n",
    "\n",
    "import numpy as np\n",
    "from pcg_gazebo.generators.shapes import random_rectangle, \\\n",
    "    random_points_to_triangulation, random_rectangles\n",
    "import trimesh\n",
    "from shapely.geometry import Polygon\n",
    "\n",
    "THRESHOLD_WALL = 0.5\n",
    "ROOM_SIZE_RADIUS = 4.1\n",
    "ROOM_WALL_HEIGHT = 0.8\n",
    "ROOM_WALL_THICKNESS = 0.05\n",
    "OBSTACLE_NUM = 15\n",
    "OBSTACLE_SIZE = 0.6\n",
    "TARGET_SIZE = 0.2\n",
    "AGENT_SIZE = 0.3\n",
    "CLUSTER_EPS = 1.3\n",
    "\n",
    "config = [\n",
    "    dict(\n",
    "        type='extrude',\n",
    "        args=dict(\n",
    "            polygon=random_points_to_triangulation(\n",
    "                x_min=-ROOM_SIZE_RADIUS,\n",
    "                x_max=ROOM_SIZE_RADIUS,\n",
    "                y_min=-ROOM_SIZE_RADIUS,\n",
    "                y_max=ROOM_SIZE_RADIUS\n",
    "            ),\n",
    "            height=ROOM_WALL_HEIGHT,\n",
    "            thickness=ROOM_WALL_THICKNESS,\n",
    "            extrude_boundaries=True,\n",
    "            name='extruded_poly_triangulation',\n",
    "            color='random'\n",
    "        )\n",
    "    )\n",
    "]\n",
    "\n",
    "models = create_models_from_config(config)\n",
    "\n",
    "for model in models:\n",
    "    col = model.get_link_by_name(model.name).collisions[0]\n",
    "    col_mesh = col.geometry._geometry_entity.get_meshes()[0] # Trimesh of not corrected by pose\n",
    "    col_poly = Polygon((col_mesh.vertices+col.pose.position)[::2,:2]).convex_hull\n",
    "    sample_pts = col.geometry._geometry_entity.get_samples(OBSTACLE_NUM)\n",
    "\n",
    "    model.spawn(\n",
    "        gazebo_proxy=gazebo_proxy, \n",
    "        robot_namespace=model.name,\n",
    "        pos=[0,0,ROOM_WALL_HEIGHT/2]\n",
    "    )\n",
    "\n",
    "mini_col_poly = unique_augment_poly(col_poly, -1*(THRESHOLD_WALL+OBSTACLE_SIZE+ROOM_WALL_THICKNESS))\n",
    "sample_pts_2d = trimesh.path.polygons.sample(mini_col_poly, OBSTACLE_NUM)\n",
    "sample_pts = np.concatenate([\n",
    "    sample_pts_2d[np.newaxis,:,0].T, \n",
    "    sample_pts_2d[np.newaxis,:,1].T, \n",
    "    np.full([len(sample_pts_2d),1], OBSTACLE_SIZE/2)\n",
    "], 1)\n",
    "    \n",
    "# mini_col_mesh = trimesh.Trimesh(np.array(col_mesh.vertices)*THRESHOLD_WALL)\n",
    "# sample_pts = np.array(mini_col_mesh.convex_hull.sample(len(sample_pts)))\n",
    "# sample_pts += col.pose.position * THRESHOLD_WALL\n",
    "# sample_pts[:,2] = OBSTACLE_SIZE/2\n",
    "\n",
    "sample_rot = np.zeros_like(sample_pts)\n",
    "sample_rot[:,2] = np.random.random([len(sample_pts)])*np.pi*2\n",
    "\n",
    "sizes = [[OBSTACLE_SIZE, OBSTACLE_SIZE, OBSTACLE_SIZE]]*len(sample_pts)\n",
    "\n",
    "config_obstacle_box = [\n",
    "    dict(\n",
    "        type='box_factory',\n",
    "        args=dict(\n",
    "            size=sizes,\n",
    "            name='obstacle_box',\n",
    "            use_permutation=True,\n",
    "            color='white'\n",
    "        )\n",
    "    )\n",
    "]\n",
    "\n",
    "models_box = create_models_from_config(config_obstacle_box)\n",
    "for model, p, r in zip(models_box, sample_pts, sample_rot):\n",
    "    print(p, r)\n",
    "    model.spawn(\n",
    "        gazebo_proxy=gazebo_proxy, \n",
    "        robot_namespace=model.name,\n",
    "        pos=list(p),\n",
    "        rot=list(r)\n",
    "    )\n",
    "mini_col_poly"
   ]
  },
  {
   "cell_type": "code",
   "execution_count": 181,
   "metadata": {},
   "outputs": [
    {
     "name": "stdout",
     "output_type": "stream",
     "text": [
      "[0 1 2 1 3 3 3 1 4 5 2 3 2 3 1]\n"
     ]
    }
   ],
   "source": [
    "from sklearn.cluster import DBSCAN\n",
    "\n",
    "db = DBSCAN(eps=np.sqrt((OBSTACLE_SIZE**2)*2)+AGENT_SIZE/2, min_samples=1).fit(np.array(sample_pts))\n",
    "labels = db.labels_\n",
    "print(labels)\n"
   ]
  },
  {
   "cell_type": "code",
   "execution_count": 182,
   "metadata": {},
   "outputs": [],
   "source": [
    "sizes = [[TARGET_SIZE, TARGET_SIZE, TARGET_SIZE]]*(max(labels)+1)\n",
    "config_target_box = [\n",
    "    dict(\n",
    "        type='box_factory',\n",
    "        args=dict(\n",
    "            size=sizes,\n",
    "            name='target_box',\n",
    "            use_permutation=True,\n",
    "            color='cyan'\n",
    "        )\n",
    "    )\n",
    "]\n",
    "\n",
    "models_target = create_models_from_config(config_target_box)"
   ]
  },
  {
   "cell_type": "code",
   "execution_count": 183,
   "metadata": {},
   "outputs": [
    {
     "data": {
      "image/svg+xml": [
       "<svg xmlns=\"http://www.w3.org/2000/svg\" xmlns:xlink=\"http://www.w3.org/1999/xlink\" width=\"100.0\" height=\"100.0\" viewBox=\"-4.1294040229 -3.23272588457 8.25880804581 6.46545176914\" preserveAspectRatio=\"xMinYMin meet\"><g transform=\"matrix(1,0,0,-1,0,1.09379172386e-12)\"><path fill-rule=\"evenodd\" fill=\"#66cc99\" stroke=\"#555555\" stroke-width=\"0.165176160916\" opacity=\"0.6\" d=\"M -3.77305405274,-2.92684410509 L -3.77808572171,-2.92664011113 L -3.78307135135,-2.92593102496 L -3.78796036883,-2.92472403935 L -3.7927031813,-2.92303139762 L -3.79725167899,-2.92087026947 L -3.80155972321,-2.91826257678 L -3.80558361434,-2.91523477126 L -3.80928253516,-2.91181756613 L -3.81261896484,-2.90804562457 L -3.81555905956,-2.9039572081 L -3.81807299582,-2.8995937885 L -3.82013527294,-2.89499962707 L -3.82172497176,-2.89022132572 L -3.82282596681,-2.88530735421 L -3.82342708991,-2.88030755849 L -3.82352224343,-2.87527265512 L -3.82311046216,-2.87025371676 L -3.82219592309,-2.86530165411 L -2.94315881124,0.838867319656 L -2.94179367971,0.843578052866 L -2.93997359146,0.848132377196 L -2.93771605908,0.852486471706 L -2.93504280419,0.856598441996 L -2.9319795484,0.860428723376 L -2.92855576586,0.863940461476 L -2.92480439965,0.867099866956 L -2.9207615448,0.869876540516 L -1.70431492278,1.62030276271 L -1.70008198575,1.62263938231 L 0.94854232911,2.92177781404 L 0.95330445683,2.92381481068 L 0.95825176284,2.92534823131 L 0.96333115819,2.92636162098 L 0.96848813645,2.9268441051 L 0.97366735867,2.9267905062 L 0.97881324721,2.92620139944 L 0.98387058213,2.92508310646 L 0.98878509374,2.92344762754 L 1.88585336661,2.57232986319 L 1.89012565275,2.57042259398 L 1.89420095989,2.56812433891 L 1.89804360447,2.56545522158 L 1.90161994014,2.56243861292 L 1.90489865235,2.55910092645 L 1.90785103256,2.55547138712 L 2.22264929284,2.12918002923 L 2.2256015385,2.12469716314 L 2.22805621542,2.11992365248 L 2.2299850341,2.1149145107 L 3.82108214642,-2.78699710861 L 3.82122626386,-2.78744837998 L 3.82236618976,-2.79173288725 L 3.8224653809,-2.79219611161 L 3.82317986259,-2.79657172008 L 3.82323317217,-2.79704243632 L 3.82351532881,-2.80146700649 L 3.82352224343,-2.80194068136 L 3.82336935769,-2.8063716022 L 3.82332981076,-2.80684367394 L 3.82274335502,-2.81123827327 L 3.8226577274,-2.81170419558 L 3.82164334954,-2.816020151 L 3.82151246587,-2.81647543679 L 3.82007993491,-2.82067118328 L 3.81990505566,-2.82111144791 L 3.81806816766,-2.82514657815 L 3.81785097703,-2.82556758161 L 3.81562742222,-2.82940323509 L 3.81537001186,-2.8298009229 L 3.81278120429,-2.83340016017 L 3.81248605321,-2.83377070238 L 3.80955692451,-2.83709886083 L 3.80922687518,-2.83743868891 L 3.80598563446,-2.84046371655 L 3.80562386543,-2.84076955778 L 3.80210172761,-2.84346232193 L 3.80171172291,-2.84373123088 L 3.79794260811,-2.84606579876 L 3.7975281237,-2.8462951857 L 3.79354833055,-2.84824907414 L 3.79311335815,-2.84843672994 L 3.78896121423,-2.84999112194 L 3.78850994286,-2.85013523937 L 3.78422543559,-2.85127516527 L 3.78376221123,-2.85137435641 L 3.77938660276,-2.8520888381 L 3.77891588652,-2.85214214768 L 3.77449131635,-2.85242430432 L 3.77401764148,-2.85243121894 L -3.77305405274,-2.92684410509 z M -0.220482766694,-1.07418087569 L -0.483959962064,-1.61323538826 L -1.02301447463,-1.34975819289 L -0.759537279262,-0.810703680324 L -0.220482766694,-1.07418087569 z M 2.36306516974,-1.18930122418 L 1.85638502622,-0.867936583676 L 2.17774966672,-0.361256440158 L 2.68442981024,-0.682621080658 L 2.36306516974,-1.18930122418 z M 1.04618273553,-1.07720002455 L 1.14811744484,-0.729873576336 L 0.87415424162,-0.754406910243 L 0.965251862667,-1.00985350101 L 0.400113363858,-1.2113937629 L 0.198573101964,-0.646255264096 L 0.537588963574,-0.525355085327 L 0.507099119055,-0.184875658357 L 1.10470774524,-0.13135996063 L 1.15592284819,-0.703277895228 L 1.21514667365,-0.501482048789 L 1.79086464941,-0.67044598691 L 1.62190071129,-1.24616396267 L 1.04618273553,-1.07720002455 z M 2.61394158128,-2.17145391369 L 2.02066629575,-2.08187469972 L 2.11024550972,-1.48859941419 L 2.70352079525,-1.57817862816 L 2.61394158128,-2.17145391369 z M 1.43107291836,-2.50393569842 L 1.33762239466,-2.26752474582 L 0.978445272781,-2.26681519757 L 0.979630560181,-1.66681636833 L 1.57962938943,-1.66800165573 L 1.57936835042,-1.80014099915 L 1.7684946644,-1.7253815479 L 1.98906086665,-2.28336949618 L 1.43107291836,-2.50393569842 z M -2.14249139424,-1.83671499662 L -2.12038413312,-2.43630758247 L -2.71997671896,-2.4584148436 L -2.74208398009,-1.85882225775 L -2.14249139424,-1.83671499662 z M -1.68751051524,-1.39797983248 L -1.99928157025,-1.91061889582 L -2.51192063359,-1.59884784081 L -2.44972283859,-1.49657721992 L -2.56520733205,-1.466763866 L -2.41522909289,-0.885810745883 L -2.24099420398,-0.930791039362 L -2.26598468936,-0.881810597002 L -1.95252460421,-0.721879014118 L -1.48172316055,-0.422352782584 L -1.15965502769,-0.928586046799 L -1.46833748946,-1.12497137178 L -1.45884339587,-1.14357944989 L -1.65447784825,-1.24339479837 L -1.6658882919,-1.25065417966 L -1.66657877935,-1.24956885739 L -1.81066278669,-1.3230824703 L -1.68751051524,-1.39797983248 z M 1.17434232388,1.0810400158 L 1.41310000139,0.530590407365 L 0.862650392947,0.291832729856 L 0.623892715438,0.842282338296 L 1.17434232388,1.0810400158 z M -0.017098443347,1.5074877902 L 0.248755885286,0.969601672191 L -0.289130232724,0.703747343558 L -0.554984561356,1.24163346157 L -0.017098443347,1.5074877902 z\" /></g></svg>"
      ],
      "text/plain": [
       "<shapely.geometry.polygon.Polygon at 0x7fbb97de4b10>"
      ]
     },
     "execution_count": 183,
     "metadata": {},
     "output_type": "execute_result"
    }
   ],
   "source": [
    "import shapely\n",
    "from shapely.geometry.polygon import Polygon, LinearRing, LineString\n",
    "\n",
    "zone_base_2d = [None]*(max(labels)+1)\n",
    "for i in range(len(zone_base_2d)):\n",
    "    pts = sample_pts_2d[labels==i]\n",
    "    \n",
    "    #A\n",
    "#     if len(pts) > 2:\n",
    "#         zone_base_2d[i] = trimesh.convex.hull_points(pts)\n",
    "#     else:\n",
    "#         zone_base_2d[i] = pts\n",
    "\n",
    "zone_vertices_2d = [None]*len(zone_base_2d)\n",
    "zone_polys = [None]*len(zone_base_2d)\n",
    "for i in range(len(zone_base_2d)):\n",
    "    pts = sample_pts[labels==i]\n",
    "    rts = sample_rot[labels==i]\n",
    "    vertices = [get_square_horizon(p, OBSTACLE_SIZE/2, r[2]) for p,r in zip(pts,rts)]\n",
    "    vertices_all = np.concatenate(vertices)\n",
    "\n",
    "    zone_vertices_2d[i] = trimesh.convex.hull_points(vertices_all[:,:2])\n",
    "    zone_polys[i] = shapely.ops.unary_union([Polygon(v) for v in vertices])\n",
    "    \n",
    "zone_hull = [None]*len(zone_base_2d)\n",
    "for i in range(len(zone_base_2d)):\n",
    "    p3 = np.zeros([len(zone_vertices_2d[i]),3])\n",
    "    p3[:,:2] = zone_vertices_2d[i]\n",
    "    zone_hull[i] = trimesh.Trimesh(vertices=get_extended_face(p3, OBSTACLE_SIZE)).convex_hull\n",
    "\n",
    "\n",
    "all_poly = []\n",
    "for polys in zone_polys:\n",
    "    if isinstance(polys, Polygon):\n",
    "        all_poly.append(polys)\n",
    "    else:\n",
    "        for p in polys:\n",
    "            all_poly.append(p)\n",
    "\n",
    "map_poly = Polygon(list(col_poly.exterior.coords), map(lambda p: list(p.exterior.coords), all_poly))\n",
    "map_poly\n",
    "\n",
    "# hull_points_2d = [None]*(max(labels)+1)\n",
    "# for i in range(len(hull_points_2d)):\n",
    "#     pts = sample_pts[labels==i]\n",
    "#     if len(pts) < 3:\n",
    "#         v = []\n",
    "#         for p in pts:\n",
    "#             v.extend(get_square_horizon(p, 0.05))\n",
    "#         pts = np.array(v)\n",
    "        \n",
    "# #     convex_2d = ConvexHull(pts[:,:2])\n",
    "#     hull_points_2d[i] = trimesh.convex.hull_points(pts[:,:2])\n",
    "\n",
    "\n",
    "# zone_hull = [None]*(len(hull_points_2d)) # trimesh.Trimesh in\n",
    "# for i in range(len(zone_hull)):\n",
    "#     tmp = np.zeros([len(hull_points_2d[i]), 3])\n",
    "#     tmp[:,:2] = hull_points_2d[i]\n",
    "#     pts = get_extended_face(tmp, OBSTACLE_SIZE)\n",
    "#     zone_hull[i] = trimesh.Trimesh(vertices=pts).convex_hull\n",
    "    \n",
    "    \n",
    "# zone_hull_expand = [None]*(len(hull_points_2d)) # trimesh.Trimesh in\n",
    "# zone_vecs_g2v = [None]*(len(hull_points_2d)) # normalized vector centroid to vertice\n",
    "# hull_points_2d_expand = [None]*(len(hull_points_2d))\n",
    "# for i in range(len(zone_hull_expand)):\n",
    "#     g = np.mean(hull_points_2d[i], axis=0)\n",
    "    \n",
    "# #     g = Polygon(hull_points_2d[i]).convex_hull.centroid.coords[0]\n",
    "\n",
    "#     vec_g2v = hull_points_2d[i]-g\n",
    "#     norm = np.linalg.norm(vec_g2v, axis=1, ord=2)\n",
    "#     zone_vecs_g2v[i] = vec_g2v / (np.array([norm]).T) ## KETAOTI OKIRUYO\n",
    "#     hull_points_2d_expand[i] = hull_points_2d[i]+zone_vecs_g2v[i]*(np.sqrt((OBSTACLE_SIZE**2)*2)/2)\n",
    "    \n",
    "#     tmp = np.zeros([len(hull_points_2d[i]), 3])\n",
    "#     tmp[:,:2] = hull_points_2d_expand[i]\n",
    "#     pts = get_extended_face(tmp, OBSTACLE_SIZE)\n",
    "#     zone_hull_expand[i] = trimesh.Trimesh(vertices=pts).convex_hull\n",
    "    \n",
    "# print(\"zone_vecs_g2v\", zone_vecs_g2v)\n",
    "# print(\"zone_full: \\n{}\".format(zone_hull[0].mass))\n",
    "# print(\"zone_full_expand: \\n{}\".format(zone_hull_expand[0].mass))\n"
   ]
  },
  {
   "cell_type": "code",
   "execution_count": 184,
   "metadata": {},
   "outputs": [
    {
     "data": {
      "image/svg+xml": [
       "<svg xmlns=\"http://www.w3.org/2000/svg\" xmlns:xlink=\"http://www.w3.org/1999/xlink\" width=\"100.0\" height=\"100.0\" viewBox=\"0.592324424 0.260264438418 0.852343868823 0.852343868823\" preserveAspectRatio=\"xMinYMin meet\"><g transform=\"matrix(1,0,0,-1,0,1.37287274566)\"><path fill-rule=\"evenodd\" fill=\"#66cc99\" stroke=\"#555555\" stroke-width=\"0.0170468773765\" opacity=\"0.6\" d=\"M 1.17434232388,1.0810400158 L 1.41310000139,0.530590407365 L 0.862650392947,0.291832729856 L 0.623892715438,0.842282338296 L 1.17434232388,1.0810400158 z\" /></g></svg>"
      ],
      "text/plain": [
       "<shapely.geometry.polygon.Polygon at 0x7fbb979bd550>"
      ]
     },
     "execution_count": 184,
     "metadata": {},
     "output_type": "execute_result"
    }
   ],
   "source": [
    "zone_polys[4]"
   ]
  },
  {
   "cell_type": "markdown",
   "metadata": {},
   "source": [
    "### Methods to generate position of target\n",
    "\n",
    "Target position is sampled from convex face formed by cluster."
   ]
  },
  {
   "cell_type": "code",
   "execution_count": 185,
   "metadata": {},
   "outputs": [
    {
     "name": "stdout",
     "output_type": "stream",
     "text": [
      "[[-0.66759975 -0.85564059  0.1       ]\n",
      " [ 1.89594214 -0.3008799   0.1       ]\n",
      " [ 2.57038014 -1.55807559  0.1       ]\n",
      " [-1.23811512 -0.80526088  0.1       ]\n",
      " [ 1.22965358  0.95352136  0.1       ]\n",
      " [-0.43742897  1.29973621  0.1       ]]\n"
     ]
    }
   ],
   "source": [
    "zone_samples = [None]*len(zone_hull)\n",
    "for i in range(len(zone_samples)):\n",
    "    ## sample_surface return tuple, so choice 0 index\n",
    "    samples = trimesh.sample.sample_surface_even(zone_hull[i], 100)[0]\n",
    "    zone_samples[i] = samples[\n",
    "        np.logical_and(\n",
    "            np.not_equal(samples[:,2], 0), \n",
    "            np.not_equal(samples[:,2], OBSTACLE_SIZE)\n",
    "        )\n",
    "    ]\n",
    "\n",
    "choiced_goal = np.zeros([len(zone_hull),3])\n",
    "for i in range(len(choiced_goal)):\n",
    "    choiced_goal[i] = zone_samples[i][np.random.choice(range(len(zone_samples[i])))]\n",
    "    \n",
    "choiced_goal[:,2] = TARGET_SIZE/2\n",
    "\n",
    "print(choiced_goal)\n",
    "for model, p in zip(models_target, choiced_goal):\n",
    "    model.get_link_by_name('link').disable_collision()\n",
    "    model.spawn(\n",
    "        gazebo_proxy=gazebo_proxy, \n",
    "        robot_namespace=model.name,\n",
    "        pos=list(p)\n",
    "    )"
   ]
  },
  {
   "cell_type": "code",
   "execution_count": 153,
   "metadata": {},
   "outputs": [],
   "source": [
    "def delete_models(model_name, start=None, stop=None):\n",
    "    if start is not None and stop is not None:\n",
    "        for i in range(start, stop+1):\n",
    "            gazebo_proxy.delete_model(model_name=model_name+\"_\"+str(i))\n",
    "    else:\n",
    "        gazebo_proxy.delete_model(model_name=model_name)\n",
    "        \n",
    "delete_models('target_box', 0, 7)"
   ]
  },
  {
   "cell_type": "code",
   "execution_count": null,
   "metadata": {},
   "outputs": [],
   "source": []
  }
 ],
 "metadata": {
  "kernelspec": {
   "display_name": "Python 2",
   "language": "python",
   "name": "python2"
  },
  "language_info": {
   "codemirror_mode": {
    "name": "ipython",
    "version": 2
   },
   "file_extension": ".py",
   "mimetype": "text/x-python",
   "name": "python",
   "nbconvert_exporter": "python",
   "pygments_lexer": "ipython2",
   "version": "2.7.17"
  }
 },
 "nbformat": 4,
 "nbformat_minor": 2
}
