{
 "cells": [
  {
   "cell_type": "code",
   "execution_count": null,
   "metadata": {},
   "outputs": [],
   "source": [
    "import rospy"
   ]
  },
  {
   "cell_type": "code",
   "execution_count": null,
   "metadata": {},
   "outputs": [],
   "source": [
    "DEFAULT_I = 10\n",
    "try:\n",
    "    i = rospy.get_param('ii')\n",
    "except:\n",
    "    print('can not collect param. Going to use default value.')\n",
    "    i = DEFAULT_I\n",
    "    \n",
    "print(i)"
   ]
  },
  {
   "cell_type": "code",
   "execution_count": 142,
   "metadata": {},
   "outputs": [
    {
     "name": "stdout",
     "output_type": "stream",
     "text": [
      "ROS_MASTER_URI=http://localhost:11311, GAZEBO_MASTER_URI=http://localhost:11345\n"
     ]
    }
   ],
   "source": [
    "from pcg_gazebo.task_manager import ProcessManager\n",
    "from pcg_gazebo.generators.creators import create_models_from_config\n",
    "\n",
    "TARGET_SIM = dict(\n",
    "    ros_host='localhost',\n",
    "    ros_port=11311,\n",
    "    gazebo_host='localhost',\n",
    "    gazebo_port=11345\n",
    ")\n",
    "\n",
    "process_manager = ProcessManager(**TARGET_SIM)\n",
    "gazebo_proxy = process_manager.get_gazebo_proxy()\n",
    "print(gazebo_proxy.ros_config)"
   ]
  },
  {
   "cell_type": "code",
   "execution_count": 150,
   "metadata": {},
   "outputs": [
    {
     "name": "stdout",
     "output_type": "stream",
     "text": [
      "(array([ 1.12461951, -1.45205863,  0.3       ]), array([0.        , 0.        , 1.78813155]))\n",
      "(array([1.34868037, 0.02216959, 0.3       ]), array([0.        , 0.        , 3.35591751]))\n",
      "(array([2.34166548, 2.07576645, 0.3       ]), array([0.        , 0.        , 4.14478781]))\n",
      "(array([1.36220416, 0.27588971, 0.3       ]), array([0.        , 0.        , 0.73812596]))\n",
      "(array([-0.97375057,  1.75306833,  0.3       ]), array([0.        , 0.        , 2.40670683]))\n",
      "(array([-0.0970659 ,  0.24139443,  0.3       ]), array([0.        , 0.        , 5.67198187]))\n",
      "(array([-0.69470171,  1.36704925,  0.3       ]), array([0.        , 0.        , 5.32168816]))\n",
      "(array([-2.04275639,  1.47902143,  0.3       ]), array([0.        , 0.        , 2.82380426]))\n",
      "(array([-2.47291253,  1.9446173 ,  0.3       ]), array([0.        , 0.        , 2.19657143]))\n",
      "(array([1.7335728 , 0.36703603, 0.3       ]), array([0.        , 0.        , 5.03059921]))\n",
      "(array([ 2.22578967, -0.49420778,  0.3       ]), array([0.        , 0.        , 0.50818811]))\n",
      "(array([ 1.79939638, -1.52764433,  0.3       ]), array([0.        , 0.        , 4.32114727]))\n",
      "(array([-1.05825414,  1.2688001 ,  0.3       ]), array([0.        , 0.        , 0.31021981]))\n",
      "(array([2.5676823 , 0.12738875, 0.3       ]), array([0.        , 0.        , 1.90505729]))\n",
      "(array([2.67776274, 1.5579882 , 0.3       ]), array([0.        , 0.        , 5.05200756]))\n"
     ]
    },
    {
     "data": {
      "image/svg+xml": [
       "<svg xmlns=\"http://www.w3.org/2000/svg\" xmlns:xlink=\"http://www.w3.org/1999/xlink\" width=\"100.0\" height=\"100.0\" viewBox=\"-3.17542275098 -2.20161424576 6.35460599246 4.724543504\" preserveAspectRatio=\"xMinYMin meet\"><g transform=\"matrix(1,0,0,-1,0,0.321315012487)\"><path fill-rule=\"evenodd\" fill=\"#66cc99\" stroke=\"#555555\" stroke-width=\"0.127092119849\" opacity=\"0.6\" d=\"M 0.401484649924,-1.96625846826 L 0.398129343434,-1.96586341592 L 0.3948332463,-1.96498097755 L 0.391629563928,-1.96361982556 L 0.388550546483,-1.96179330342 L 0.385627148051,-1.95951929769 L 0.382888700854,-1.95682006708 L 0.380362608463,-1.95372203012 L 0.378074061667,-1.95025551355 L -1.21020991869,0.10176602144 L -1.21280107395,0.10379342506 L -1.21503457024,0.106008010204 L -2.93076906132,2.09926561682 L -2.93339501803,2.10301548417 L -2.93561500979,2.10689729313 L -2.93740740727,2.1108730847 L -2.93875480045,2.11490391962 L -2.93964416309,2.118950259 L -2.94006697348,2.12297235296 L -2.94001929048,2.12693063374 L -2.93950178457,2.13078610882 L -2.93851972361,2.13450075047 L -2.93708291402,2.13803787725 L -2.93520559787,2.14136252362 L -2.93290630746,2.14444179362 L -2.93020767879,2.1472451947 L -2.92713622604,2.14974494817 L -2.92372207933,2.15191627257 L -2.91999868854,2.15373763711 L -2.91600249593,2.15519098194 L -2.91177258105,2.15626190313 L -2.90735028112,2.15693979992 L -2.90277879054,2.15721798281 L -2.89810274347,2.15709374105 L 2.30262498911,2.28671186174 L 2.30663468918,2.28734161509 L 2.31054466284,2.28757348075 L 2.31431879785,2.28740561242 L 2.31792215565,2.28683991607 L 2.32132129566,2.28588201966 L 2.3244845886,2.2845412072 L 2.32738251561,2.28283031813 L 2.32998795044,2.28076561332 L 2.33227642135,2.27836660968 L 2.93561703002,1.65071115521 L 2.93815907129,1.64802740062 L 2.94025684078,1.64505641709 L 2.94188769809,1.64183055539 L 2.94303393083,1.63838487638 L 2.94368295521,1.63475675279 L 2.94382746398,1.63098544771 L 2.94346551933,1.62711167527 L 2.94260058939,1.62317714879 L 2.94124152736,1.61922412204 L 2.27243290838,-1.53275391221 L 2.27236939158,-1.53413116936 L 2.27211594996,-1.53669658027 L 2.27191351435,-1.53801163702 L 2.27139730324,-1.54044645114 L 2.2710580231,-1.54168664521 L 2.27028426774,-1.54396739212 L 2.26981155139,-1.5451207545 L 2.26878798326,-1.54722539557 L 2.26818653507,-1.54828076685 L 2.26692330709,-1.5501889105 L 2.26619907659,-1.5511360504 L 2.26470865465,-1.55282915318 L 2.26386877349,-1.55365884201 L 2.26216580532,-1.5551203934 L 2.2612185129,-1.55582452451 L 2.25931967635,-1.55704021351 L 2.25827423491,-1.55761187565 L 2.25619806717,-1.55856973718 L 2.25506466752,-1.55900328578 L 2.25283137741,-1.55969382533 L 2.25162103623,-1.55998494195 L 2.24925230157,-1.56040123679 L 2.24797675157,-1.5605469759 L 0.411566871455,-1.96450410279 L 0.408237410255,-1.96557554032 L 0.404865356875,-1.96616221734 L 0.401484649924,-1.96625846826 z\" /></g></svg>"
      ],
      "text/plain": [
       "<shapely.geometry.polygon.Polygon at 0x7fcdead5fe10>"
      ]
     },
     "execution_count": 150,
     "metadata": {},
     "output_type": "execute_result"
    }
   ],
   "source": [
    "## spawn box to the any place of wall collision space coordinates\n",
    "\n",
    "import numpy as np\n",
    "from pcg_gazebo.generators.shapes import random_rectangle, \\\n",
    "    random_points_to_triangulation, random_rectangles\n",
    "import trimesh\n",
    "from shapely.geometry import Polygon\n",
    "\n",
    "THRESHOLD_WALL = 0.5\n",
    "ROOM_SIZE_RADIUS = 4.1\n",
    "ROOM_WALL_HEIGHT = 0.8\n",
    "ROOM_WALL_THICKNESS = 0.05\n",
    "OBSTACLE_NUM = 15\n",
    "OBSTACLE_SIZE = 0.6\n",
    "TARGET_SIZE = 0.2\n",
    "AGENT_SIZE = 0.3\n",
    "\n",
    "config = [\n",
    "    dict(\n",
    "        type='extrude',\n",
    "        args=dict(\n",
    "            polygon=random_points_to_triangulation(\n",
    "                x_min=-ROOM_SIZE_RADIUS,\n",
    "                x_max=ROOM_SIZE_RADIUS,\n",
    "                y_min=-ROOM_SIZE_RADIUS,\n",
    "                y_max=ROOM_SIZE_RADIUS\n",
    "            ),\n",
    "            height=ROOM_WALL_HEIGHT,\n",
    "            thickness=ROOM_WALL_THICKNESS,\n",
    "            extrude_boundaries=True,\n",
    "            name='extruded_poly_triangulation',\n",
    "            color='random'\n",
    "        )\n",
    "    )\n",
    "]\n",
    "\n",
    "models = create_models_from_config(config)\n",
    "\n",
    "for model in models:\n",
    "    col = model.get_link_by_name(model.name).collisions[0]\n",
    "    col_mesh = col.geometry._geometry_entity.get_meshes()[0] # Trimesh of not corrected by pose\n",
    "    col_poly = Polygon((col_mesh.vertices+col.pose.position)[::2,:2]).convex_hull\n",
    "    sample_pts = col.geometry._geometry_entity.get_samples(OBSTACLE_NUM)\n",
    "\n",
    "    model.spawn(\n",
    "        gazebo_proxy=gazebo_proxy, \n",
    "        robot_namespace=model.name,\n",
    "        pos=[0,0,ROOM_WALL_HEIGHT/2]\n",
    "    )\n",
    "\n",
    "mini_col_poly = unique_augment_poly(col_poly, -1*(THRESHOLD_WALL+OBSTACLE_SIZE+ROOM_WALL_THICKNESS))\n",
    "sample_pts = trimesh.path.polygons.sample(mini_col_poly, OBSTACLE_NUM)\n",
    "sample_pts = np.concatenate([\n",
    "    sample_pts[np.newaxis,:,0].T, \n",
    "    sample_pts[np.newaxis,:,1].T, \n",
    "    np.full([len(sample_pts),1], OBSTACLE_SIZE/2)\n",
    "], 1)\n",
    "    \n",
    "# mini_col_mesh = trimesh.Trimesh(np.array(col_mesh.vertices)*THRESHOLD_WALL)\n",
    "# sample_pts = np.array(mini_col_mesh.convex_hull.sample(len(sample_pts)))\n",
    "# sample_pts += col.pose.position * THRESHOLD_WALL\n",
    "# sample_pts[:,2] = OBSTACLE_SIZE/2\n",
    "\n",
    "sample_rot = np.zeros_like(sample_pts)\n",
    "sample_rot[:,2] = np.random.random([len(sample_pts)])*np.pi*2\n",
    "\n",
    "sizes = [[OBSTACLE_SIZE, OBSTACLE_SIZE, OBSTACLE_SIZE]]*len(sample_pts)\n",
    "\n",
    "config_obstacle_box = [\n",
    "    dict(\n",
    "        type='box_factory',\n",
    "        args=dict(\n",
    "            size=sizes,\n",
    "            name='obstacle_box',\n",
    "            use_permutation=True,\n",
    "            color='white'\n",
    "        )\n",
    "    )\n",
    "]\n",
    "\n",
    "models_box = create_models_from_config(config_obstacle_box)\n",
    "for model, p, r in zip(models_box, sample_pts, sample_rot):\n",
    "    print(p, r)\n",
    "    model.spawn(\n",
    "        gazebo_proxy=gazebo_proxy, \n",
    "        robot_namespace=model.name,\n",
    "        pos=list(p),\n",
    "        rot=list(r)\n",
    "    )\n",
    "mini_col_poly"
   ]
  },
  {
   "cell_type": "code",
   "execution_count": 153,
   "metadata": {},
   "outputs": [
    {
     "name": "stdout",
     "output_type": "stream",
     "text": [
      "[0 1 2 1 3 4 3 5 5 1 6 0 3 6 2]\n"
     ]
    }
   ],
   "source": [
    "from sklearn.cluster import DBSCAN\n",
    "\n",
    "db = DBSCAN(eps=np.sqrt((OBSTACLE_SIZE**2)*2), min_samples=1).fit(np.array(sample_pts))\n",
    "labels = db.labels_\n",
    "print(labels)\n"
   ]
  },
  {
   "cell_type": "code",
   "execution_count": 154,
   "metadata": {},
   "outputs": [],
   "source": [
    "sizes = [[TARGET_SIZE, TARGET_SIZE, TARGET_SIZE]]*(max(labels)+1)\n",
    "config_target_box = [\n",
    "    dict(\n",
    "        type='box_factory',\n",
    "        args=dict(\n",
    "            size=sizes,\n",
    "            name='target_box',\n",
    "            use_permutation=True,\n",
    "            color='cyan'\n",
    "        )\n",
    "    )\n",
    "]\n",
    "\n",
    "models_target = create_models_from_config(config_target_box)"
   ]
  },
  {
   "cell_type": "code",
   "execution_count": 155,
   "metadata": {},
   "outputs": [],
   "source": [
    "import quaternion\n",
    "from shapely.geometry import Polygon\n",
    "\n",
    "def get_square_horizon(base_pos, radius, z_angle=0):\n",
    "    d1 = [1,1,-1,-1]\n",
    "    d2 = [1,-1,-1,1]\n",
    "    poss = np.array([np.quaternion(1,d1[i]*radius,d2[i]*radius,0) for i in range(4)])\n",
    "    q = quaternion.from_euler_angles(0,0,z_angle)\n",
    "    pq = q*poss*q.conj()\n",
    "    \n",
    "    return np.array([[p.x, p.y, p.z] for p in pq])+base_pos\n",
    "\n",
    "def get_extended_face(face_vertices, length):\n",
    "    face_bottom = np.copy(face_vertices)\n",
    "    face_bottom[:,2] += length\n",
    "    return np.concatenate([face_vertices, face_bottom])\n",
    "\n",
    "def unique_augment_poly(polygon, length):\n",
    "    '''\n",
    "    arg1: must be object of shapely.geometry such as Polygon and more.\n",
    "    arg2: length of augmentation to centroid\n",
    "    '''\n",
    "    p = np.array(np.array(polygon.exterior.coords))\n",
    "    r = p - polygon.centroid\n",
    "    n = r / np.linalg.norm(r, axis=1, ord=2)[np.newaxis,:].T\n",
    "    return Polygon(p+n*length)\n",
    "\n",
    "# p = [0, 0, 0]\n",
    "# ang = np.pi/4\n",
    "# print(get_square_horizon(p, 0.1, ang))"
   ]
  },
  {
   "cell_type": "code",
   "execution_count": 156,
   "metadata": {},
   "outputs": [],
   "source": [
    "from shapely.geometry.polygon import Polygon\n",
    "\n",
    "zone_base_2d = [None]*(max(labels)+1)\n",
    "for i in range(len(zone_base_2d)):\n",
    "    pts = sample_pts[labels==i]\n",
    "    if len(pts) > 2:\n",
    "        zone_base_2d[i] = trimesh.convex.hull_points(pts[:,:2])\n",
    "    else:\n",
    "        zone_base_2d[i] = pts\n",
    "\n",
    "zone_vertices_2d = [None]*len(zone_base_2d)\n",
    "\n",
    "for i in range(len(zone_base_2d)):\n",
    "    pts = sample_pts[labels==i]\n",
    "    rts = sample_rot[labels==i]\n",
    "    vertices = np.concatenate(\n",
    "        [get_square_horizon(p, np.sqrt((OBSTACLE_SIZE**2)*2)/2, r[2]) for p,r in zip(pts,rts)]\n",
    "    )\n",
    "    zone_vertices_2d[i] = trimesh.convex.hull_points(vertices[:,:2])\n",
    "    \n",
    "zone_hull = [None]*len(zone_base_2d)\n",
    "for i in range(len(zone_base_2d)):\n",
    "    p3 = np.zeros([len(zone_vertices_2d[i]),3])\n",
    "    p3[:,:2] = zone_vertices_2d[i]\n",
    "    zone_hull[i] = trimesh.Trimesh(vertices=get_extended_face(p3, OBSTACLE_SIZE)).convex_hull\n",
    "\n",
    "\n",
    "# hull_points_2d = [None]*(max(labels)+1)\n",
    "# for i in range(len(hull_points_2d)):\n",
    "#     pts = sample_pts[labels==i]\n",
    "#     if len(pts) < 3:\n",
    "#         v = []\n",
    "#         for p in pts:\n",
    "#             v.extend(get_square_horizon(p, 0.05))\n",
    "#         pts = np.array(v)\n",
    "        \n",
    "# #     convex_2d = ConvexHull(pts[:,:2])\n",
    "#     hull_points_2d[i] = trimesh.convex.hull_points(pts[:,:2])\n",
    "\n",
    "\n",
    "# zone_hull = [None]*(len(hull_points_2d)) # trimesh.Trimesh in\n",
    "# for i in range(len(zone_hull)):\n",
    "#     tmp = np.zeros([len(hull_points_2d[i]), 3])\n",
    "#     tmp[:,:2] = hull_points_2d[i]\n",
    "#     pts = get_extended_face(tmp, OBSTACLE_SIZE)\n",
    "#     zone_hull[i] = trimesh.Trimesh(vertices=pts).convex_hull\n",
    "    \n",
    "    \n",
    "# zone_hull_expand = [None]*(len(hull_points_2d)) # trimesh.Trimesh in\n",
    "# zone_vecs_g2v = [None]*(len(hull_points_2d)) # normalized vector centroid to vertice\n",
    "# hull_points_2d_expand = [None]*(len(hull_points_2d))\n",
    "# for i in range(len(zone_hull_expand)):\n",
    "#     g = np.mean(hull_points_2d[i], axis=0)\n",
    "    \n",
    "# #     g = Polygon(hull_points_2d[i]).convex_hull.centroid.coords[0]\n",
    "\n",
    "#     vec_g2v = hull_points_2d[i]-g\n",
    "#     norm = np.linalg.norm(vec_g2v, axis=1, ord=2)\n",
    "#     zone_vecs_g2v[i] = vec_g2v / (np.array([norm]).T) ## KETAOTI OKIRUYO\n",
    "#     hull_points_2d_expand[i] = hull_points_2d[i]+zone_vecs_g2v[i]*(np.sqrt((OBSTACLE_SIZE**2)*2)/2)\n",
    "    \n",
    "#     tmp = np.zeros([len(hull_points_2d[i]), 3])\n",
    "#     tmp[:,:2] = hull_points_2d_expand[i]\n",
    "#     pts = get_extended_face(tmp, OBSTACLE_SIZE)\n",
    "#     zone_hull_expand[i] = trimesh.Trimesh(vertices=pts).convex_hull\n",
    "    \n",
    "# print(\"zone_vecs_g2v\", zone_vecs_g2v)\n",
    "# print(\"zone_full: \\n{}\".format(zone_hull[0].mass))\n",
    "# print(\"zone_full_expand: \\n{}\".format(zone_hull_expand[0].mass))\n"
   ]
  },
  {
   "cell_type": "code",
   "execution_count": 157,
   "metadata": {},
   "outputs": [
    {
     "data": {
      "image/svg+xml": [
       "<svg xmlns=\"http://www.w3.org/2000/svg\" xmlns:xlink=\"http://www.w3.org/1999/xlink\" width=\"100.0\" height=\"100.0\" viewBox=\"0.549471243503 -2.15101828368 1.87329908719 1.27410791433\" preserveAspectRatio=\"xMinYMin meet\"><g transform=\"matrix(1,0,0,-1,0,-3.02792865303)\"><path fill-rule=\"evenodd\" fill=\"#66cc99\" stroke=\"#555555\" stroke-width=\"0.0374659817438\" opacity=\"0.6\" d=\"M 2.02981405709,-2.08163683601 L 2.35338888302,-1.29722665502 L 1.56897870204,-0.9736518291 L 1.44741964252,-0.946291817025 L 0.618852691177,-1.12925850017 L 0.801819374321,-1.95782545151 L 2.02981405709,-2.08163683601 z\" /></g></svg>"
      ],
      "text/plain": [
       "<shapely.geometry.polygon.Polygon at 0x7fcdeb129bd0>"
      ]
     },
     "execution_count": 157,
     "metadata": {},
     "output_type": "execute_result"
    }
   ],
   "source": [
    "Polygon(zone_vertices_2d[0])"
   ]
  },
  {
   "cell_type": "markdown",
   "metadata": {},
   "source": [
    "### Methods to generate position of target\n",
    "\n",
    "Target position is sampled from convex face formed by cluster."
   ]
  },
  {
   "cell_type": "code",
   "execution_count": 158,
   "metadata": {},
   "outputs": [
    {
     "name": "stdout",
     "output_type": "stream",
     "text": [
      "[[ 0.8410465  -1.08019299  0.1       ]\n",
      " [ 1.19601121  0.6982492   0.1       ]\n",
      " [ 2.30195838  2.60424691  0.1       ]\n",
      " [-1.56935632  1.72678923  0.1       ]\n",
      " [-0.40339978  0.54354385  0.1       ]\n",
      " [-2.46514591  1.17133362  0.1       ]\n",
      " [ 2.36089949  0.50469617  0.1       ]]\n"
     ]
    }
   ],
   "source": [
    "zone_samples = [None]*len(zone_hull)\n",
    "for i in range(len(zone_samples)):\n",
    "    ## sample_surface return tuple, so choice 0 index\n",
    "    samples = trimesh.sample.sample_surface_even(zone_hull[i], 100)[0]\n",
    "    zone_samples[i] = samples[\n",
    "        np.logical_and(\n",
    "            np.not_equal(samples[:,2], 0), \n",
    "            np.not_equal(samples[:,2], OBSTACLE_SIZE)\n",
    "        )\n",
    "    ]\n",
    "\n",
    "choiced_goal = np.zeros([len(zone_hull),3])\n",
    "for i in range(len(choiced_goal)):\n",
    "    choiced_goal[i] = zone_samples[i][np.random.choice(range(len(zone_samples[i])))]\n",
    "    \n",
    "choiced_goal[:,2] = TARGET_SIZE/2\n",
    "\n",
    "print(choiced_goal)\n",
    "for model, p in zip(models_target, choiced_goal):\n",
    "    model.get_link_by_name('link').disable_collision()\n",
    "    model.spawn(\n",
    "        gazebo_proxy=gazebo_proxy, \n",
    "        robot_namespace=model.name,\n",
    "        pos=list(p)\n",
    "    )"
   ]
  },
  {
   "cell_type": "code",
   "execution_count": 152,
   "metadata": {},
   "outputs": [],
   "source": [
    "def delete_models(model_name, start=None, stop=None):\n",
    "    if start is not None and stop is not None:\n",
    "        for i in range(start, stop+1):\n",
    "            gazebo_proxy.delete_model(model_name=model_name+\"_\"+str(i))\n",
    "    else:\n",
    "        gazebo_proxy.delete_model(model_name=model_name)\n",
    "        \n",
    "delete_models('target_box', 0, 7)"
   ]
  },
  {
   "cell_type": "code",
   "execution_count": null,
   "metadata": {},
   "outputs": [],
   "source": []
  }
 ],
 "metadata": {
  "kernelspec": {
   "display_name": "Python 2",
   "language": "python",
   "name": "python2"
  },
  "language_info": {
   "codemirror_mode": {
    "name": "ipython",
    "version": 2
   },
   "file_extension": ".py",
   "mimetype": "text/x-python",
   "name": "python",
   "nbconvert_exporter": "python",
   "pygments_lexer": "ipython2",
   "version": "2.7.17"
  }
 },
 "nbformat": 4,
 "nbformat_minor": 2
}
