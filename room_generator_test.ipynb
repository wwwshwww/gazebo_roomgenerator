{
 "cells": [
  {
   "cell_type": "code",
   "execution_count": null,
   "metadata": {},
   "outputs": [],
   "source": [
    "import rospy"
   ]
  },
  {
   "cell_type": "code",
   "execution_count": null,
   "metadata": {},
   "outputs": [],
   "source": [
    "DEFAULT_I = 10\n",
    "try:\n",
    "    i = rospy.get_param('ii')\n",
    "except:\n",
    "    print('can not collect param. Going to use default value.')\n",
    "    i = DEFAULT_I\n",
    "    \n",
    "print(i)"
   ]
  },
  {
   "cell_type": "code",
   "execution_count": 1,
   "metadata": {},
   "outputs": [
    {
     "name": "stdout",
     "output_type": "stream",
     "text": [
      "ROS_MASTER_URI=http://localhost:11311, GAZEBO_MASTER_URI=http://localhost:11345\n"
     ]
    }
   ],
   "source": [
    "from pcg_gazebo.task_manager import ProcessManager\n",
    "from pcg_gazebo.generators.creators import create_models_from_config\n",
    "\n",
    "TARGET_SIM = dict(\n",
    "    ros_host='localhost',\n",
    "    ros_port=11311,\n",
    "    gazebo_host='localhost',\n",
    "    gazebo_port=11345\n",
    ")\n",
    "\n",
    "process_manager = ProcessManager(**TARGET_SIM)\n",
    "gazebo_proxy = process_manager.get_gazebo_proxy()\n",
    "print(gazebo_proxy.ros_config)"
   ]
  },
  {
   "cell_type": "code",
   "execution_count": 65,
   "metadata": {},
   "outputs": [
    {
     "name": "stdout",
     "output_type": "stream",
     "text": [
      "None\n",
      "False\n",
      "<collision name=\"collision\">\n",
      "  <geometry>\n",
      "    <mesh>\n",
      "      <scale>1 1 1</scale>\n",
      "      <uri>file:///root/.pcg/meshes/PdCmeuOXXG.stl</uri>\n",
      "    </mesh>\n",
      "  </geometry>\n",
      "  <max_contacts>20</max_contacts>\n",
      "  <pose frame=\"\">-0.0891299 0.428434 -0.4 0 -0 0</pose>\n",
      "</collision>\n",
      "\n",
      "[[-2.89342093 -1.78297427  0.        ]\n",
      " [ 2.5713203  -1.13323296  0.45532893]\n",
      " [ 2.56141512  2.93129012  0.76892954]\n",
      " [-1.31444832 -3.39666908  0.25542688]\n",
      " [-1.33372228  3.26017729  0.26264667]\n",
      " [-1.1043176  -3.56328975  0.        ]\n",
      " [ 4.17133736  2.64854972  0.17280899]\n",
      " [-3.68370323  3.29799138  0.58853169]\n",
      " [ 1.34125528 -2.74121799  0.43444478]\n",
      " [-3.9682393   0.0549935   0.79966758]]\n",
      "(array([ 1.62344561, -0.15571202,  0.4       ]), array([0.        , 0.        , 4.16985031]))\n",
      "(array([-1.88265641,  1.62610608,  0.4       ]), array([0.        , 0.        , 4.47324931]))\n",
      "(array([ 0.45986315, -0.16154895,  0.4       ]), array([0.        , 0.        , 4.95961693]))\n",
      "(array([0.02115466, 1.0401415 , 0.4       ]), array([0.        , 0.        , 4.95095414]))\n",
      "(array([-0.47408184,  2.08478971,  0.4       ]), array([0.        , 0.        , 2.44051851]))\n",
      "(array([-1.35512348,  0.29872067,  0.4       ]), array([0.        , 0.        , 2.90021772]))\n",
      "(array([-1.10238025,  2.46950787,  0.4       ]), array([0.       , 0.       , 3.2893749]))\n",
      "(array([1.81304034, 0.1045935 , 0.4       ]), array([0.        , 0.        , 3.32924793]))\n",
      "(array([ 0.9539317 , -1.39169001,  0.4       ]), array([0.        , 0.        , 3.75989522]))\n",
      "(array([-0.22213968,  2.43441127,  0.4       ]), array([0.        , 0.        , 3.52068487]))\n"
     ]
    }
   ],
   "source": [
    "## spawn box to the any place of wall collision space coordinates\n",
    "\n",
    "import numpy as np\n",
    "from pcg_gazebo.generators.shapes import random_rectangle, \\\n",
    "    random_points_to_triangulation, random_rectangles\n",
    "import trimesh\n",
    "\n",
    "THRESHOLD_WALL = 0.7\n",
    "ROOM_SIZE_RADIUS = 4.5\n",
    "ROOM_WALL_HEIGHT = 0.8\n",
    "OBSTACLE_NUM = 10\n",
    "OBSTACLE_SIZE = 0.8\n",
    "TARGET_SIZE = 0.2\n",
    "AGENT_SIZE = 0.3\n",
    "\n",
    "config = [\n",
    "    dict(\n",
    "        type='extrude',\n",
    "        args=dict(\n",
    "            polygon=random_points_to_triangulation(\n",
    "                x_min=-ROOM_SIZE_RADIUS,\n",
    "                x_max=ROOM_SIZE_RADIUS,\n",
    "                y_min=-ROOM_SIZE_RADIUS,\n",
    "                y_max=ROOM_SIZE_RADIUS\n",
    "            ),\n",
    "            height=ROOM_WALL_HEIGHT,\n",
    "            thickness=0.05,\n",
    "            extrude_boundaries=True,\n",
    "            name='extruded_poly_triangulation',\n",
    "            color='random'\n",
    "        )\n",
    "    )\n",
    "]\n",
    "\n",
    "models = create_models_from_config(config)\n",
    "\n",
    "for model in models:\n",
    "    print(model.get_link_by_name('visual_mesh'))\n",
    "    print(model.links is None)\n",
    "    for elem in model.links:\n",
    "        cols = model.get_link_by_name(elem).collisions\n",
    "        print(cols[0])\n",
    "        col_mesh = cols[0]._geometry._geometry_entity.get_meshes()[0]\n",
    "        sample_pts = cols[0]._geometry._geometry_entity.get_samples(OBSTACLE_NUM)\n",
    "        print(sample_pts)\n",
    "    model.spawn(\n",
    "        gazebo_proxy=gazebo_proxy, \n",
    "        robot_namespace=model.name,\n",
    "        pos=[0,0,ROOM_WALL_HEIGHT/2]\n",
    "    )\n",
    "\n",
    "mini_col_mesh = trimesh.Trimesh(np.array(col_mesh.vertices)*THRESHOLD_WALL)\n",
    "\n",
    "sample_pts = np.array(mini_col_mesh.convex_hull.sample(len(sample_pts)))\n",
    "sample_pts += cols[0].pose.position * THRESHOLD_WALL\n",
    "sample_pts[:,2] = OBSTACLE_SIZE/2\n",
    "\n",
    "sample_rot = np.zeros_like(sample_pts)\n",
    "sample_rot[:,2] = np.random.random([len(sample_pts)])*np.pi*2\n",
    "\n",
    "sizes = [[OBSTACLE_SIZE, OBSTACLE_SIZE, OBSTACLE_SIZE]]*len(sample_pts)\n",
    "\n",
    "config_obstacle_box = [\n",
    "    dict(\n",
    "        type='box_factory',\n",
    "        args=dict(\n",
    "            size=sizes,\n",
    "            name='obstacle_box',\n",
    "            use_permutation=True,\n",
    "            color='white'\n",
    "        )\n",
    "    )\n",
    "]\n",
    "\n",
    "models_box = create_models_from_config(config_obstacle_box)\n",
    "for model, p, r in zip(models_box, sample_pts, sample_rot):\n",
    "    print(p, r)\n",
    "    model.spawn(\n",
    "        gazebo_proxy=gazebo_proxy, \n",
    "        robot_namespace=model.name,\n",
    "        pos=list(p),\n",
    "        rot=list(r)\n",
    "    )"
   ]
  },
  {
   "cell_type": "code",
   "execution_count": 66,
   "metadata": {},
   "outputs": [
    {
     "name": "stdout",
     "output_type": "stream",
     "text": [
      "[0 1 2 3 4 5 4 0 6 4]\n"
     ]
    }
   ],
   "source": [
    "from sklearn.cluster import DBSCAN\n",
    "\n",
    "db = DBSCAN(eps=np.sqrt((OBSTACLE_SIZE**2)*2), min_samples=1).fit(np.array(sample_pts))\n",
    "labels = db.labels_\n",
    "print(labels)\n"
   ]
  },
  {
   "cell_type": "code",
   "execution_count": 67,
   "metadata": {},
   "outputs": [],
   "source": [
    "sizes = [[TARGET_SIZE, TARGET_SIZE, TARGET_SIZE]]*(max(labels)+1)\n",
    "config_target_box = [\n",
    "    dict(\n",
    "        type='box_factory',\n",
    "        args=dict(\n",
    "            size=sizes,\n",
    "            name='target_box',\n",
    "            use_permutation=True,\n",
    "            color='cyan'\n",
    "        )\n",
    "    )\n",
    "]\n",
    "\n",
    "models_target = create_models_from_config(config_target_box)"
   ]
  },
  {
   "cell_type": "code",
   "execution_count": 68,
   "metadata": {},
   "outputs": [],
   "source": [
    "import quaternion\n",
    "\n",
    "def get_square_horizon(base_pos, radius, z_angle=0):\n",
    "    d1 = [1,1,-1,-1]\n",
    "    d2 = [1,-1,-1,1]\n",
    "    poss = np.array([np.quaternion(1,d1[i]*radius,d2[i]*radius,0) for i in range(4)])\n",
    "    q = quaternion.from_euler_angles(0,0,z_angle)\n",
    "    pq = q*poss*q.conj()\n",
    "    \n",
    "    return np.array([[p.x, p.y, p.z] for p in pq])+base_pos\n",
    "\n",
    "def get_extended_face(face_vertices, length):\n",
    "    face_bottom = np.copy(face_vertices)\n",
    "    face_bottom[:,2] += length\n",
    "    return np.concatenate([face_vertices, face_bottom])\n",
    "\n",
    "# p = [0, 0, 0]\n",
    "# ang = np.pi/4\n",
    "# print(get_square_horizon(p, 0.1, ang))"
   ]
  },
  {
   "cell_type": "code",
   "execution_count": 69,
   "metadata": {},
   "outputs": [],
   "source": [
    "from shapely.geometry.polygon import Polygon\n",
    "\n",
    "zone_base_2d = [None]*(max(labels)+1)\n",
    "for i in range(len(zone_base_2d)):\n",
    "    pts = sample_pts[labels==i]\n",
    "    if len(pts) > 2:\n",
    "        zone_base_2d[i] = trimesh.convex.hull_points(pts[:,:2])\n",
    "    else:\n",
    "        zone_base_2d[i] = pts\n",
    "\n",
    "zone_vertices_2d = [None]*len(zone_base_2d)\n",
    "\n",
    "for i in range(len(zone_base_2d)):\n",
    "    pts = sample_pts[labels==i]\n",
    "    rts = sample_rot[labels==i]\n",
    "    vertices = np.concatenate(\n",
    "        [get_square_horizon(p, np.sqrt((OBSTACLE_SIZE**2)*2)/2, r[2]) for p,r in zip(pts,rts)]\n",
    "    )\n",
    "    zone_vertices_2d[i] = trimesh.convex.hull_points(vertices[:,:2])\n",
    "    \n",
    "zone_hull = [None]*len(zone_base_2d)\n",
    "for i in range(len(zone_base_2d)):\n",
    "    p3 = np.zeros([len(zone_vertices_2d[i]),3])\n",
    "    p3[:,:2] = zone_vertices_2d[i]\n",
    "    zone_hull[i] = trimesh.Trimesh(vertices=get_extended_face(p3, OBSTACLE_SIZE)).convex_hull\n",
    "\n",
    "\n",
    "# hull_points_2d = [None]*(max(labels)+1)\n",
    "# for i in range(len(hull_points_2d)):\n",
    "#     pts = sample_pts[labels==i]\n",
    "#     if len(pts) < 3:\n",
    "#         v = []\n",
    "#         for p in pts:\n",
    "#             v.extend(get_square_horizon(p, 0.05))\n",
    "#         pts = np.array(v)\n",
    "        \n",
    "# #     convex_2d = ConvexHull(pts[:,:2])\n",
    "#     hull_points_2d[i] = trimesh.convex.hull_points(pts[:,:2])\n",
    "\n",
    "\n",
    "# zone_hull = [None]*(len(hull_points_2d)) # trimesh.Trimesh in\n",
    "# for i in range(len(zone_hull)):\n",
    "#     tmp = np.zeros([len(hull_points_2d[i]), 3])\n",
    "#     tmp[:,:2] = hull_points_2d[i]\n",
    "#     pts = get_extended_face(tmp, OBSTACLE_SIZE)\n",
    "#     zone_hull[i] = trimesh.Trimesh(vertices=pts).convex_hull\n",
    "    \n",
    "    \n",
    "# zone_hull_expand = [None]*(len(hull_points_2d)) # trimesh.Trimesh in\n",
    "# zone_vecs_g2v = [None]*(len(hull_points_2d)) # normalized vector centroid to vertice\n",
    "# hull_points_2d_expand = [None]*(len(hull_points_2d))\n",
    "# for i in range(len(zone_hull_expand)):\n",
    "#     g = np.mean(hull_points_2d[i], axis=0)\n",
    "    \n",
    "# #     g = Polygon(hull_points_2d[i]).convex_hull.centroid.coords[0]\n",
    "\n",
    "#     vec_g2v = hull_points_2d[i]-g\n",
    "#     norm = np.linalg.norm(vec_g2v, axis=1, ord=2)\n",
    "#     zone_vecs_g2v[i] = vec_g2v / (np.array([norm]).T) ## KETAOTI OKIRUYO\n",
    "#     hull_points_2d_expand[i] = hull_points_2d[i]+zone_vecs_g2v[i]*(np.sqrt((OBSTACLE_SIZE**2)*2)/2)\n",
    "    \n",
    "#     tmp = np.zeros([len(hull_points_2d[i]), 3])\n",
    "#     tmp[:,:2] = hull_points_2d_expand[i]\n",
    "#     pts = get_extended_face(tmp, OBSTACLE_SIZE)\n",
    "#     zone_hull_expand[i] = trimesh.Trimesh(vertices=pts).convex_hull\n",
    "    \n",
    "# print(\"zone_vecs_g2v\", zone_vecs_g2v)\n",
    "# print(\"zone_full: \\n{}\".format(zone_hull[0].mass))\n",
    "# print(\"zone_full_expand: \\n{}\".format(zone_hull_expand[0].mass))\n"
   ]
  },
  {
   "cell_type": "code",
   "execution_count": 70,
   "metadata": {},
   "outputs": [
    {
     "data": {
      "image/svg+xml": [
       "<svg xmlns=\"http://www.w3.org/2000/svg\" xmlns:xlink=\"http://www.w3.org/1999/xlink\" width=\"100.0\" height=\"100.0\" viewBox=\"0.778997565293 -1.00016006859 1.76325376098 1.83396456032\" preserveAspectRatio=\"xMinYMin meet\"><g transform=\"matrix(1,0,0,-1,0,-0.16635557686)\"><path fill-rule=\"evenodd\" fill=\"#66cc99\" stroke=\"#555555\" stroke-width=\"0.0366792912063\" opacity=\"0.6\" d=\"M 2.47432671293,-0.34562902997 L 2.26326286797,0.765879878383 L 1.43106226574,0.62081141718 L 1.15175395961,0.554816033418 L 0.846922178638,-0.348095368141 L 1.81582896396,-0.932235455243 L 2.47432671293,-0.34562902997 z\" /></g></svg>"
      ],
      "text/plain": [
       "<shapely.geometry.polygon.Polygon at 0x7f244ad2bd90>"
      ]
     },
     "execution_count": 70,
     "metadata": {},
     "output_type": "execute_result"
    }
   ],
   "source": [
    "Polygon(zone_vertices_2d[0])"
   ]
  },
  {
   "cell_type": "markdown",
   "metadata": {},
   "source": [
    "### Methods to generate position of target\n",
    "\n",
    "Target position is sampled from convex face formed by cluster."
   ]
  },
  {
   "cell_type": "code",
   "execution_count": 71,
   "metadata": {},
   "outputs": [
    {
     "name": "stdout",
     "output_type": "stream",
     "text": [
      "[[ 1.00900526  0.13199453  0.1       ]\n",
      " [-1.72201765  2.16919671  0.1       ]\n",
      " [ 0.08372353  0.32694145  0.1       ]\n",
      " [-0.55432778  1.01262757  0.1       ]\n",
      " [-0.58385147  1.36911871  0.1       ]\n",
      " [-0.90354071 -0.23338709  0.1       ]\n",
      " [ 0.46640214 -1.68223523  0.1       ]]\n"
     ]
    }
   ],
   "source": [
    "zone_samples = [None]*len(zone_hull)\n",
    "for i in range(len(zone_samples)):\n",
    "    ## sample_surface return tuple, so choice 0 index\n",
    "    samples = trimesh.sample.sample_surface_even(zone_hull[i], 100)[0]\n",
    "    zone_samples[i] = samples[\n",
    "        np.logical_and(\n",
    "            np.not_equal(samples[:,2], 0), \n",
    "            np.not_equal(samples[:,2], OBSTACLE_SIZE)\n",
    "        )\n",
    "    ]\n",
    "\n",
    "choiced_goal = np.zeros([len(zone_hull),3])\n",
    "for i in range(len(choiced_goal)):\n",
    "    choiced_goal[i] = zone_samples[i][np.random.choice(range(len(zone_samples[i])))]\n",
    "    \n",
    "choiced_goal[:,2] = TARGET_SIZE/2\n",
    "\n",
    "print(choiced_goal)\n",
    "for model, p in zip(models_target, choiced_goal):\n",
    "    model.get_link_by_name('link').disable_collision()\n",
    "    model.spawn(\n",
    "        gazebo_proxy=gazebo_proxy, \n",
    "        robot_namespace=model.name,\n",
    "        pos=list(p)\n",
    "    )"
   ]
  },
  {
   "cell_type": "code",
   "execution_count": 42,
   "metadata": {},
   "outputs": [],
   "source": [
    "def delete_models(model_name, start=None, stop=None):\n",
    "    if start is not None and stop is not None:\n",
    "        for i in range(start, stop+1):\n",
    "            gazebo_proxy.delete_model(model_name=model_name+\"_\"+str(i))\n",
    "    else:\n",
    "        gazebo_proxy.delete_model(model_name=model_name)\n",
    "        \n",
    "delete_models('target_box', 3, 4)"
   ]
  },
  {
   "cell_type": "code",
   "execution_count": null,
   "metadata": {},
   "outputs": [],
   "source": []
  }
 ],
 "metadata": {
  "kernelspec": {
   "display_name": "Python 2",
   "language": "python",
   "name": "python2"
  },
  "language_info": {
   "codemirror_mode": {
    "name": "ipython",
    "version": 2
   },
   "file_extension": ".py",
   "mimetype": "text/x-python",
   "name": "python",
   "nbconvert_exporter": "python",
   "pygments_lexer": "ipython2",
   "version": "2.7.17"
  }
 },
 "nbformat": 4,
 "nbformat_minor": 2
}
