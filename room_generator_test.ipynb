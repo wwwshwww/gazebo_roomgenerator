{
 "cells": [
  {
   "cell_type": "code",
   "execution_count": null,
   "metadata": {},
   "outputs": [],
   "source": [
    "DEFAULT_I = 10\n",
    "try:\n",
    "    i = rospy.get_param('ii')\n",
    "except:\n",
    "    print('can not collect param. Going to use default value.')\n",
    "    i = DEFAULT_I\n",
    "    \n",
    "print(i)"
   ]
  },
  {
   "cell_type": "code",
   "execution_count": 41,
   "metadata": {},
   "outputs": [],
   "source": [
    "import quaternion\n",
    "from shapely.geometry import Polygon\n",
    "\n",
    "def vec_to_trans(vec):\n",
    "    a = np.identity(len(vec)+1)\n",
    "    a[:len(vec),len(vec)] = vec\n",
    "    return a\n",
    "\n",
    "def distance_filtered_poly(polygon, distance=0.01):\n",
    "    c = np.round(polygon.exterior.coords, 3)\n",
    "    ban = np.zeros([len(c)], dtype=int)\n",
    "    for i in range(len(c)):\n",
    "        if not ban[i]:\n",
    "            n = np.linalg.norm(c-c[i], axis=1) < distance\n",
    "            n[i] = False\n",
    "            ban = np.logical_or(ban, n) \n",
    "    \n",
    "    return Polygon(c[np.logical_not(ban)])\n",
    "\n",
    "def get_square_horizon(base_pos, radius, z_angle=0):\n",
    "    d1 = [1,1,-1,-1]\n",
    "    d2 = [1,-1,-1,1]\n",
    "    poss = np.array([np.quaternion(1,d1[i]*radius,d2[i]*radius,0) for i in range(4)])\n",
    "    q = quaternion.from_euler_angles(0,0,z_angle)\n",
    "    pq = q*poss*q.conj()\n",
    "    \n",
    "    return np.array([[p.x, p.y, p.z] for p in pq])+base_pos\n",
    "\n",
    "def get_extended_face(face_vertices, length):\n",
    "    face_bottom = np.copy(face_vertices)\n",
    "    face_bottom[:,2] += length\n",
    "    return np.concatenate([face_vertices, face_bottom])\n",
    "\n",
    "def unique_augment_poly(polygon, length, center=None):\n",
    "    '''\n",
    "    arg1: must be object of shapely.geometry such as Polygon and more.\n",
    "    arg2: length of augmentation to centroid\n",
    "    '''\n",
    "    \n",
    "    p = np.array(polygon.exterior.coords)\n",
    "    if center is None:\n",
    "        c = polygon.centroid\n",
    "#         c = np.mean(p[:-1], axis=0)\n",
    "    else:\n",
    "        c = center\n",
    "    r = p - c\n",
    "    n = r / np.linalg.norm(r, axis=1, ord=2)[np.newaxis,:].T\n",
    "    return Polygon(p+n*length).convex_hull\n",
    "\n",
    "# p = [0, 0, 0]\n",
    "# ang = np.pi/4\n",
    "# print(get_square_horizon(p, 0.1, ang))"
   ]
  },
  {
   "cell_type": "code",
   "execution_count": 42,
   "metadata": {},
   "outputs": [
    {
     "name": "stdout",
     "output_type": "stream",
     "text": [
      "ROS_MASTER_URI=http://localhost:11311, GAZEBO_MASTER_URI=http://localhost:11345\n"
     ]
    }
   ],
   "source": [
    "from pcg_gazebo.task_manager import ProcessManager\n",
    "from pcg_gazebo.generators.creators import create_models_from_config\n",
    "\n",
    "TARGET_SIM = dict(\n",
    "    ros_host='localhost',\n",
    "    ros_port=11311,\n",
    "    gazebo_host='localhost',\n",
    "    gazebo_port=11345\n",
    ")\n",
    "\n",
    "process_manager = ProcessManager(**TARGET_SIM)\n",
    "gazebo_proxy = process_manager.get_gazebo_proxy()\n",
    "print(gazebo_proxy.ros_config)"
   ]
  },
  {
   "cell_type": "code",
   "execution_count": 43,
   "metadata": {},
   "outputs": [
    {
     "name": "stdout",
     "output_type": "stream",
     "text": [
      "(array([ 1.8691147, -0.8849217,  0.3      ]), array([0.        , 0.        , 3.00855233]))\n",
      "(array([1.12364134, 2.11451402, 0.3       ]), array([0.        , 0.        , 4.21869646]))\n",
      "(array([-0.49682931,  1.87037885,  0.3       ]), array([0.        , 0.        , 0.35640961]))\n",
      "(array([-1.58711092, -1.71508923,  0.3       ]), array([0.        , 0.        , 4.51689266]))\n",
      "(array([-0.06063009, -2.2755818 ,  0.3       ]), array([0.        , 0.        , 6.26896259]))\n",
      "(array([-0.6046772 , -1.09649706,  0.3       ]), array([0.        , 0.        , 3.84197202]))\n",
      "(array([-1.75211731, -0.36829527,  0.3       ]), array([0.        , 0.        , 1.85747218]))\n",
      "(array([-0.4194448, -2.3950115,  0.3      ]), array([0.        , 0.        , 3.20813452]))\n",
      "(array([-1.23880177,  1.09776249,  0.3       ]), array([0.        , 0.        , 4.85792318]))\n",
      "(array([1.15786551, 1.45655907, 0.3       ]), array([0.        , 0.        , 2.27280153]))\n",
      "(array([1.85574991, 2.29534093, 0.3       ]), array([0.        , 0.        , 2.97046346]))\n",
      "(array([ 0.01902817, -0.72659358,  0.3       ]), array([0.        , 0.        , 5.18532435]))\n",
      "(array([1.54022093, 2.6443963 , 0.3       ]), array([0.        , 0.        , 3.07189288]))\n",
      "(array([-2.07628932, -1.29956195,  0.3       ]), array([0.        , 0.        , 1.60393753]))\n",
      "(array([-1.22297275,  0.30255277,  0.3       ]), array([0.        , 0.        , 1.67723935]))\n"
     ]
    },
    {
     "data": {
      "image/svg+xml": [
       "<svg xmlns=\"http://www.w3.org/2000/svg\" xmlns:xlink=\"http://www.w3.org/1999/xlink\" width=\"100.0\" height=\"100.0\" viewBox=\"-3.55696 -3.92696 7.11092 7.85592\" preserveAspectRatio=\"xMinYMin meet\"><g transform=\"matrix(1,0,0,-1,0,0.002)\"><path fill-rule=\"evenodd\" fill=\"#66cc99\" stroke=\"#555555\" stroke-width=\"0.1571184\" opacity=\"0.6\" d=\"M -2.924,3.638 L -3.072,1.147 L -3.266,-3.636 L 3.263,-3.25 L 2.506,3.476 L -2.924,3.638 z\" /></g></svg>"
      ],
      "text/plain": [
       "<shapely.geometry.polygon.Polygon at 0x7f839c040cd0>"
      ]
     },
     "execution_count": 43,
     "metadata": {},
     "output_type": "execute_result"
    }
   ],
   "source": [
    "## spawn box to the any place of wall collision space coordinates\n",
    "\n",
    "import numpy as np\n",
    "from pcg_gazebo.generators.shapes import random_rectangle, \\\n",
    "    random_points_to_triangulation, random_rectangles\n",
    "import trimesh\n",
    "from shapely.geometry import Polygon\n",
    "\n",
    "THRESHOLD_WALL = 0.2\n",
    "ROOM_SIZE_RADIUS = 4.1\n",
    "ROOM_WALL_HEIGHT = 0.8\n",
    "ROOM_WALL_THICKNESS = 0.05\n",
    "OBSTACLE_NUM = 15\n",
    "OBSTACLE_SIZE = 0.6\n",
    "TARGET_SIZE = 0.2\n",
    "AGENT_SIZE = 0.3\n",
    "CLUSTER_EPS = 1.3\n",
    "\n",
    "config = [\n",
    "    dict(\n",
    "        type='extrude',\n",
    "        args=dict(\n",
    "            polygon=random_points_to_triangulation(\n",
    "                x_min=-ROOM_SIZE_RADIUS,\n",
    "                x_max=ROOM_SIZE_RADIUS,\n",
    "                y_min=-ROOM_SIZE_RADIUS,\n",
    "                y_max=ROOM_SIZE_RADIUS\n",
    "            ),\n",
    "            height=ROOM_WALL_HEIGHT,\n",
    "            thickness=ROOM_WALL_THICKNESS,\n",
    "            extrude_boundaries=True,\n",
    "            name='extruded_poly_triangulation',\n",
    "            color='random'\n",
    "        )\n",
    "    )\n",
    "]\n",
    "\n",
    "models = create_models_from_config(config)\n",
    "\n",
    "for model in models:\n",
    "    col = model.get_link_by_name(model.name).collisions[0]\n",
    "    col_mesh_before_trans = col.geometry._geometry_entity.get_meshes()[0] # Trimesh of not corrected by pose\n",
    "    col_mesh = col_mesh_before_trans.apply_transform(vec_to_trans(col.pose.position))\n",
    "#     col_poly = Polygon((col_mesh.vertices)[::2,:2]).convex_hull\n",
    "    col_poly = trimesh.path.polygons.projected(col_mesh, (0,0,ROOM_WALL_HEIGHT/2))\n",
    "    extrude_interior_poly = distance_filtered_poly(Polygon(col_poly.interiors[0]))\n",
    "    sample_pts = col.geometry._geometry_entity.get_samples(OBSTACLE_NUM)\n",
    "\n",
    "    model.spawn(\n",
    "        gazebo_proxy=gazebo_proxy, \n",
    "        robot_namespace=model.name,\n",
    "        pos=[0,0,ROOM_WALL_HEIGHT/2]\n",
    "    )\n",
    "\n",
    "# extrude_interior_poly = Polygon(col_poly.exterior.buffer(ROOM_WALL_THICKNESS, cap_style=1, join_style=2).interiors[0])\n",
    "\n",
    "mini_col_poly = unique_augment_poly(extrude_interior_poly, -1*(THRESHOLD_WALL+OBSTACLE_SIZE))\n",
    "# mini_col_poly = Polygon(extrude_interior_poly.exterior.buffer(THRESHOLD_WALL+OBSTACLE_SIZE, cap_style=1, join_style=2).interiors[0])\n",
    "sample_pts_2d = trimesh.path.polygons.sample(mini_col_poly, OBSTACLE_NUM)\n",
    "sample_pts = np.concatenate([\n",
    "    sample_pts_2d[np.newaxis,:,0].T, \n",
    "    sample_pts_2d[np.newaxis,:,1].T, \n",
    "    np.full([len(sample_pts_2d),1], OBSTACLE_SIZE/2)\n",
    "], 1)\n",
    "    \n",
    "# mini_col_mesh = trimesh.Trimesh(np.array(col_mesh.vertices)*THRESHOLD_WALL)\n",
    "# sample_pts = np.array(mini_col_mesh.convex_hull.sample(len(sample_pts)))\n",
    "# sample_pts += col.pose.position * THRESHOLD_WALL\n",
    "# sample_pts[:,2] = OBSTACLE_SIZE/2\n",
    "\n",
    "sample_rot = np.zeros_like(sample_pts)\n",
    "sample_rot[:,2] = np.random.random([len(sample_pts)])*np.pi*2\n",
    "\n",
    "sizes = [[OBSTACLE_SIZE, OBSTACLE_SIZE, OBSTACLE_SIZE]]*len(sample_pts)\n",
    "\n",
    "config_obstacle_box = [\n",
    "    dict(\n",
    "        type='box_factory',\n",
    "        args=dict(\n",
    "            size=sizes,\n",
    "            name='obstacle_box',\n",
    "            use_permutation=True,\n",
    "            color='white'\n",
    "        )\n",
    "    )\n",
    "]\n",
    "\n",
    "models_box = create_models_from_config(config_obstacle_box)\n",
    "for model, p, r in zip(models_box, sample_pts, sample_rot):\n",
    "    print(p, r)\n",
    "    model.spawn(\n",
    "        gazebo_proxy=gazebo_proxy, \n",
    "        robot_namespace=model.name,\n",
    "        pos=list(p),\n",
    "        rot=list(r)\n",
    "    )\n",
    "\n",
    "col_mesh.show()\n",
    "extrude_interior_poly"
   ]
  },
  {
   "cell_type": "code",
   "execution_count": 44,
   "metadata": {},
   "outputs": [
    {
     "data": {
      "image/svg+xml": [
       "<svg xmlns=\"http://www.w3.org/2000/svg\" xmlns:xlink=\"http://www.w3.org/1999/xlink\" width=\"100.0\" height=\"100.0\" viewBox=\"-2.98217074481 -3.27368288626 5.90291344704 6.5137322373\" preserveAspectRatio=\"xMinYMin meet\"><g transform=\"matrix(1,0,0,-1,0,-0.0336335352201)\"><path fill-rule=\"evenodd\" fill=\"#66cc99\" stroke=\"#555555\" stroke-width=\"0.130274644746\" opacity=\"0.6\" d=\"M -2.74092140269,-3.03243354414 L -2.44293516923,2.99880000892 L 2.02507519261,2.83669465071 L 2.67949336011,-2.70271579485 L -2.74092140269,-3.03243354414 z\" /></g></svg>"
      ],
      "text/plain": [
       "<shapely.geometry.polygon.Polygon at 0x7f837079d810>"
      ]
     },
     "execution_count": 44,
     "metadata": {},
     "output_type": "execute_result"
    }
   ],
   "source": [
    "mini_col_poly\n",
    "# list(mini_col_poly.exterior.coords)"
   ]
  },
  {
   "cell_type": "code",
   "execution_count": 45,
   "metadata": {},
   "outputs": [
    {
     "name": "stdout",
     "output_type": "stream",
     "text": [
      "[0 1 2 3 4 5 3 4 3 1 1 5 1 3 3]\n"
     ]
    }
   ],
   "source": [
    "from sklearn.cluster import DBSCAN\n",
    "\n",
    "db = DBSCAN(eps=np.sqrt((OBSTACLE_SIZE**2)*2)+AGENT_SIZE/2, min_samples=1).fit(np.array(sample_pts))\n",
    "labels = db.labels_\n",
    "print(labels)\n"
   ]
  },
  {
   "cell_type": "code",
   "execution_count": 46,
   "metadata": {},
   "outputs": [],
   "source": [
    "sizes = [[TARGET_SIZE, TARGET_SIZE, TARGET_SIZE]]*(max(labels)+1)\n",
    "config_target_box = [\n",
    "    dict(\n",
    "        type='box_factory',\n",
    "        args=dict(\n",
    "            size=sizes,\n",
    "            name='target_box',\n",
    "            use_permutation=True,\n",
    "            color='cyan'\n",
    "        )\n",
    "    )\n",
    "]\n",
    "\n",
    "models_target = create_models_from_config(config_target_box)"
   ]
  },
  {
   "cell_type": "code",
   "execution_count": 47,
   "metadata": {},
   "outputs": [
    {
     "data": {
      "image/svg+xml": [
       "<svg xmlns=\"http://www.w3.org/2000/svg\" xmlns:xlink=\"http://www.w3.org/1999/xlink\" width=\"100.0\" height=\"100.0\" viewBox=\"-3.55696 -3.92696 7.11092 7.85592\" preserveAspectRatio=\"xMinYMin meet\"><g transform=\"matrix(1,0,0,-1,0,0.002)\"><path fill-rule=\"evenodd\" fill=\"#66cc99\" stroke=\"#555555\" stroke-width=\"0.1571184\" opacity=\"0.6\" d=\"M -2.924,3.638 L -3.072,1.147 L -3.266,-3.636 L 3.263,-3.25 L 2.506,3.476 L -2.924,3.638 z M 1.53197127895,-1.14247618894 L 1.61156020639,-0.547778280226 L 2.2062581151,-0.62736720766 L 2.12666918767,-1.22206511638 L 1.53197127895,-1.14247618894 z M 0.735075835647,1.49189870907 L 1.08990668786,1.79198696134 L 0.717300412413,1.99250152 L 1.00162883605,2.52085495049 L 1.22256557066,2.4019599271 L 1.26184235424,2.9645608894 L 1.86038552661,2.92277487726 L 1.83805043007,2.60284677564 L 2.20245638284,2.53987031696 L 2.10027929049,1.94863445725 L 1.50904343078,2.05081154961 L 1.55942274258,2.34232557721 L 1.29968546948,2.36045857972 L 1.52998226654,2.23652652686 L 1.28155353002,1.77488370728 L 1.58065518679,1.42121942697 L 1.12252587017,1.03376939245 L 0.735075835647,1.49189870907 z M -0.320356150518,2.25619904784 L -0.111009111164,1.69390569281 L -0.673302466196,1.48455865346 L -0.882649505551,2.04685200849 L -0.320356150518,2.25619904784 z M -1.35110153724,-2.06765066819 L -1.93967236385,-1.9510986109 L -1.86872908987,-1.59284546305 L -2.3661840458,-1.60933775506 L -2.38606512517,-1.00966722662 L -1.78639459673,-0.989786147244 L -1.77371259558,-1.37231177306 L -1.23454947995,-1.47907984158 L -1.35110153724,-2.06765066819 z M -0.898466897636,0.844440221253 L -1.49212404385,0.757427620194 L -1.57913664491,1.35108476641 L -0.985479498695,1.43809736747 L -0.898466897636,0.844440221253 z M -2.12470364191,-0.165368127281 L -1.54919016542,0.00429105573417 L -1.37953098241,-0.571222420753 L -1.95504445889,-0.740881603768 L -2.12470364191,-0.165368127281 z M -1.55314748122,0.568982219392 L -0.956543308523,0.632727502474 L -0.892798025441,0.0361233297723 L -1.48940219814,-0.0276219533092 L -1.55314748122,0.568982219392 z M -0.698833036066,-2.71429540172 L -0.738728698959,-2.11562325765 L -0.35802437744,-2.09025302551 L -0.35633307535,-1.97134547222 L 0.243606240001,-1.97987881253 L 0.235072899685,-2.57981812788 L -0.106787873714,-2.57495561222 L -0.100160891999,-2.67439973883 L -0.698833036066,-2.71429540172 z M -0.640704183109,-1.51922871699 L -1.02740886082,-1.0604700743 L -0.568650218142,-0.673765396591 L -0.181945540428,-1.13252403927 L -0.640704183109,-1.51922871699 z M 0.422749113537,-0.857013677916 L -0.111391922392,-1.13031452632 L -0.384692770794,-0.596173490389 L 0.149448265135,-0.322872641987 L 0.422749113537,-0.857013677916 z\" /></g></svg>"
      ],
      "text/plain": [
       "<shapely.geometry.polygon.Polygon at 0x7f837035b590>"
      ]
     },
     "execution_count": 47,
     "metadata": {},
     "output_type": "execute_result"
    }
   ],
   "source": [
    "import shapely\n",
    "from shapely.geometry.polygon import Polygon, LinearRing, LineString\n",
    "\n",
    "zone_base_2d = [None]*(max(labels)+1)\n",
    "for i in range(len(zone_base_2d)):\n",
    "    pts = sample_pts_2d[labels==i]\n",
    "    \n",
    "    #A\n",
    "#     if len(pts) > 2:\n",
    "#         zone_base_2d[i] = trimesh.convex.hull_points(pts)\n",
    "#     else:\n",
    "#         zone_base_2d[i] = pts\n",
    "\n",
    "zone_vertices_2d = [None]*len(zone_base_2d)\n",
    "zone_polys = [None]*len(zone_base_2d)\n",
    "for i in range(len(zone_base_2d)):\n",
    "    pts = sample_pts[labels==i]\n",
    "    rts = sample_rot[labels==i]\n",
    "    vertices = [get_square_horizon(p, OBSTACLE_SIZE/2, r[2]) for p,r in zip(pts,rts)]\n",
    "    vertices_all = np.concatenate(vertices)\n",
    "\n",
    "    zone_vertices_2d[i] = trimesh.convex.hull_points(vertices_all[:,:2])\n",
    "    zone_polys[i] = shapely.ops.unary_union([Polygon(v) for v in vertices])\n",
    "    \n",
    "zone_hull = [None]*len(zone_base_2d)\n",
    "for i in range(len(zone_base_2d)):\n",
    "    p3 = np.zeros([len(zone_vertices_2d[i]),3])\n",
    "    p3[:,:2] = zone_vertices_2d[i]\n",
    "    zone_hull[i] = trimesh.Trimesh(vertices=get_extended_face(p3, OBSTACLE_SIZE)).convex_hull\n",
    "\n",
    "\n",
    "all_poly = []\n",
    "for polys in zone_polys:\n",
    "    if isinstance(polys, Polygon):\n",
    "        all_poly.append(polys)\n",
    "    else:\n",
    "        for p in polys:\n",
    "            all_poly.append(p)\n",
    "\n",
    "map_poly = Polygon(list(extrude_interior_poly.exterior.coords), map(lambda p: list(p.exterior.coords), all_poly))\n",
    "map_poly\n"
   ]
  },
  {
   "cell_type": "code",
   "execution_count": 48,
   "metadata": {},
   "outputs": [
    {
     "data": {
      "image/svg+xml": [
       "<svg xmlns=\"http://www.w3.org/2000/svg\" xmlns:xlink=\"http://www.w3.org/1999/xlink\" width=\"100.0\" height=\"100.0\" viewBox=\"1.50499980551 -1.24903658982 0.728229783041 0.728229783041\" preserveAspectRatio=\"xMinYMin meet\"><g transform=\"matrix(1,0,0,-1,0,-1.7698433966)\"><path fill-rule=\"evenodd\" fill=\"#66cc99\" stroke=\"#555555\" stroke-width=\"0.0145645956608\" opacity=\"0.6\" d=\"M 1.53197127895,-1.14247618894 L 1.61156020639,-0.547778280226 L 2.2062581151,-0.62736720766 L 2.12666918767,-1.22206511638 L 1.53197127895,-1.14247618894 z\" /></g></svg>"
      ],
      "text/plain": [
       "<shapely.geometry.polygon.Polygon at 0x7f8347fa4290>"
      ]
     },
     "execution_count": 48,
     "metadata": {},
     "output_type": "execute_result"
    }
   ],
   "source": [
    "zone_polys[0]"
   ]
  },
  {
   "cell_type": "code",
   "execution_count": 49,
   "metadata": {},
   "outputs": [
    {
     "name": "stdout",
     "output_type": "stream",
     "text": [
      "[[ 2.22044605e-16 -1.00000000e+00  1.00000000e+00]\n",
      " [ 1.00000000e+00  2.22044605e-16  1.00000000e+00]\n",
      " [ 0.00000000e+00  0.00000000e+00  1.00000000e+00]]\n"
     ]
    },
    {
     "data": {
      "image/png": "[encoded data removed]",
      "text/plain": [
       "<Figure size 432x288 with 1 Axes>"
      ]
     },
     "metadata": {
      "needs_background": "light"
     },
     "output_type": "display_data"
    },
    {
     "data": {
      "image/png": "[encoded data removed]",
      "text/plain": [
       "<Figure size 432x288 with 1 Axes>"
      ]
     },
     "metadata": {
      "needs_background": "light"
     },
     "output_type": "display_data"
    }
   ],
   "source": [
    "import shapely\n",
    "\n",
    "def fullmap_from_agent_pose(agent_pos, agent_ori, poly):\n",
    "\n",
    "    matrix_rota1 = quaternion.as_rotation_matrix(agent_ori)\n",
    "\n",
    "    matrix_trans1 = np.identity(3)\n",
    "    matrix_trans1[:2,2] = [agent_pos.x,agent_pos.y]\n",
    "\n",
    "    affine_matrix = np.dot(matrix_trans1, matrix_rota1)\n",
    "    print(affine_matrix)\n",
    "\n",
    "    # shapely.affinity.affine_transform(map_poly, [1,0,0,1,tx,ty])\n",
    "    return shapely.affinity.affine_transform(map_poly, [\n",
    "        affine_matrix[0,0],affine_matrix[0,1],\n",
    "        affine_matrix[1,0],affine_matrix[1,1],\n",
    "        affine_matrix[0,2],affine_matrix[1,2]\n",
    "    ])\n",
    "\n",
    "\n",
    "pq = np.quaternion(1,1,1,0) # (w,x,y,z)\n",
    "rq = quaternion.from_euler_angles(0,0,np.pi/2)\n",
    "\n",
    "p = fullmap_from_agent_pose(pq, rq, map_poly)\n",
    "\n",
    "trimesh.path.polygons.plot_polygon(map_poly)\n",
    "trimesh.path.polygons.plot_polygon(p)\n",
    "\n",
    "# shapely.affinity.rotate(map_poly, np.rad2deg(tr))"
   ]
  },
  {
   "cell_type": "markdown",
   "metadata": {},
   "source": [
    "### Methods to generate position of target\n",
    "\n",
    "Target position is sampled from convex face formed by cluster."
   ]
  },
  {
   "cell_type": "code",
   "execution_count": 50,
   "metadata": {},
   "outputs": [
    {
     "name": "stdout",
     "output_type": "stream",
     "text": [
      "[[ 1.72182356 -0.56253492  0.1       ]\n",
      " [ 1.04055082  1.13069846  0.1       ]\n",
      " [-0.44193742  2.21093321  0.1       ]\n",
      " [-2.03599314  0.08121074  0.1       ]\n",
      " [-0.59814027 -2.06257927  0.1       ]\n",
      " [-0.19798928 -0.49264506  0.1       ]]\n"
     ]
    }
   ],
   "source": [
    "zone_samples = [None]*len(zone_hull)\n",
    "for i in range(len(zone_samples)):\n",
    "    ## sample_surface return tuple, so choice 0 index\n",
    "    samples = trimesh.sample.sample_surface_even(zone_hull[i], 100)[0]\n",
    "    zone_samples[i] = samples[\n",
    "        np.logical_and(\n",
    "            np.not_equal(samples[:,2], 0), \n",
    "            np.not_equal(samples[:,2], OBSTACLE_SIZE)\n",
    "        )\n",
    "    ]\n",
    "\n",
    "choiced_goal = np.zeros([len(zone_hull),3])\n",
    "for i in range(len(choiced_goal)):\n",
    "    choiced_goal[i] = zone_samples[i][np.random.choice(range(len(zone_samples[i])))]\n",
    "    \n",
    "choiced_goal[:,2] = TARGET_SIZE/2\n",
    "\n",
    "print(choiced_goal)\n",
    "for model, p in zip(models_target, choiced_goal):\n",
    "    model.get_link_by_name('link').disable_collision()\n",
    "    model.spawn(\n",
    "        gazebo_proxy=gazebo_proxy, \n",
    "        robot_namespace=model.name,\n",
    "        pos=list(p)\n",
    "    )"
   ]
  },
  {
   "cell_type": "code",
   "execution_count": 153,
   "metadata": {},
   "outputs": [],
   "source": [
    "def delete_models(model_name, start=None, stop=None):\n",
    "    if start is not None and stop is not None:\n",
    "        for i in range(start, stop+1):\n",
    "            gazebo_proxy.delete_model(model_name=model_name+\"_\"+str(i))\n",
    "    else:\n",
    "        gazebo_proxy.delete_model(model_name=model_name)\n",
    "        \n",
    "delete_models('target_box', 0, 7)"
   ]
  },
  {
   "cell_type": "code",
   "execution_count": null,
   "metadata": {},
   "outputs": [],
   "source": []
  }
 ],
 "metadata": {
  "kernelspec": {
   "display_name": "Python 2",
   "language": "python",
   "name": "python2"
  },
  "language_info": {
   "codemirror_mode": {
    "name": "ipython",
    "version": 2
   },
   "file_extension": ".py",
   "mimetype": "text/x-python",
   "name": "python",
   "nbconvert_exporter": "python",
   "pygments_lexer": "ipython2",
   "version": "2.7.17"
  }
 },
 "nbformat": 4,
 "nbformat_minor": 2
}
