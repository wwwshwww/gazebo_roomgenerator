{
 "cells": [
  {
   "cell_type": "code",
   "execution_count": null,
   "metadata": {},
   "outputs": [],
   "source": [
    "import rospy"
   ]
  },
  {
   "cell_type": "code",
   "execution_count": null,
   "metadata": {},
   "outputs": [],
   "source": [
    "DEFAULT_I = 10\n",
    "try:\n",
    "    i = rospy.get_param('ii')\n",
    "except:\n",
    "    print('can not collect param. Going to use default value.')\n",
    "    i = DEFAULT_I\n",
    "    \n",
    "print(i)"
   ]
  },
  {
   "cell_type": "code",
   "execution_count": null,
   "metadata": {},
   "outputs": [],
   "source": [
    "from pcg_gazebo.task_manager import ProcessManager\n",
    "from pcg_gazebo.generators.creators import create_models_from_config\n",
    "\n",
    "TARGET_SIM = dict(\n",
    "    ros_host='localhost',\n",
    "    ros_port=11311,\n",
    "    gazebo_host='localhost',\n",
    "    gazebo_port=11345\n",
    ")\n",
    "\n",
    "process_manager = ProcessManager(**TARGET_SIM)\n",
    "gazebo_proxy = process_manager.get_gazebo_proxy()\n",
    "print(gazebo_proxy.ros_config)"
   ]
  },
  {
   "cell_type": "code",
   "execution_count": 69,
   "metadata": {},
   "outputs": [
    {
     "name": "stdout",
     "output_type": "stream",
     "text": [
      "[<pcg_gazebo.simulation.model.SimulationModel object at 0x7f01591add90>]\n",
      "None\n",
      "False\n",
      "<collision name=\"collision\">\n",
      "  <geometry>\n",
      "    <mesh>\n",
      "      <scale>1 1 1</scale>\n",
      "      <uri>file:///root/.pcg/meshes/wryqEJHpEa.stl</uri>\n",
      "    </mesh>\n",
      "  </geometry>\n",
      "  <max_contacts>20</max_contacts>\n",
      "  <pose frame=\"\">0.0686393 -0.304091 -0.4 0 -0 0</pose>\n",
      "</collision>\n",
      "\n",
      "[[-1.78402978  2.86911611  0.        ]\n",
      " [-1.52010674  4.04580442  0.43679641]\n",
      " [ 1.5395506  -2.79342143  0.01516975]\n",
      " [-2.7037066  -2.02148984  0.63439708]\n",
      " [-2.02808324 -3.1642902   0.79177679]\n",
      " [ 2.27665023  1.01863116  0.71062924]\n",
      " [-2.07106532  1.63876625  0.48956324]\n",
      " [-1.17283137  3.85618664  0.32211751]\n",
      " [-0.83037012 -3.15669156  0.8       ]\n",
      " [ 1.45612521  2.58107428  0.33518022]]\n",
      "220\n",
      "(array([-0.90977874, -1.24368303,  0.4       ]), array([0.       , 0.       , 0.2666369]))\n",
      "(array([ 0.14866634, -1.84486108,  0.4       ]), array([0.       , 0.       , 0.1605894]))\n",
      "(array([-1.22617773, -0.66134834,  0.4       ]), array([0.        , 0.        , 6.13507792]))\n",
      "(array([ 0.94725833, -0.70478982,  0.4       ]), array([0.        , 0.        , 4.75453991]))\n",
      "(array([-1.23679402, -0.19572782,  0.4       ]), array([0.        , 0.        , 4.16466432]))\n",
      "(array([-0.24266126, -2.37005291,  0.4       ]), array([0.        , 0.        , 0.46983682]))\n",
      "(array([1.03567247, 1.02680552, 0.4       ]), array([0.        , 0.        , 3.48161172]))\n",
      "(array([0.15604932, 1.32227904, 0.4       ]), array([0.        , 0.        , 1.62926014]))\n",
      "(array([-0.9789685, -1.3140389,  0.4      ]), array([0.        , 0.        , 2.11019932]))\n",
      "(array([-1.06225435, -0.23930628,  0.4       ]), array([0.        , 0.        , 4.79367938]))\n"
     ]
    }
   ],
   "source": [
    "## spawn box to the any place of wall collision space coordinates\n",
    "\n",
    "import numpy as np\n",
    "from pcg_gazebo.generators.shapes import random_rectangle, \\\n",
    "    random_points_to_triangulation, random_rectangles\n",
    "import trimesh\n",
    "\n",
    "THRESHOLD_WALL = 0.7\n",
    "ROOM_SIZE_RADIUS = 4.5\n",
    "ROOM_WALL_HEIGHT = 0.8\n",
    "OBSTACLE_NUM = 10\n",
    "OBSTACLE_SIZE = 0.8\n",
    "\n",
    "config = [\n",
    "    dict(\n",
    "        type='extrude',\n",
    "        args=dict(\n",
    "            polygon=random_points_to_triangulation(\n",
    "                x_min=-ROOM_SIZE_RADIUS,\n",
    "                x_max=ROOM_SIZE_RADIUS,\n",
    "                y_min=-ROOM_SIZE_RADIUS,\n",
    "                y_max=ROOM_SIZE_RADIUS\n",
    "            ),\n",
    "            height=ROOM_WALL_HEIGHT,\n",
    "            thickness=0.1,\n",
    "            extrude_boundaries=True,\n",
    "            name='extruded_poly_triangulation',\n",
    "            color='random'\n",
    "        )\n",
    "    )\n",
    "]\n",
    "\n",
    "models = create_models_from_config(config)\n",
    "print(models)\n",
    "for model in models:\n",
    "    print(model.get_link_by_name('visual_mesh'))\n",
    "    print(model.links is None)\n",
    "    for elem in model.links:\n",
    "        cols = model.get_link_by_name(elem).collisions\n",
    "        print(cols[0])\n",
    "        col_mesh = cols[0]._geometry._geometry_entity.get_meshes()[0]\n",
    "        sample_pts = cols[0]._geometry._geometry_entity.get_samples(OBSTACLE_NUM)\n",
    "        print(sample_pts)\n",
    "    model.spawn(\n",
    "        gazebo_proxy=gazebo_proxy, \n",
    "        robot_namespace=model.name,\n",
    "        pos=[0,0,ROOM_WALL_HEIGHT/2]\n",
    "    )\n",
    "\n",
    "print(len(col_mesh.vertices))\n",
    "mini_col_mesh = trimesh.Trimesh(np.array(col_mesh.vertices)*THRESHOLD_WALL)\n",
    "\n",
    "sample_pts = np.array(mini_col_mesh.convex_hull.sample(len(sample_pts)))\n",
    "sample_pts += cols[0].pose.position * THRESHOLD_WALL\n",
    "sample_pts[:,2] = OBSTACLE_SIZE/2\n",
    "\n",
    "sample_rot = np.zeros([len(sample_pts), 3])\n",
    "sample_rot[:,2] = np.random.random([len(sample_pts)])*np.pi*2\n",
    "\n",
    "sizes = [[OBSTACLE_SIZE, OBSTACLE_SIZE, OBSTACLE_SIZE]]*len(sample_pts)\n",
    "\n",
    "config_obstacle_box = [\n",
    "    dict(\n",
    "        type='box_factory',\n",
    "        args=dict(\n",
    "            size=sizes,\n",
    "            name='box_static_var_size',\n",
    "            use_permutation=True,\n",
    "            color='white'\n",
    "        )\n",
    "    )\n",
    "]\n",
    "\n",
    "models_box = create_models_from_config(config_obstacle_box)\n",
    "for model, p, r in zip(models_box, sample_pts, sample_rot):\n",
    "    print(p, r)\n",
    "    model.spawn(\n",
    "        gazebo_proxy=gazebo_proxy, \n",
    "        robot_namespace=model.name,\n",
    "        pos=list(p),\n",
    "        rot=list(r)\n",
    "    )"
   ]
  },
  {
   "cell_type": "code",
   "execution_count": 76,
   "metadata": {},
   "outputs": [],
   "source": [
    "def get_square_horizon(base_pos, half_length):\n",
    "    poss = [None]*4\n",
    "    for i in range(4):\n",
    "        pos = [0,0,base_pos[2]]\n",
    "        d1 = [1,1,-1,-1]\n",
    "        d2 = [1,-1,-1,1]\n",
    "        pos[0] = base_pos[0] + d1[i]*half_length\n",
    "        pos[1] = base_pos[1] + d2[i]*half_length\n",
    "        poss[i] = pos\n",
    "    \n",
    "    return poss"
   ]
  },
  {
   "cell_type": "code",
   "execution_count": 99,
   "metadata": {},
   "outputs": [
    {
     "name": "stdout",
     "output_type": "stream",
     "text": [
      "[0 0 0 1 0 0 2 2 0 0]\n",
      "[[-0.90977874 -1.24368303  0.4       ]\n",
      " [ 0.14866634 -1.84486108  0.4       ]\n",
      " [-1.22617773 -0.66134834  0.4       ]\n",
      " [-1.23679402 -0.19572782  0.4       ]\n",
      " [-0.24266126 -2.37005291  0.4       ]\n",
      " [-0.9789685  -1.3140389   0.4       ]\n",
      " [-1.06225435 -0.23930628  0.4       ]\n",
      " [-0.90977874 -1.24368303  0.        ]\n",
      " [ 0.14866634 -1.84486108  0.        ]\n",
      " [-1.22617773 -0.66134834  0.        ]\n",
      " [-1.23679402 -0.19572782  0.        ]\n",
      " [-0.24266126 -2.37005291  0.        ]\n",
      " [-0.9789685  -1.3140389   0.        ]\n",
      " [-1.06225435 -0.23930628  0.        ]]\n",
      "[[ 0.94725833 -0.70478982  0.4       ]\n",
      " [ 0.94725833 -0.70478982  0.        ]]\n",
      "[[1.03567247 1.02680552 0.4       ]\n",
      " [0.15604932 1.32227904 0.4       ]\n",
      " [1.03567247 1.02680552 0.        ]\n",
      " [0.15604932 1.32227904 0.        ]]\n",
      "zone_full: \n",
      "[<trimesh.Trimesh(vertices.shape=(12, 3), faces.shape=(20, 3))>, <trimesh.Trimesh(vertices.shape=(8, 3), faces.shape=(12, 3))>, <trimesh.Trimesh(vertices.shape=(12, 3), faces.shape=(20, 3))>]\n"
     ]
    }
   ],
   "source": [
    "from sklearn.cluster import DBSCAN\n",
    "\n",
    "db = DBSCAN(eps=np.sqrt(OBSTACLE_SIZE*2), min_samples=1).fit(np.array(sample_pts))\n",
    "labels = db.labels_\n",
    "print(labels)\n",
    "\n",
    "zone_hull = [None]*(max(labels)+1)\n",
    "centers = [None]*len(zone_hull)\n",
    "for i in range(len(zone_hull)):\n",
    "    pts = sample_pts[labels==i]\n",
    "    pts_bottom = np.copy(pts)\n",
    "    pts_bottom[:,2] = 0\n",
    "    pts = np.concatenate([pts, pts_bottom])\n",
    "    print(pts)\n",
    "    if len(pts) > 4:\n",
    "#         zone_hull[i] = trimesh.convex.hull_points(pts[:,:2])\n",
    "        zone_hull[i] = trimesh.Trimesh(vertices=pts).convex_hull\n",
    "    else:\n",
    "        v = []\n",
    "        for p in pts:\n",
    "            v.extend(get_square_horizon(p, 0.1))\n",
    "        v = np.array(v)\n",
    "#         zone_hull[i] = trimesh.convex.hull_points(v[:,:2])\n",
    "        zone_hull[i] = trimesh.Trimesh(vertices=v).convex_hull\n",
    "    \n",
    "print(\"zone_full: \\n{}\".format(zone_hull))\n"
   ]
  },
  {
   "cell_type": "code",
   "execution_count": 94,
   "metadata": {},
   "outputs": [
    {
     "data": {
      "text/plain": [
       "<trimesh.Trimesh(vertices.shape=(4, 3), faces.shape=(0, 3))>"
      ]
     },
     "execution_count": 94,
     "metadata": {},
     "output_type": "execute_result"
    }
   ],
   "source": [
    "trimesh.Trimesh(vertices=pts)"
   ]
  },
  {
   "cell_type": "code",
   "execution_count": null,
   "metadata": {},
   "outputs": [],
   "source": [
    "def delete_models(model_name, start=None, stop=None):\n",
    "    if start is not None and stop is not None:\n",
    "        for i in range(start, stop+1):\n",
    "            gazebo_proxy.delete_model(model_name=model_name+\"_\"+str(i))\n",
    "    else:\n",
    "        gazebo_proxy.delete_model(model_name='')\n",
    "        \n",
    "delete_models('box_static_var_size', 30, 49)"
   ]
  },
  {
   "cell_type": "code",
   "execution_count": null,
   "metadata": {},
   "outputs": [],
   "source": [
    "\"2\"+\"3\""
   ]
  },
  {
   "cell_type": "code",
   "execution_count": null,
   "metadata": {},
   "outputs": [],
   "source": []
  }
 ],
 "metadata": {
  "kernelspec": {
   "display_name": "Python 2",
   "language": "python",
   "name": "python2"
  },
  "language_info": {
   "codemirror_mode": {
    "name": "ipython",
    "version": 2
   },
   "file_extension": ".py",
   "mimetype": "text/x-python",
   "name": "python",
   "nbconvert_exporter": "python",
   "pygments_lexer": "ipython2",
   "version": "2.7.17"
  }
 },
 "nbformat": 4,
 "nbformat_minor": 2
}
