{
 "cells": [
  {
   "cell_type": "code",
   "execution_count": null,
   "metadata": {},
   "outputs": [],
   "source": [
    "DEFAULT_I = 10\n",
    "try:\n",
    "    i = rospy.get_param('ii')\n",
    "except:\n",
    "    print('can not collect param. Going to use default value.')\n",
    "    i = DEFAULT_I\n",
    "    \n",
    "print(i)"
   ]
  },
  {
   "cell_type": "code",
   "execution_count": 118,
   "metadata": {},
   "outputs": [
    {
     "data": {
      "text/plain": [
       "array([[1.   , 0.   , 0.   , 0.212],\n",
       "       [0.   , 1.   , 0.   , 3.   ],\n",
       "       [0.   , 0.   , 1.   , 4.   ],\n",
       "       [0.   , 0.   , 0.   , 1.   ]])"
      ]
     },
     "execution_count": 118,
     "metadata": {},
     "output_type": "execute_result"
    }
   ],
   "source": [
    "r2 = np.sqrt(2)\n",
    "a = np.array([[r2,r2],[1,1]])\n",
    "an = np.linalg.norm(a, axis=1, ord=2)\n",
    "np.linalg.norm(a/an[np.newaxis, :].T, axis=1)\n",
    "\n",
    "b = np.identity(4)\n",
    "b[:3, 3] = np.round([0.21234123412,3,4],3)\n",
    "b\n",
    "\n"
   ]
  },
  {
   "cell_type": "code",
   "execution_count": 123,
   "metadata": {},
   "outputs": [],
   "source": [
    "import quaternion\n",
    "from shapely.geometry import Polygon\n",
    "\n",
    "def vec_to_trans(vec):\n",
    "    a = np.identity(len(vec)+1)\n",
    "    a[:len(vec),len(vec)] = vec\n",
    "    return a\n",
    "\n",
    "def distance_filtered_poly(polygon, distance=0.01):\n",
    "    c = np.round(polygon.exterior.coords, 3)\n",
    "    ban = np.zeros([len(c)], dtype=int)\n",
    "    for i in range(len(c)):\n",
    "        if not ban[i]:\n",
    "            n = np.linalg.norm(c-c[i], axis=1) < distance\n",
    "            n[i] = False\n",
    "            ban = np.logical_or(ban, n) \n",
    "            \n",
    "    print(c, ban)\n",
    "    \n",
    "    return Polygon(c[np.logical_not(ban)])\n",
    "\n",
    "def get_square_horizon(base_pos, radius, z_angle=0):\n",
    "    d1 = [1,1,-1,-1]\n",
    "    d2 = [1,-1,-1,1]\n",
    "    poss = np.array([np.quaternion(1,d1[i]*radius,d2[i]*radius,0) for i in range(4)])\n",
    "    q = quaternion.from_euler_angles(0,0,z_angle)\n",
    "    pq = q*poss*q.conj()\n",
    "    \n",
    "    return np.array([[p.x, p.y, p.z] for p in pq])+base_pos\n",
    "\n",
    "def get_extended_face(face_vertices, length):\n",
    "    face_bottom = np.copy(face_vertices)\n",
    "    face_bottom[:,2] += length\n",
    "    return np.concatenate([face_vertices, face_bottom])\n",
    "\n",
    "def unique_augment_poly(polygon, length, center=None):\n",
    "    '''\n",
    "    arg1: must be object of shapely.geometry such as Polygon and more.\n",
    "    arg2: length of augmentation to centroid\n",
    "    '''\n",
    "    \n",
    "    p = np.array(polygon.exterior.coords)\n",
    "    if center is None:\n",
    "#         c = polygon.centroid\n",
    "        c = np.mean(p[:-1], axis=0)\n",
    "    else:\n",
    "        c = center\n",
    "    r = p - c\n",
    "    n = r / np.linalg.norm(r, axis=1, ord=2)[np.newaxis,:].T\n",
    "    return Polygon(p+n*length).convex_hull\n",
    "\n",
    "# p = [0, 0, 0]\n",
    "# ang = np.pi/4\n",
    "# print(get_square_horizon(p, 0.1, ang))"
   ]
  },
  {
   "cell_type": "code",
   "execution_count": 73,
   "metadata": {},
   "outputs": [
    {
     "name": "stdout",
     "output_type": "stream",
     "text": [
      "ROS_MASTER_URI=http://localhost:11311, GAZEBO_MASTER_URI=http://localhost:11345\n"
     ]
    }
   ],
   "source": [
    "from pcg_gazebo.task_manager import ProcessManager\n",
    "from pcg_gazebo.generators.creators import create_models_from_config\n",
    "\n",
    "TARGET_SIM = dict(\n",
    "    ros_host='localhost',\n",
    "    ros_port=11311,\n",
    "    gazebo_host='localhost',\n",
    "    gazebo_port=11345\n",
    ")\n",
    "\n",
    "process_manager = ProcessManager(**TARGET_SIM)\n",
    "gazebo_proxy = process_manager.get_gazebo_proxy()\n",
    "print(gazebo_proxy.ros_config)"
   ]
  },
  {
   "cell_type": "code",
   "execution_count": 128,
   "metadata": {},
   "outputs": [
    {
     "name": "stdout",
     "output_type": "stream",
     "text": [
      "(array([[-3.49 ,  0.664],\n",
      "       [-3.49 ,  0.664],\n",
      "       [-3.49 ,  0.664],\n",
      "       [-3.49 ,  0.664],\n",
      "       [-3.49 ,  0.664],\n",
      "       [-3.49 ,  0.664],\n",
      "       [-3.49 ,  0.664],\n",
      "       [-0.025, -3.752],\n",
      "       [-0.025, -3.752],\n",
      "       [-0.025, -3.752],\n",
      "       [-0.025, -3.752],\n",
      "       [-0.025, -3.752],\n",
      "       [-0.025, -3.752],\n",
      "       [-0.025, -3.752],\n",
      "       [-0.025, -3.752],\n",
      "       [-0.025, -3.752],\n",
      "       [-0.025, -3.752],\n",
      "       [-0.025, -3.752],\n",
      "       [-0.025, -3.752],\n",
      "       [-0.025, -3.752],\n",
      "       [-0.025, -3.752],\n",
      "       [-0.025, -3.752],\n",
      "       [-0.025, -3.752],\n",
      "       [-0.025, -3.752],\n",
      "       [-0.025, -3.752],\n",
      "       [-0.025, -3.752],\n",
      "       [-0.025, -3.752],\n",
      "       [-0.025, -3.752],\n",
      "       [-0.025, -3.752],\n",
      "       [ 1.719, -0.18 ],\n",
      "       [ 1.719, -0.18 ],\n",
      "       [ 3.506,  3.794],\n",
      "       [ 3.506,  3.794],\n",
      "       [ 3.506,  3.794],\n",
      "       [ 3.506,  3.794],\n",
      "       [ 3.506,  3.794],\n",
      "       [ 3.506,  3.794],\n",
      "       [ 3.506,  3.794],\n",
      "       [ 3.506,  3.794],\n",
      "       [ 3.506,  3.794],\n",
      "       [ 3.506,  3.794],\n",
      "       [ 3.506,  3.794],\n",
      "       [ 3.506,  3.794],\n",
      "       [ 3.506,  3.794],\n",
      "       [ 3.506,  3.794],\n",
      "       [ 3.506,  3.794],\n",
      "       [ 3.506,  3.794],\n",
      "       [ 3.506,  3.794],\n",
      "       [ 3.506,  3.794],\n",
      "       [ 3.506,  3.794],\n",
      "       [ 3.506,  3.794],\n",
      "       [ 3.506,  3.794],\n",
      "       [ 3.506,  3.794],\n",
      "       [-1.889,  3.688],\n",
      "       [-1.889,  3.688],\n",
      "       [-1.889,  3.688],\n",
      "       [-1.889,  3.688],\n",
      "       [-1.889,  3.688],\n",
      "       [-1.889,  3.688],\n",
      "       [-1.889,  3.688],\n",
      "       [-1.889,  3.688],\n",
      "       [-1.889,  3.688],\n",
      "       [-1.889,  3.688],\n",
      "       [-1.889,  3.688],\n",
      "       [-3.532,  1.132],\n",
      "       [-3.532,  1.132],\n",
      "       [-3.532,  1.132],\n",
      "       [-3.532,  1.132],\n",
      "       [-3.532,  1.132],\n",
      "       [-3.532,  1.132],\n",
      "       [-3.532,  1.132],\n",
      "       [-3.532,  1.132],\n",
      "       [-3.49 ,  0.664]]), array([False,  True,  True,  True,  True,  True,  True, False,  True,\n",
      "        True,  True,  True,  True,  True,  True,  True,  True,  True,\n",
      "        True,  True,  True,  True,  True,  True,  True,  True,  True,\n",
      "        True,  True, False,  True, False,  True,  True,  True,  True,\n",
      "        True,  True,  True,  True,  True,  True,  True,  True,  True,\n",
      "        True,  True,  True,  True,  True,  True,  True,  True, False,\n",
      "        True,  True,  True,  True,  True,  True,  True,  True,  True,\n",
      "        True, False,  True,  True,  True,  True,  True,  True,  True,\n",
      "        True]))\n",
      "(array([-0.78191079,  1.6866961 ,  0.3       ]), array([0.       , 0.       , 2.5395784]))\n",
      "(array([-1.51639244,  1.80041542,  0.3       ]), array([0.        , 0.        , 3.54797066]))\n",
      "(array([ 0.43942178, -0.43208544,  0.3       ]), array([0.        , 0.        , 5.71911905]))\n",
      "(array([-0.32165888,  0.61135268,  0.3       ]), array([0.        , 0.        , 3.44342293]))\n",
      "(array([-1.04861195,  0.26102631,  0.3       ]), array([0.        , 0.        , 3.73990043]))\n",
      "(array([-0.35550498,  1.95583816,  0.3       ]), array([0.        , 0.        , 0.45259716]))\n",
      "(array([ 6.31653667e-04, -6.47134128e-01,  3.00000000e-01]), array([0.        , 0.        , 0.36386133]))\n",
      "(array([0.39106131, 1.20448245, 0.3       ]), array([0.        , 0.        , 0.82876765]))\n",
      "(array([-0.88943118,  2.42467482,  0.3       ]), array([0.        , 0.        , 0.34760835]))\n",
      "(array([-0.13061159,  1.78785658,  0.3       ]), array([0.        , 0.        , 0.65703774]))\n",
      "(array([1.15089613, 2.11293491, 0.3       ]), array([0.        , 0.        , 3.96953712]))\n",
      "(array([-1.92864568,  1.18399659,  0.3       ]), array([0.       , 0.       , 4.0011836]))\n",
      "(array([1.52915034, 1.86735315, 0.3       ]), array([0.        , 0.        , 6.28074729]))\n",
      "(array([-1.7654158 ,  0.99372755,  0.3       ]), array([0.        , 0.        , 2.33385343]))\n",
      "(array([1.13782257, 0.77104709, 0.3       ]), array([0.        , 0.        , 1.78733034]))\n"
     ]
    },
    {
     "data": {
      "image/svg+xml": [
       "<svg xmlns=\"http://www.w3.org/2000/svg\" xmlns:xlink=\"http://www.w3.org/1999/xlink\" width=\"100.0\" height=\"100.0\" viewBox=\"-3.83384 -4.05384 7.64168 8.14968\" preserveAspectRatio=\"xMinYMin meet\"><g transform=\"matrix(1,0,0,-1,0,0.042)\"><path fill-rule=\"evenodd\" fill=\"#66cc99\" stroke=\"#555555\" stroke-width=\"0.1629936\" opacity=\"0.6\" d=\"M -3.49,0.664 L -0.025,-3.752 L 1.719,-0.18 L 3.506,3.794 L -1.889,3.688 L -3.532,1.132 L -3.49,0.664 z\" /></g></svg>"
      ],
      "text/plain": [
       "<shapely.geometry.polygon.Polygon at 0x7f9bce9c1550>"
      ]
     },
     "execution_count": 128,
     "metadata": {},
     "output_type": "execute_result"
    }
   ],
   "source": [
    "## spawn box to the any place of wall collision space coordinates\n",
    "\n",
    "import numpy as np\n",
    "from pcg_gazebo.generators.shapes import random_rectangle, \\\n",
    "    random_points_to_triangulation, random_rectangles\n",
    "import trimesh\n",
    "from shapely.geometry import Polygon\n",
    "\n",
    "THRESHOLD_WALL = 0.5\n",
    "ROOM_SIZE_RADIUS = 4.1\n",
    "ROOM_WALL_HEIGHT = 0.8\n",
    "ROOM_WALL_THICKNESS = 0.05\n",
    "OBSTACLE_NUM = 15\n",
    "OBSTACLE_SIZE = 0.6\n",
    "TARGET_SIZE = 0.2\n",
    "AGENT_SIZE = 0.3\n",
    "CLUSTER_EPS = 1.3\n",
    "\n",
    "config = [\n",
    "    dict(\n",
    "        type='extrude',\n",
    "        args=dict(\n",
    "            polygon=random_points_to_triangulation(\n",
    "                x_min=-ROOM_SIZE_RADIUS,\n",
    "                x_max=ROOM_SIZE_RADIUS,\n",
    "                y_min=-ROOM_SIZE_RADIUS,\n",
    "                y_max=ROOM_SIZE_RADIUS\n",
    "            ),\n",
    "            height=ROOM_WALL_HEIGHT,\n",
    "            thickness=ROOM_WALL_THICKNESS,\n",
    "            extrude_boundaries=True,\n",
    "            name='extruded_poly_triangulation',\n",
    "            color='random'\n",
    "        )\n",
    "    )\n",
    "]\n",
    "\n",
    "models = create_models_from_config(config)\n",
    "\n",
    "for model in models:\n",
    "    col = model.get_link_by_name(model.name).collisions[0]\n",
    "    col_mesh_before_trans = col.geometry._geometry_entity.get_meshes()[0] # Trimesh of not corrected by pose\n",
    "    col_mesh = col_mesh_before_trans.apply_transform(vec_to_trans(col.pose.position))\n",
    "#     col_poly = Polygon((col_mesh.vertices)[::2,:2]).convex_hull\n",
    "    col_poly = trimesh.path.polygons.projected(col_mesh, (0,0,ROOM_WALL_HEIGHT/2))\n",
    "    extrude_interior_poly = Polygon(col_poly.interiors[0])\n",
    "    extrude_interior_poly = distance_filtered_poly(extrude_interior_poly)\n",
    "    sample_pts = col.geometry._geometry_entity.get_samples(OBSTACLE_NUM)\n",
    "\n",
    "    model.spawn(\n",
    "        gazebo_proxy=gazebo_proxy, \n",
    "        robot_namespace=model.name,\n",
    "        pos=[0,0,ROOM_WALL_HEIGHT/2]\n",
    "    )\n",
    "\n",
    "# extrude_interior_poly = Polygon(col_poly.exterior.buffer(ROOM_WALL_THICKNESS, cap_style=1, join_style=2).interiors[0])\n",
    "\n",
    "mini_col_poly = unique_augment_poly(extrude_interior_poly, -1*(THRESHOLD_WALL+OBSTACLE_SIZE))\n",
    "# mini_col_poly = Polygon(extrude_interior_poly.exterior.buffer(THRESHOLD_WALL+OBSTACLE_SIZE, cap_style=1, join_style=2).interiors[0])\n",
    "sample_pts_2d = trimesh.path.polygons.sample(mini_col_poly, OBSTACLE_NUM)\n",
    "sample_pts = np.concatenate([\n",
    "    sample_pts_2d[np.newaxis,:,0].T, \n",
    "    sample_pts_2d[np.newaxis,:,1].T, \n",
    "    np.full([len(sample_pts_2d),1], OBSTACLE_SIZE/2)\n",
    "], 1)\n",
    "    \n",
    "# mini_col_mesh = trimesh.Trimesh(np.array(col_mesh.vertices)*THRESHOLD_WALL)\n",
    "# sample_pts = np.array(mini_col_mesh.convex_hull.sample(len(sample_pts)))\n",
    "# sample_pts += col.pose.position * THRESHOLD_WALL\n",
    "# sample_pts[:,2] = OBSTACLE_SIZE/2\n",
    "\n",
    "sample_rot = np.zeros_like(sample_pts)\n",
    "sample_rot[:,2] = np.random.random([len(sample_pts)])*np.pi*2\n",
    "\n",
    "sizes = [[OBSTACLE_SIZE, OBSTACLE_SIZE, OBSTACLE_SIZE]]*len(sample_pts)\n",
    "\n",
    "config_obstacle_box = [\n",
    "    dict(\n",
    "        type='box_factory',\n",
    "        args=dict(\n",
    "            size=sizes,\n",
    "            name='obstacle_box',\n",
    "            use_permutation=True,\n",
    "            color='white'\n",
    "        )\n",
    "    )\n",
    "]\n",
    "\n",
    "models_box = create_models_from_config(config_obstacle_box)\n",
    "for model, p, r in zip(models_box, sample_pts, sample_rot):\n",
    "    print(p, r)\n",
    "    model.spawn(\n",
    "        gazebo_proxy=gazebo_proxy, \n",
    "        robot_namespace=model.name,\n",
    "        pos=list(p),\n",
    "        rot=list(r)\n",
    "    )\n",
    "\n",
    "col_mesh.show()\n",
    "extrude_interior_poly"
   ]
  },
  {
   "cell_type": "code",
   "execution_count": 129,
   "metadata": {},
   "outputs": [
    {
     "data": {
      "image/svg+xml": [
       "<svg xmlns=\"http://www.w3.org/2000/svg\" xmlns:xlink=\"http://www.w3.org/1999/xlink\" width=\"100.0\" height=\"100.0\" viewBox=\"-2.66861414703 -2.89374824991 5.50795608313 6.2874918379\" preserveAspectRatio=\"xMinYMin meet\"><g transform=\"matrix(1,0,0,-1,0,0.49999533807)\"><path fill-rule=\"evenodd\" fill=\"#66cc99\" stroke=\"#555555\" stroke-width=\"0.125749836758\" opacity=\"0.6\" d=\"M -0.164474649812,-2.66087818184 L -2.39342110993,0.750687587688 L -2.43574407896,1.0413194862 L -1.43407306544,2.68648041247 L 2.60647186803,3.16087351991 L -0.164474649812,-2.66087818184 z\" /></g></svg>"
      ],
      "text/plain": [
       "<shapely.geometry.polygon.Polygon at 0x7f9bf0098890>"
      ]
     },
     "execution_count": 129,
     "metadata": {},
     "output_type": "execute_result"
    }
   ],
   "source": [
    "mini_col_poly\n",
    "# list(mini_col_poly.exterior.coords)"
   ]
  },
  {
   "cell_type": "code",
   "execution_count": 130,
   "metadata": {},
   "outputs": [
    {
     "name": "stdout",
     "output_type": "stream",
     "text": [
      "[0 0 1 0 0 0 1 0 0 0 2 0 2 0 0]\n"
     ]
    }
   ],
   "source": [
    "from sklearn.cluster import DBSCAN\n",
    "\n",
    "db = DBSCAN(eps=np.sqrt((OBSTACLE_SIZE**2)*2)+AGENT_SIZE/2, min_samples=1).fit(np.array(sample_pts))\n",
    "labels = db.labels_\n",
    "print(labels)\n"
   ]
  },
  {
   "cell_type": "code",
   "execution_count": 131,
   "metadata": {},
   "outputs": [],
   "source": [
    "sizes = [[TARGET_SIZE, TARGET_SIZE, TARGET_SIZE]]*(max(labels)+1)\n",
    "config_target_box = [\n",
    "    dict(\n",
    "        type='box_factory',\n",
    "        args=dict(\n",
    "            size=sizes,\n",
    "            name='target_box',\n",
    "            use_permutation=True,\n",
    "            color='cyan'\n",
    "        )\n",
    "    )\n",
    "]\n",
    "\n",
    "models_target = create_models_from_config(config_target_box)"
   ]
  },
  {
   "cell_type": "code",
   "execution_count": 133,
   "metadata": {},
   "outputs": [
    {
     "data": {
      "image/svg+xml": [
       "<svg xmlns=\"http://www.w3.org/2000/svg\" xmlns:xlink=\"http://www.w3.org/1999/xlink\" width=\"100.0\" height=\"100.0\" viewBox=\"-3.83384 -4.05384 7.64168 8.14968\" preserveAspectRatio=\"xMinYMin meet\"><g transform=\"matrix(1,0,0,-1,0,0.042)\"><path fill-rule=\"evenodd\" fill=\"#66cc99\" stroke=\"#555555\" stroke-width=\"0.1629936\" opacity=\"0.6\" d=\"M -3.49,0.664 L -0.025,-3.752 L 1.719,-0.18 L 3.506,3.794 L -1.889,3.688 L -3.532,1.132 L -3.49,0.664 z M -1.12752542289,-0.155834175236 L -1.46547243017,0.339939785631 L -0.969698469299,0.677886792906 L -0.631751462023,0.18211283204 L -1.12752542289,-0.155834175236 z M 0.780374421756,0.999587718389 L 1.36636320207,1.12849524086 L 1.49527072454,0.542506460545 L 0.909281944224,0.413598938077 L 0.780374421756,0.999587718389 z M -0.518916611655,0.235734005424 L -0.697277557586,0.808610408295 L -0.124401154715,0.986971354227 L 0.0539597912165,0.414094951356 L -0.518916611655,0.235734005424 z M -0.709569200473,2.80892691092 L -0.505179093517,2.24481284073 L -1.0692931637,2.04042273378 L -1.27368327066,2.60453680396 L -0.709569200473,2.80892691092 z M -2.18957399568,1.00320526873 L -2.1842854811,1.00826260749 L -2.35174259275,1.15254813312 L -1.96009414574,1.60709350374 L -1.50554877512,1.21544505673 L -1.53246895301,1.18420162316 L -1.34125760945,0.984249824878 L -1.77489352449,0.569569353688 L -2.18957399568,1.00320526873 z M 0.372666964663,1.6283475779 L 0.814926440574,1.22287679478 L 0.409455657451,0.780617318864 L -0.0328038184603,1.18608810199 L 0.372666964663,1.6283475779 z M -1.19906090416,1.6093282482 L -1.19804014872,1.61081385227 L -1.67337453277,1.4062623739 L -1.91054548251,1.95739751214 L -1.35941034427,2.19456846188 L -1.14279956544,1.69121081345 L -0.859278647908,2.10384621383 L -0.711783650674,2.00250271081 L -0.756490101017,2.09444167491 L -0.216901465353,2.35682327537 L -0.126145300363,2.17018291965 L -0.0763023005399,2.20863027635 L 0.290162099434,1.73354729039 L -0.184920886529,1.36708289041 L -0.374590676249,1.61297004904 L -0.494108500551,1.55485303924 L -0.500076362332,1.56712596688 L -0.70454293853,1.26954599194 L -1.19906090416,1.6093282482 z M 0.174224913625,-0.260009625442 L 0.181388650414,-0.27882108563 L 0.346283411785,-0.0181709015354 L 0.853336316975,-0.33894707169 L 0.53256014682,-0.845999976879 L 0.354477390768,-0.733339732017 L 0.387756155729,-0.820727387462 L -0.172961606291,-1.03425862957 L -0.386492848396,-0.473540867546 L 0.174224913625,-0.260009625442 z M 1.82988085582,2.16662085846 L 1.82841804707,1.56662264163 L 1.22841983025,1.56808545038 L 1.22887386651,1.75431686724 L 1.16894155341,1.68905477899 L 0.727016003846,2.09488948505 L 1.1328507099,2.53681503461 L 1.53518384859,2.16733933619 L 1.82988085582,2.16662085846 z\" /></g></svg>"
      ],
      "text/plain": [
       "<shapely.geometry.polygon.Polygon at 0x7f9bce89d410>"
      ]
     },
     "execution_count": 133,
     "metadata": {},
     "output_type": "execute_result"
    }
   ],
   "source": [
    "import shapely\n",
    "from shapely.geometry.polygon import Polygon, LinearRing, LineString\n",
    "\n",
    "zone_base_2d = [None]*(max(labels)+1)\n",
    "for i in range(len(zone_base_2d)):\n",
    "    pts = sample_pts_2d[labels==i]\n",
    "    \n",
    "    #A\n",
    "#     if len(pts) > 2:\n",
    "#         zone_base_2d[i] = trimesh.convex.hull_points(pts)\n",
    "#     else:\n",
    "#         zone_base_2d[i] = pts\n",
    "\n",
    "zone_vertices_2d = [None]*len(zone_base_2d)\n",
    "zone_polys = [None]*len(zone_base_2d)\n",
    "for i in range(len(zone_base_2d)):\n",
    "    pts = sample_pts[labels==i]\n",
    "    rts = sample_rot[labels==i]\n",
    "    vertices = [get_square_horizon(p, OBSTACLE_SIZE/2, r[2]) for p,r in zip(pts,rts)]\n",
    "    vertices_all = np.concatenate(vertices)\n",
    "\n",
    "    zone_vertices_2d[i] = trimesh.convex.hull_points(vertices_all[:,:2])\n",
    "    zone_polys[i] = shapely.ops.unary_union([Polygon(v) for v in vertices])\n",
    "    \n",
    "zone_hull = [None]*len(zone_base_2d)\n",
    "for i in range(len(zone_base_2d)):\n",
    "    p3 = np.zeros([len(zone_vertices_2d[i]),3])\n",
    "    p3[:,:2] = zone_vertices_2d[i]\n",
    "    zone_hull[i] = trimesh.Trimesh(vertices=get_extended_face(p3, OBSTACLE_SIZE)).convex_hull\n",
    "\n",
    "\n",
    "all_poly = []\n",
    "for polys in zone_polys:\n",
    "    if isinstance(polys, Polygon):\n",
    "        all_poly.append(polys)\n",
    "    else:\n",
    "        for p in polys:\n",
    "            all_poly.append(p)\n",
    "\n",
    "map_poly = Polygon(list(extrude_interior_poly.exterior.coords), map(lambda p: list(p.exterior.coords), all_poly))\n",
    "map_poly\n"
   ]
  },
  {
   "cell_type": "code",
   "execution_count": 137,
   "metadata": {},
   "outputs": [
    {
     "data": {
      "image/svg+xml": [
       "<svg xmlns=\"http://www.w3.org/2000/svg\" xmlns:xlink=\"http://www.w3.org/1999/xlink\" width=\"100.0\" height=\"100.0\" viewBox=\"-2.50562312544 -0.309714707927 4.15477438267 3.27252215153\" preserveAspectRatio=\"xMinYMin meet\"><g transform=\"matrix(1,0,0,-1,0,2.65309273568)\"><g><path fill-rule=\"evenodd\" fill=\"#66cc99\" stroke=\"#555555\" stroke-width=\"0.0830954876534\" opacity=\"0.6\" d=\"M -1.12752542289,-0.155834175236 L -1.46547243017,0.339939785631 L -0.969698469299,0.677886792906 L -0.631751462023,0.18211283204 L -1.12752542289,-0.155834175236 z\" /><path fill-rule=\"evenodd\" fill=\"#66cc99\" stroke=\"#555555\" stroke-width=\"0.0830954876534\" opacity=\"0.6\" d=\"M 0.780374421756,0.999587718389 L 1.36636320207,1.12849524086 L 1.49527072454,0.542506460545 L 0.909281944224,0.413598938077 L 0.780374421756,0.999587718389 z\" /><path fill-rule=\"evenodd\" fill=\"#66cc99\" stroke=\"#555555\" stroke-width=\"0.0830954876534\" opacity=\"0.6\" d=\"M -0.518916611655,0.235734005424 L -0.697277557586,0.808610408295 L -0.124401154715,0.986971354227 L 0.0539597912165,0.414094951356 L -0.518916611655,0.235734005424 z\" /><path fill-rule=\"evenodd\" fill=\"#66cc99\" stroke=\"#555555\" stroke-width=\"0.0830954876534\" opacity=\"0.6\" d=\"M -0.709569200473,2.80892691092 L -0.505179093517,2.24481284073 L -1.0692931637,2.04042273378 L -1.27368327066,2.60453680396 L -0.709569200473,2.80892691092 z\" /><path fill-rule=\"evenodd\" fill=\"#66cc99\" stroke=\"#555555\" stroke-width=\"0.0830954876534\" opacity=\"0.6\" d=\"M -2.18957399568,1.00320526873 L -2.1842854811,1.00826260749 L -2.35174259275,1.15254813312 L -1.96009414574,1.60709350374 L -1.50554877512,1.21544505673 L -1.53246895301,1.18420162316 L -1.34125760945,0.984249824878 L -1.77489352449,0.569569353688 L -2.18957399568,1.00320526873 z\" /><path fill-rule=\"evenodd\" fill=\"#66cc99\" stroke=\"#555555\" stroke-width=\"0.0830954876534\" opacity=\"0.6\" d=\"M 0.372666964663,1.6283475779 L 0.814926440574,1.22287679478 L 0.409455657451,0.780617318864 L -0.0328038184603,1.18608810199 L 0.372666964663,1.6283475779 z\" /><path fill-rule=\"evenodd\" fill=\"#66cc99\" stroke=\"#555555\" stroke-width=\"0.0830954876534\" opacity=\"0.6\" d=\"M -1.19906090416,1.6093282482 L -1.19804014872,1.61081385227 L -1.67337453277,1.4062623739 L -1.91054548251,1.95739751214 L -1.35941034427,2.19456846188 L -1.14279956544,1.69121081345 L -0.859278647908,2.10384621383 L -0.711783650674,2.00250271081 L -0.756490101017,2.09444167491 L -0.216901465353,2.35682327537 L -0.126145300363,2.17018291965 L -0.0763023005399,2.20863027635 L 0.290162099434,1.73354729039 L -0.184920886529,1.36708289041 L -0.374590676249,1.61297004904 L -0.494108500551,1.55485303924 L -0.500076362332,1.56712596688 L -0.70454293853,1.26954599194 L -1.19906090416,1.6093282482 z\" /></g></g></svg>"
      ],
      "text/plain": [
       "<shapely.geometry.multipolygon.MultiPolygon at 0x7f9bcd01b290>"
      ]
     },
     "execution_count": 137,
     "metadata": {},
     "output_type": "execute_result"
    }
   ],
   "source": [
    "zone_polys[0]"
   ]
  },
  {
   "cell_type": "markdown",
   "metadata": {},
   "source": [
    "### Methods to generate position of target\n",
    "\n",
    "Target position is sampled from convex face formed by cluster."
   ]
  },
  {
   "cell_type": "code",
   "execution_count": 138,
   "metadata": {},
   "outputs": [
    {
     "name": "stdout",
     "output_type": "stream",
     "text": [
      "[[-0.66891689  2.77601956  0.1       ]\n",
      " [ 0.08174618 -0.9662934   0.1       ]\n",
      " [ 1.82973522  2.10688358  0.1       ]]\n"
     ]
    }
   ],
   "source": [
    "zone_samples = [None]*len(zone_hull)\n",
    "for i in range(len(zone_samples)):\n",
    "    ## sample_surface return tuple, so choice 0 index\n",
    "    samples = trimesh.sample.sample_surface_even(zone_hull[i], 100)[0]\n",
    "    zone_samples[i] = samples[\n",
    "        np.logical_and(\n",
    "            np.not_equal(samples[:,2], 0), \n",
    "            np.not_equal(samples[:,2], OBSTACLE_SIZE)\n",
    "        )\n",
    "    ]\n",
    "\n",
    "choiced_goal = np.zeros([len(zone_hull),3])\n",
    "for i in range(len(choiced_goal)):\n",
    "    choiced_goal[i] = zone_samples[i][np.random.choice(range(len(zone_samples[i])))]\n",
    "    \n",
    "choiced_goal[:,2] = TARGET_SIZE/2\n",
    "\n",
    "print(choiced_goal)\n",
    "for model, p in zip(models_target, choiced_goal):\n",
    "    model.get_link_by_name('link').disable_collision()\n",
    "    model.spawn(\n",
    "        gazebo_proxy=gazebo_proxy, \n",
    "        robot_namespace=model.name,\n",
    "        pos=list(p)\n",
    "    )"
   ]
  },
  {
   "cell_type": "code",
   "execution_count": 153,
   "metadata": {},
   "outputs": [],
   "source": [
    "def delete_models(model_name, start=None, stop=None):\n",
    "    if start is not None and stop is not None:\n",
    "        for i in range(start, stop+1):\n",
    "            gazebo_proxy.delete_model(model_name=model_name+\"_\"+str(i))\n",
    "    else:\n",
    "        gazebo_proxy.delete_model(model_name=model_name)\n",
    "        \n",
    "delete_models('target_box', 0, 7)"
   ]
  },
  {
   "cell_type": "code",
   "execution_count": null,
   "metadata": {},
   "outputs": [],
   "source": []
  }
 ],
 "metadata": {
  "kernelspec": {
   "display_name": "Python 2",
   "language": "python",
   "name": "python2"
  },
  "language_info": {
   "codemirror_mode": {
    "name": "ipython",
    "version": 2
   },
   "file_extension": ".py",
   "mimetype": "text/x-python",
   "name": "python",
   "nbconvert_exporter": "python",
   "pygments_lexer": "ipython2",
   "version": "2.7.17"
  }
 },
 "nbformat": 4,
 "nbformat_minor": 2
}
