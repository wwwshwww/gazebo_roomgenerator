{
 "cells": [
  {
   "cell_type": "code",
   "execution_count": null,
   "metadata": {},
   "outputs": [],
   "source": [
    "import rospy"
   ]
  },
  {
   "cell_type": "code",
   "execution_count": null,
   "metadata": {},
   "outputs": [],
   "source": [
    "DEFAULT_I = 10\n",
    "try:\n",
    "    i = rospy.get_param('ii')\n",
    "except:\n",
    "    print('can not collect param. Going to use default value.')\n",
    "    i = DEFAULT_I\n",
    "    \n",
    "print(i)"
   ]
  },
  {
   "cell_type": "code",
   "execution_count": 334,
   "metadata": {},
   "outputs": [
    {
     "name": "stdout",
     "output_type": "stream",
     "text": [
      "ROS_MASTER_URI=http://localhost:11311, GAZEBO_MASTER_URI=http://localhost:11345\n"
     ]
    }
   ],
   "source": [
    "from pcg_gazebo.task_manager import ProcessManager\n",
    "from pcg_gazebo.generators.creators import create_models_from_config\n",
    "\n",
    "TARGET_SIM = dict(\n",
    "    ros_host='localhost',\n",
    "    ros_port=11311,\n",
    "    gazebo_host='localhost',\n",
    "    gazebo_port=11345\n",
    ")\n",
    "\n",
    "process_manager = ProcessManager(**TARGET_SIM)\n",
    "gazebo_proxy = process_manager.get_gazebo_proxy()\n",
    "print(gazebo_proxy.ros_config)"
   ]
  },
  {
   "cell_type": "code",
   "execution_count": 335,
   "metadata": {},
   "outputs": [
    {
     "name": "stdout",
     "output_type": "stream",
     "text": [
      "None\n",
      "False\n",
      "<collision name=\"collision\">\n",
      "  <geometry>\n",
      "    <mesh>\n",
      "      <scale>1 1 1</scale>\n",
      "      <uri>file:///root/.pcg/meshes/OCFDAzNkUw.stl</uri>\n",
      "    </mesh>\n",
      "  </geometry>\n",
      "  <max_contacts>20</max_contacts>\n",
      "  <pose frame=\"\">-0.0300297 0.462167 -0.4 0 -0 0</pose>\n",
      "</collision>\n",
      "\n",
      "[[-1.74599053 -3.63915374  0.12585524]\n",
      " [ 0.33348361 -3.95259037  0.33296525]\n",
      " [ 3.46966425  1.83277337  0.8       ]\n",
      " [ 0.72916657  2.50007644  0.        ]\n",
      " [-0.15765436  2.63082673  0.        ]\n",
      " [-1.54775666 -3.66903329  0.22507301]\n",
      " [-3.44118067 -0.69311048  0.3867578 ]\n",
      " [ 1.50248714  2.29605926  0.26451562]\n",
      " [-3.39931432  0.17311933  0.        ]\n",
      " [ 2.89155065  0.00712919  0.76102538]]\n",
      "(array([ 0.41972564, -0.80667475,  0.4       ]), array([0.        , 0.        , 2.64520487]))\n",
      "(array([0.67841876, 0.51561713, 0.4       ]), array([0.        , 0.        , 3.64199604]))\n",
      "(array([ 0.85541433, -0.86764961,  0.4       ]), array([0.        , 0.        , 6.00397258]))\n",
      "(array([0.9980128 , 2.00865759, 0.4       ]), array([0.        , 0.        , 3.05525236]))\n",
      "(array([-1.45595791,  1.17471094,  0.4       ]), array([0.        , 0.        , 4.11263125]))\n",
      "(array([ 0.43411856, -0.81072625,  0.4       ]), array([0.        , 0.        , 6.17351541]))\n",
      "(array([-0.72891526,  1.52008795,  0.4       ]), array([0.        , 0.        , 5.68088045]))\n",
      "(array([2.00067355, 0.83541919, 0.4       ]), array([0.        , 0.        , 5.37398384]))\n",
      "(array([-2.08455357, -1.87980193,  0.4       ]), array([0.        , 0.        , 5.02554927]))\n",
      "(array([-1.13580399, -0.60053756,  0.4       ]), array([0.        , 0.        , 0.69162523]))\n"
     ]
    }
   ],
   "source": [
    "## spawn box to the any place of wall collision space coordinates\n",
    "\n",
    "import numpy as np\n",
    "from pcg_gazebo.generators.shapes import random_rectangle, \\\n",
    "    random_points_to_triangulation, random_rectangles\n",
    "import trimesh\n",
    "\n",
    "THRESHOLD_WALL = 0.7\n",
    "ROOM_SIZE_RADIUS = 4.5\n",
    "ROOM_WALL_HEIGHT = 0.8\n",
    "OBSTACLE_NUM = 10\n",
    "OBSTACLE_SIZE = 0.8\n",
    "TARGET_SIZE = 0.4\n",
    "AGENT_SIZE = 0.3\n",
    "\n",
    "config = [\n",
    "    dict(\n",
    "        type='extrude',\n",
    "        args=dict(\n",
    "            polygon=random_points_to_triangulation(\n",
    "                x_min=-ROOM_SIZE_RADIUS,\n",
    "                x_max=ROOM_SIZE_RADIUS,\n",
    "                y_min=-ROOM_SIZE_RADIUS,\n",
    "                y_max=ROOM_SIZE_RADIUS\n",
    "            ),\n",
    "            height=ROOM_WALL_HEIGHT,\n",
    "            thickness=0.05,\n",
    "            extrude_boundaries=True,\n",
    "            name='extruded_poly_triangulation',\n",
    "            color='random'\n",
    "        )\n",
    "    )\n",
    "]\n",
    "\n",
    "models = create_models_from_config(config)\n",
    "\n",
    "for model in models:\n",
    "    print(model.get_link_by_name('visual_mesh'))\n",
    "    print(model.links is None)\n",
    "    for elem in model.links:\n",
    "        cols = model.get_link_by_name(elem).collisions\n",
    "        print(cols[0])\n",
    "        col_mesh = cols[0]._geometry._geometry_entity.get_meshes()[0]\n",
    "        sample_pts = cols[0]._geometry._geometry_entity.get_samples(OBSTACLE_NUM)\n",
    "        print(sample_pts)\n",
    "    model.spawn(\n",
    "        gazebo_proxy=gazebo_proxy, \n",
    "        robot_namespace=model.name,\n",
    "        pos=[0,0,ROOM_WALL_HEIGHT/2]\n",
    "    )\n",
    "\n",
    "mini_col_mesh = trimesh.Trimesh(np.array(col_mesh.vertices)*THRESHOLD_WALL)\n",
    "\n",
    "sample_pts = np.array(mini_col_mesh.convex_hull.sample(len(sample_pts)))\n",
    "sample_pts += cols[0].pose.position * THRESHOLD_WALL\n",
    "sample_pts[:,2] = OBSTACLE_SIZE/2\n",
    "\n",
    "sample_rot = np.zeros_like(sample_pts)\n",
    "sample_rot[:,2] = np.random.random([len(sample_pts)])*np.pi*2\n",
    "\n",
    "sizes = [[OBSTACLE_SIZE, OBSTACLE_SIZE, OBSTACLE_SIZE]]*len(sample_pts)\n",
    "\n",
    "config_obstacle_box = [\n",
    "    dict(\n",
    "        type='box_factory',\n",
    "        args=dict(\n",
    "            size=sizes,\n",
    "            name='obstacle_box',\n",
    "            use_permutation=True,\n",
    "            color='white'\n",
    "        )\n",
    "    )\n",
    "]\n",
    "\n",
    "models_box = create_models_from_config(config_obstacle_box)\n",
    "for model, p, r in zip(models_box, sample_pts, sample_rot):\n",
    "    print(p, r)\n",
    "    model.spawn(\n",
    "        gazebo_proxy=gazebo_proxy, \n",
    "        robot_namespace=model.name,\n",
    "        pos=list(p),\n",
    "        rot=list(r)\n",
    "    )"
   ]
  },
  {
   "cell_type": "code",
   "execution_count": 336,
   "metadata": {},
   "outputs": [
    {
     "name": "stdout",
     "output_type": "stream",
     "text": [
      "[0 1 0 2 3 0 3 4 5 6]\n"
     ]
    }
   ],
   "source": [
    "from sklearn.cluster import DBSCAN\n",
    "\n",
    "db = DBSCAN(eps=np.sqrt((OBSTACLE_SIZE**2)*2)/2+AGENT_SIZE, min_samples=1).fit(np.array(sample_pts))\n",
    "labels = db.labels_\n",
    "print(labels)\n"
   ]
  },
  {
   "cell_type": "code",
   "execution_count": 337,
   "metadata": {},
   "outputs": [],
   "source": [
    "sizes = [[TARGET_SIZE, TARGET_SIZE, TARGET_SIZE]]*(max(labels)+1)\n",
    "config_target_box = [\n",
    "    dict(\n",
    "        type='box_factory',\n",
    "        args=dict(\n",
    "            size=sizes,\n",
    "            name='target_box',\n",
    "            use_permutation=True,\n",
    "            color='cyan'\n",
    "        )\n",
    "    )\n",
    "]\n",
    "\n",
    "models_target = create_models_from_config(config_target_box)"
   ]
  },
  {
   "cell_type": "code",
   "execution_count": 377,
   "metadata": {},
   "outputs": [
    {
     "name": "stdout",
     "output_type": "stream",
     "text": [
      "[[ 0.          0.14142136  0.        ]\n",
      " [ 0.14142136  0.          0.        ]\n",
      " [ 0.         -0.14142136  0.        ]\n",
      " [-0.14142136  0.          0.        ]]\n"
     ]
    }
   ],
   "source": [
    "import quaternion\n",
    "\n",
    "def get_square_horizon(base_pos, half_length, z_angle=0):\n",
    "    d1 = [1,1,-1,-1]\n",
    "    d2 = [1,-1,-1,1]\n",
    "    poss = np.array([np.quaternion(1,d1[i]*half_length,d2[i]*half_length,0) for i in range(4)])\n",
    "    q = quaternion.from_euler_angles(0,0,z_angle)\n",
    "    pq = q*poss*q.conj()\n",
    "    \n",
    "    return np.array([[p.x, p.y, p.z] for p in pq])+base_pos\n",
    "\n",
    "def get_extended_face(face_vertices, length):\n",
    "    face_bottom = np.copy(face_vertices)\n",
    "    face_bottom[:,2] += length\n",
    "    return np.concatenate([face_vertices, face_bottom])\n",
    "\n",
    "# p = [0, 0, 0]\n",
    "# ang = np.pi/4\n",
    "# print(get_square_horizon(p, 0.1, ang))"
   ]
  },
  {
   "cell_type": "markdown",
   "metadata": {},
   "source": [
    "#### Generate convex hull with cluster\n",
    "\n",
    "- Origin version\n",
    "- Expanded version\n",
    "\n",
    "To create expand version is the steps below.\n",
    "\n",
    "1. preparate more than 3 points per cluster\n",
    "2. calculate that polygon's centroid and normalized vectors from these centroid each point\n",
    "3. extend vector length with depend on box size\n",
    "4. create convex hull as expanded version"
   ]
  },
  {
   "cell_type": "code",
   "execution_count": 339,
   "metadata": {},
   "outputs": [
    {
     "name": "stdout",
     "output_type": "stream",
     "text": [
      "('zone_vecs_g2v', [array([[ 0.99066903, -0.13628966],\n",
      "       [-0.98972382,  0.14299215],\n",
      "       [-0.99166356,  0.1288541 ]]), array([[-0.70710678, -0.70710678],\n",
      "       [ 0.70710678, -0.70710678],\n",
      "       [ 0.70710678,  0.70710678],\n",
      "       [-0.70710678,  0.70710678]]), array([[-0.70710678, -0.70710678],\n",
      "       [ 0.70710678, -0.70710678],\n",
      "       [ 0.70710678,  0.70710678],\n",
      "       [-0.70710678,  0.70710678]]), array([[-0.8804505 , -0.47413808],\n",
      "       [-0.8152745 , -0.57907468],\n",
      "       [ 0.9586947 ,  0.28443713],\n",
      "       [ 0.8804505 ,  0.47413808],\n",
      "       [ 0.8152745 ,  0.57907468],\n",
      "       [-0.9586947 , -0.28443713]]), array([[-0.70710678, -0.70710678],\n",
      "       [ 0.70710678, -0.70710678],\n",
      "       [ 0.70710678,  0.70710678],\n",
      "       [-0.70710678,  0.70710678]]), array([[-0.70710678, -0.70710678],\n",
      "       [ 0.70710678, -0.70710678],\n",
      "       [ 0.70710678,  0.70710678],\n",
      "       [-0.70710678,  0.70710678]]), array([[-0.70710678, -0.70710678],\n",
      "       [ 0.70710678, -0.70710678],\n",
      "       [ 0.70710678,  0.70710678],\n",
      "       [-0.70710678,  0.70710678]])])\n",
      "zone_full: \n",
      "0.000355034390952\n",
      "zone_full_expand: \n",
      "0.00633477351223\n"
     ]
    }
   ],
   "source": [
    "from shapely.geometry.polygon import Polygon\n",
    "import quaternion\n",
    "\n",
    "zone_vertices_2d = [None]*(max(labels)+1)\n",
    "for i in range(len(zone_vertices_2d)):\n",
    "    pts = sample_pts[labels==i]\n",
    "    if len(pts) > 3:\n",
    "        zone_vertices_2d[i] = trimesh.convex.hull_points(pts[:,:2])\n",
    "    else:\n",
    "        zone_vertices_2d[i] = pts\n",
    "\n",
    "zone_hull_2d = [None]*len(zone_vertices_2d)\n",
    "for i in range(len(zone_hull_2d)):\n",
    "    if len(zone_vertices_2d[i]) == 1:\n",
    "        sample_rot\n",
    "        \n",
    "hull_points_2d = [None]*(max(labels)+1)\n",
    "for i in range(len(hull_points_2d)):\n",
    "    pts = sample_pts[labels==i]\n",
    "    if len(pts) < 3:\n",
    "        v = []\n",
    "        for p in pts:\n",
    "            v.extend(get_square_horizon(p, 0.05))\n",
    "        pts = np.array(v)\n",
    "        \n",
    "#     convex_2d = ConvexHull(pts[:,:2])\n",
    "    hull_points_2d[i] = trimesh.convex.hull_points(pts[:,:2])\n",
    "\n",
    "\n",
    "zone_hull = [None]*(len(hull_points_2d)) # trimesh.Trimesh in\n",
    "for i in range(len(zone_hull)):\n",
    "    tmp = np.zeros([len(hull_points_2d[i]), 3])\n",
    "    tmp[:,:2] = hull_points_2d[i]\n",
    "    pts = get_extended_face(tmp, OBSTACLE_SIZE)\n",
    "    zone_hull[i] = trimesh.Trimesh(vertices=pts).convex_hull\n",
    "    \n",
    "    \n",
    "zone_hull_expand = [None]*(len(hull_points_2d)) # trimesh.Trimesh in\n",
    "zone_vecs_g2v = [None]*(len(hull_points_2d)) # normalized vector centroid to vertice\n",
    "hull_points_2d_expand = [None]*(len(hull_points_2d))\n",
    "for i in range(len(zone_hull_expand)):\n",
    "    g = np.mean(hull_points_2d[i], axis=0)\n",
    "    \n",
    "#     g = Polygon(hull_points_2d[i]).convex_hull.centroid.coords[0]\n",
    "\n",
    "    vec_g2v = hull_points_2d[i]-g\n",
    "    norm = np.linalg.norm(vec_g2v, axis=1, ord=2)\n",
    "    zone_vecs_g2v[i] = vec_g2v / (np.array([norm]).T) ## KETAOTI OKIRUYO\n",
    "    hull_points_2d_expand[i] = hull_points_2d[i]+zone_vecs_g2v[i]*(np.sqrt((OBSTACLE_SIZE**2)*2)/2)\n",
    "    \n",
    "    tmp = np.zeros([len(hull_points_2d[i]), 3])\n",
    "    tmp[:,:2] = hull_points_2d_expand[i]\n",
    "    pts = get_extended_face(tmp, OBSTACLE_SIZE)\n",
    "    zone_hull_expand[i] = trimesh.Trimesh(vertices=pts).convex_hull\n",
    "    \n",
    "print(\"zone_vecs_g2v\", zone_vecs_g2v)\n",
    "print(\"zone_full: \\n{}\".format(zone_hull[0].mass))\n",
    "print(\"zone_full_expand: \\n{}\".format(zone_hull_expand[0].mass))\n"
   ]
  },
  {
   "cell_type": "markdown",
   "metadata": {},
   "source": [
    "#### Methods to get target position\n",
    "\n",
    "sample a vector in above convex face that expanded with depend on target size"
   ]
  },
  {
   "cell_type": "code",
   "execution_count": 355,
   "metadata": {},
   "outputs": [
    {
     "ename": "AssertionError",
     "evalue": "",
     "output_type": "error",
     "traceback": [
      "\u001b[0;31m---------------------------------------------------------------------------\u001b[0m",
      "\u001b[0;31mAssertionError\u001b[0m                            Traceback (most recent call last)",
      "\u001b[0;32m<ipython-input-355-879c6c1eaad4>\u001b[0m in \u001b[0;36m<module>\u001b[0;34m()\u001b[0m\n\u001b[1;32m      1\u001b[0m \u001b[0mPolygon\u001b[0m\u001b[0;34m(\u001b[0m\u001b[0mhull_points_2d\u001b[0m\u001b[0;34m[\u001b[0m\u001b[0;36m3\u001b[0m\u001b[0;34m]\u001b[0m\u001b[0;34m)\u001b[0m\u001b[0;34m\u001b[0m\u001b[0m\n\u001b[0;32m----> 2\u001b[0;31m \u001b[0mPolygon\u001b[0m\u001b[0;34m(\u001b[0m\u001b[0mnp\u001b[0m\u001b[0;34m.\u001b[0m\u001b[0marray\u001b[0m\u001b[0;34m(\u001b[0m\u001b[0;34m[\u001b[0m\u001b[0;36m1\u001b[0m\u001b[0;34m,\u001b[0m\u001b[0;36m0\u001b[0m\u001b[0;34m]\u001b[0m\u001b[0;34m)\u001b[0m\u001b[0;34m)\u001b[0m\u001b[0;34m\u001b[0m\u001b[0m\n\u001b[0m",
      "\u001b[0;32m/usr/local/lib/python2.7/dist-packages/shapely/geometry/polygon.pyc\u001b[0m in \u001b[0;36m__init__\u001b[0;34m(self, shell, holes)\u001b[0m\n\u001b[1;32m    238\u001b[0m \u001b[0;34m\u001b[0m\u001b[0m\n\u001b[1;32m    239\u001b[0m         \u001b[0;32mif\u001b[0m \u001b[0mshell\u001b[0m \u001b[0;32mis\u001b[0m \u001b[0;32mnot\u001b[0m \u001b[0mNone\u001b[0m\u001b[0;34m:\u001b[0m\u001b[0;34m\u001b[0m\u001b[0m\n\u001b[0;32m--> 240\u001b[0;31m             \u001b[0mret\u001b[0m \u001b[0;34m=\u001b[0m \u001b[0mgeos_polygon_from_py\u001b[0m\u001b[0;34m(\u001b[0m\u001b[0mshell\u001b[0m\u001b[0;34m,\u001b[0m \u001b[0mholes\u001b[0m\u001b[0;34m)\u001b[0m\u001b[0;34m\u001b[0m\u001b[0m\n\u001b[0m\u001b[1;32m    241\u001b[0m             \u001b[0;32mif\u001b[0m \u001b[0mret\u001b[0m \u001b[0;32mis\u001b[0m \u001b[0;32mnot\u001b[0m \u001b[0mNone\u001b[0m\u001b[0;34m:\u001b[0m\u001b[0;34m\u001b[0m\u001b[0m\n\u001b[1;32m    242\u001b[0m                 \u001b[0mself\u001b[0m\u001b[0;34m.\u001b[0m\u001b[0m_geom\u001b[0m\u001b[0;34m,\u001b[0m \u001b[0mself\u001b[0m\u001b[0;34m.\u001b[0m\u001b[0m_ndim\u001b[0m \u001b[0;34m=\u001b[0m \u001b[0mret\u001b[0m\u001b[0;34m\u001b[0m\u001b[0m\n",
      "\u001b[0;32m/usr/local/lib/python2.7/dist-packages/shapely/geometry/polygon.pyc\u001b[0m in \u001b[0;36mgeos_polygon_from_py\u001b[0;34m(shell, holes)\u001b[0m\n\u001b[1;32m    492\u001b[0m \u001b[0;34m\u001b[0m\u001b[0m\n\u001b[1;32m    493\u001b[0m     \u001b[0;32mif\u001b[0m \u001b[0mshell\u001b[0m \u001b[0;32mis\u001b[0m \u001b[0;32mnot\u001b[0m \u001b[0mNone\u001b[0m\u001b[0;34m:\u001b[0m\u001b[0;34m\u001b[0m\u001b[0m\n\u001b[0;32m--> 494\u001b[0;31m         \u001b[0mret\u001b[0m \u001b[0;34m=\u001b[0m \u001b[0mgeos_linearring_from_py\u001b[0m\u001b[0;34m(\u001b[0m\u001b[0mshell\u001b[0m\u001b[0;34m)\u001b[0m\u001b[0;34m\u001b[0m\u001b[0m\n\u001b[0m\u001b[1;32m    495\u001b[0m         \u001b[0;32mif\u001b[0m \u001b[0mret\u001b[0m \u001b[0;32mis\u001b[0m \u001b[0mNone\u001b[0m\u001b[0;34m:\u001b[0m\u001b[0;34m\u001b[0m\u001b[0m\n\u001b[1;32m    496\u001b[0m             \u001b[0;32mreturn\u001b[0m \u001b[0mNone\u001b[0m\u001b[0;34m\u001b[0m\u001b[0m\n",
      "\u001b[0;32m/usr/local/lib/python2.7/dist-packages/shapely/speedups/_speedups.pyx\u001b[0m in \u001b[0;36mshapely.speedups._speedups.geos_linearring_from_py\u001b[0;34m()\u001b[0m\n\u001b[1;32m    233\u001b[0m         \u001b[0;31m# From array protocol\u001b[0m\u001b[0;34m\u001b[0m\u001b[0;34m\u001b[0m\u001b[0m\n\u001b[1;32m    234\u001b[0m         \u001b[0marray\u001b[0m \u001b[0;34m=\u001b[0m \u001b[0mob\u001b[0m\u001b[0;34m.\u001b[0m\u001b[0m__array_interface__\u001b[0m\u001b[0;34m\u001b[0m\u001b[0m\n\u001b[0;32m--> 235\u001b[0;31m         \u001b[0;32massert\u001b[0m \u001b[0mlen\u001b[0m\u001b[0;34m(\u001b[0m\u001b[0marray\u001b[0m\u001b[0;34m[\u001b[0m\u001b[0;34m'shape'\u001b[0m\u001b[0;34m]\u001b[0m\u001b[0;34m)\u001b[0m \u001b[0;34m==\u001b[0m \u001b[0;36m2\u001b[0m\u001b[0;34m\u001b[0m\u001b[0m\n\u001b[0m\u001b[1;32m    236\u001b[0m         \u001b[0mm\u001b[0m \u001b[0;34m=\u001b[0m \u001b[0marray\u001b[0m\u001b[0;34m[\u001b[0m\u001b[0;34m'shape'\u001b[0m\u001b[0;34m]\u001b[0m\u001b[0;34m[\u001b[0m\u001b[0;36m0\u001b[0m\u001b[0;34m]\u001b[0m\u001b[0;34m\u001b[0m\u001b[0m\n\u001b[1;32m    237\u001b[0m         \u001b[0mn\u001b[0m \u001b[0;34m=\u001b[0m \u001b[0marray\u001b[0m\u001b[0;34m[\u001b[0m\u001b[0;34m'shape'\u001b[0m\u001b[0;34m]\u001b[0m\u001b[0;34m[\u001b[0m\u001b[0;36m1\u001b[0m\u001b[0;34m]\u001b[0m\u001b[0;34m\u001b[0m\u001b[0m\n",
      "\u001b[0;31mAssertionError\u001b[0m: "
     ]
    }
   ],
   "source": [
    "Polygon(hull_points_2d[3])\n",
    "trimesh.convex.hull_points()"
   ]
  },
  {
   "cell_type": "code",
   "execution_count": 353,
   "metadata": {},
   "outputs": [
    {
     "data": {
      "image/svg+xml": [
       "<svg xmlns=\"http://www.w3.org/2000/svg\" xmlns:xlink=\"http://www.w3.org/1999/xlink\" width=\"100.0\" height=\"100.0\" viewBox=\"-2.12474479673 0.720669561065 2.06461642392 1.25345976977\" preserveAspectRatio=\"xMinYMin meet\"><g transform=\"matrix(1,0,0,-1,0,2.69479889191)\"><path fill-rule=\"evenodd\" fill=\"#66cc99\" stroke=\"#555555\" stroke-width=\"0.0412923284783\" opacity=\"0.6\" d=\"M -2.00401592078,0.856497942894 L -1.86714680875,0.797136836025 L -0.136595647769,1.63098988728 L -0.180857248753,1.83830094901 L -0.317726360782,1.89766205588 L -2.04827752177,1.06380900463 L -2.00401592078,0.856497942894 z\" /></g></svg>"
      ],
      "text/plain": [
       "<shapely.geometry.polygon.Polygon at 0x7f3033bc9690>"
      ]
     },
     "execution_count": 353,
     "metadata": {},
     "output_type": "execute_result"
    }
   ],
   "source": [
    "Polygon(hull_points_2d_expand[3])"
   ]
  },
  {
   "cell_type": "code",
   "execution_count": 342,
   "metadata": {},
   "outputs": [
    {
     "name": "stdout",
     "output_type": "stream",
     "text": [
      "[[ 0.96086573 -0.88372565  0.2       ]\n",
      " [ 0.4819539   0.96561713  0.2       ]\n",
      " [ 0.70582701  1.55865759  0.2       ]\n",
      " [-1.65768499  1.25201307  0.2       ]\n",
      " [ 1.82617795  0.38541919  0.2       ]\n",
      " [-2.53455357 -2.12762967  0.2       ]\n",
      " [-1.58580399 -0.89800578  0.2       ]]\n"
     ]
    }
   ],
   "source": [
    "zone_samples = [None]*len(zone_hull_expand)\n",
    "for i in range(len(zone_samples)):\n",
    "    ## sample_surface return tuple, so choice 0 index\n",
    "    samples = trimesh.sample.sample_surface_even(zone_hull_expand[i], 100)[0]\n",
    "    zone_samples[i] = samples[\n",
    "        np.logical_and(\n",
    "            np.not_equal(samples[:,2], 0), \n",
    "            np.not_equal(samples[:,2], OBSTACLE_SIZE)\n",
    "        )\n",
    "    ]\n",
    "\n",
    "choiced_goal = np.zeros([len(zone_hull_expand),3])\n",
    "for i in range(len(choiced_goal)):\n",
    "    choiced_goal[i] = zone_samples[i][np.random.choice(range(len(zone_samples[i])))]\n",
    "    \n",
    "choiced_goal[:,2] = TARGET_SIZE/2\n",
    "\n",
    "print(choiced_goal)\n",
    "for model, p in zip(models_target, choiced_goal):\n",
    "    model.spawn(\n",
    "        gazebo_proxy=gazebo_proxy, \n",
    "        robot_namespace=model.name,\n",
    "        pos=list(p)\n",
    "    )"
   ]
  },
  {
   "cell_type": "code",
   "execution_count": 146,
   "metadata": {},
   "outputs": [],
   "source": [
    "def delete_models(model_name, start=None, stop=None):\n",
    "    if start is not None and stop is not None:\n",
    "        for i in range(start, stop+1):\n",
    "            gazebo_proxy.delete_model(model_name=model_name+\"_\"+str(i))\n",
    "    else:\n",
    "        gazebo_proxy.delete_model(model_name='')\n",
    "        \n",
    "delete_models('box_static_var_size', 0, 10)"
   ]
  },
  {
   "cell_type": "code",
   "execution_count": null,
   "metadata": {},
   "outputs": [],
   "source": []
  }
 ],
 "metadata": {
  "kernelspec": {
   "display_name": "Python 2",
   "language": "python",
   "name": "python2"
  },
  "language_info": {
   "codemirror_mode": {
    "name": "ipython",
    "version": 2
   },
   "file_extension": ".py",
   "mimetype": "text/x-python",
   "name": "python",
   "nbconvert_exporter": "python",
   "pygments_lexer": "ipython2",
   "version": "2.7.17"
  }
 },
 "nbformat": 4,
 "nbformat_minor": 2
}
