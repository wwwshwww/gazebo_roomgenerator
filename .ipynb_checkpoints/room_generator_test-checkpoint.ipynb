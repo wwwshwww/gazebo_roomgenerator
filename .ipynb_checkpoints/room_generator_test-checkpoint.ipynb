{
 "cells": [
  {
   "cell_type": "code",
   "execution_count": null,
   "metadata": {},
   "outputs": [],
   "source": [
    "import rospy"
   ]
  },
  {
   "cell_type": "code",
   "execution_count": null,
   "metadata": {},
   "outputs": [],
   "source": [
    "DEFAULT_I = 10\n",
    "try:\n",
    "    i = rospy.get_param('ii')\n",
    "except:\n",
    "    print('can not collect param. Going to use default value.')\n",
    "    i = DEFAULT_I\n",
    "    \n",
    "print(i)"
   ]
  },
  {
   "cell_type": "code",
   "execution_count": 1,
   "metadata": {},
   "outputs": [
    {
     "name": "stdout",
     "output_type": "stream",
     "text": [
      "ROS_MASTER_URI=http://localhost:11311, GAZEBO_MASTER_URI=http://localhost:11345\n"
     ]
    }
   ],
   "source": [
    "from pcg_gazebo.task_manager import ProcessManager\n",
    "from pcg_gazebo.generators.creators import create_models_from_config\n",
    "\n",
    "TARGET_SIM = dict(\n",
    "    ros_host='localhost',\n",
    "    ros_port=11311,\n",
    "    gazebo_host='localhost',\n",
    "    gazebo_port=11345\n",
    ")\n",
    "\n",
    "process_manager = ProcessManager(**TARGET_SIM)\n",
    "gazebo_proxy = process_manager.get_gazebo_proxy()\n",
    "print(gazebo_proxy.ros_config)"
   ]
  },
  {
   "cell_type": "code",
   "execution_count": 6,
   "metadata": {},
   "outputs": [
    {
     "name": "stdout",
     "output_type": "stream",
     "text": [
      "[<pcg_gazebo.simulation.model.SimulationModel object at 0x7ff448a50a10>]\n",
      "None\n",
      "False\n",
      "<collision name=\"collision\">\n",
      "  <geometry>\n",
      "    <mesh>\n",
      "      <scale>1 1 1</scale>\n",
      "      <uri>file:///root/.pcg/meshes/PrqmREmcuL.stl</uri>\n",
      "    </mesh>\n",
      "  </geometry>\n",
      "  <max_contacts>20</max_contacts>\n",
      "  <pose frame=\"\">-0.625997 -0.137792 -0.4 0 -0 0</pose>\n",
      "</collision>\n",
      "\n",
      "[[-3.06161462  1.99896637  0.        ]\n",
      " [ 3.56261888  2.54224765  0.49888   ]\n",
      " [ 1.74245988 -3.62239398  0.76407879]\n",
      " [-2.28865748 -0.56838894  0.46264878]\n",
      " [ 3.57185973  1.99551876  0.22694869]\n",
      " [ 3.70092517 -1.06909697  0.25497936]\n",
      " [-1.88303051 -2.02575134  0.08579777]\n",
      " [ 4.38345012 -0.17980711  0.        ]\n",
      " [ 3.07508762  3.72375978  0.53906844]\n",
      " [ 0.26400742  3.43587164  0.8       ]]\n",
      "212\n",
      "(array([1.6280383 , 0.47532221, 0.4       ]), array([0.        , 0.        , 3.98803176]))\n",
      "(array([-1.91878831, -1.45287269,  0.4       ]), array([0.        , 0.        , 3.98764103]))\n",
      "(array([-1.13075492, -1.3815387 ,  0.4       ]), array([0.        , 0.        , 4.87627447]))\n",
      "(array([-1.72196411, -1.775725  ,  0.4       ]), array([0.        , 0.        , 0.99059352]))\n",
      "(array([-1.78581065, -1.93064327,  0.4       ]), array([0.       , 0.       , 1.8275585]))\n",
      "(array([1.52151552, 2.82872883, 0.4       ]), array([0.        , 0.        , 1.24816074]))\n",
      "(array([ 1.06612518, -1.25524001,  0.4       ]), array([0.        , 0.        , 3.20052099]))\n",
      "(array([-0.8571042 , -1.08652255,  0.4       ]), array([0.        , 0.        , 5.08558925]))\n",
      "(array([ 1.07051614, -0.37006875,  0.4       ]), array([0.        , 0.        , 2.95362604]))\n",
      "(array([-0.62495616,  0.95918874,  0.4       ]), array([0.       , 0.       , 5.4953778]))\n"
     ]
    }
   ],
   "source": [
    "## spawn box to the any place of wall collision space coordinates\n",
    "\n",
    "import numpy as np\n",
    "from pcg_gazebo.generators.shapes import random_rectangle, \\\n",
    "    random_points_to_triangulation, random_rectangles\n",
    "import trimesh\n",
    "\n",
    "THRESHOLD_WALL = 0.7\n",
    "ROOM_SIZE_RADIUS = 4.5\n",
    "ROOM_WALL_HEIGHT = 0.8\n",
    "OBSTACLE_NUM = 10\n",
    "OBSTACLE_SIZE = 0.8\n",
    "TARGET_SIZE = 0.4\n",
    "\n",
    "config = [\n",
    "    dict(\n",
    "        type='extrude',\n",
    "        args=dict(\n",
    "            polygon=random_points_to_triangulation(\n",
    "                x_min=-ROOM_SIZE_RADIUS,\n",
    "                x_max=ROOM_SIZE_RADIUS,\n",
    "                y_min=-ROOM_SIZE_RADIUS,\n",
    "                y_max=ROOM_SIZE_RADIUS\n",
    "            ),\n",
    "            height=ROOM_WALL_HEIGHT,\n",
    "            thickness=0.1,\n",
    "            extrude_boundaries=True,\n",
    "            name='extruded_poly_triangulation',\n",
    "            color='random'\n",
    "        )\n",
    "    )\n",
    "]\n",
    "\n",
    "models = create_models_from_config(config)\n",
    "print(models)\n",
    "for model in models:\n",
    "    print(model.get_link_by_name('visual_mesh'))\n",
    "    print(model.links is None)\n",
    "    for elem in model.links:\n",
    "        cols = model.get_link_by_name(elem).collisions\n",
    "        print(cols[0])\n",
    "        col_mesh = cols[0]._geometry._geometry_entity.get_meshes()[0]\n",
    "        sample_pts = cols[0]._geometry._geometry_entity.get_samples(OBSTACLE_NUM)\n",
    "        print(sample_pts)\n",
    "    model.spawn(\n",
    "        gazebo_proxy=gazebo_proxy, \n",
    "        robot_namespace=model.name,\n",
    "        pos=[0,0,ROOM_WALL_HEIGHT/2]\n",
    "    )\n",
    "\n",
    "print(len(col_mesh.vertices))\n",
    "mini_col_mesh = trimesh.Trimesh(np.array(col_mesh.vertices)*THRESHOLD_WALL)\n",
    "\n",
    "sample_pts = np.array(mini_col_mesh.convex_hull.sample(len(sample_pts)))\n",
    "sample_pts += cols[0].pose.position * THRESHOLD_WALL\n",
    "sample_pts[:,2] = OBSTACLE_SIZE/2\n",
    "\n",
    "sample_rot = np.zeros([len(sample_pts), 3])\n",
    "sample_rot[:,2] = np.random.random([len(sample_pts)])*np.pi*2\n",
    "\n",
    "sizes = [[OBSTACLE_SIZE, OBSTACLE_SIZE, OBSTACLE_SIZE]]*len(sample_pts)\n",
    "\n",
    "config_obstacle_box = [\n",
    "    dict(\n",
    "        type='box_factory',\n",
    "        args=dict(\n",
    "            size=sizes,\n",
    "            name='obstacle_box',\n",
    "            use_permutation=True,\n",
    "            color='white'\n",
    "        )\n",
    "    )\n",
    "]\n",
    "\n",
    "models_box = create_models_from_config(config_obstacle_box)\n",
    "for model, p, r in zip(models_box, sample_pts, sample_rot):\n",
    "    print(p, r)\n",
    "    model.spawn(\n",
    "        gazebo_proxy=gazebo_proxy, \n",
    "        robot_namespace=model.name,\n",
    "        pos=list(p),\n",
    "        rot=list(r)\n",
    "    )"
   ]
  },
  {
   "cell_type": "code",
   "execution_count": 15,
   "metadata": {},
   "outputs": [
    {
     "name": "stdout",
     "output_type": "stream",
     "text": [
      "[0 1 1 1 1 2 0 1 0 3]\n"
     ]
    }
   ],
   "source": [
    "from sklearn.cluster import DBSCAN\n",
    "\n",
    "db = DBSCAN(eps=np.sqrt(OBSTACLE_SIZE*2), min_samples=1).fit(np.array(sample_pts))\n",
    "labels = db.labels_\n",
    "print(labels)\n"
   ]
  },
  {
   "cell_type": "code",
   "execution_count": 16,
   "metadata": {},
   "outputs": [],
   "source": [
    "sizes = [[TARGET_SIZE, TARGET_SIZE, TARGET_SIZE]]*(max(labels)+1)\n",
    "config_target_box = [\n",
    "    dict(\n",
    "        type='box_factory',\n",
    "        args=dict(\n",
    "            size=sizes,\n",
    "            name='target_box',\n",
    "            use_permutation=True,\n",
    "            color='cyan'\n",
    "        )\n",
    "    )\n",
    "]\n",
    "\n",
    "models_target = create_models_from_config(config_target_box)"
   ]
  },
  {
   "cell_type": "code",
   "execution_count": 18,
   "metadata": {},
   "outputs": [],
   "source": [
    "def get_square_horizon(base_pos, half_length):\n",
    "    poss = [None]*4\n",
    "    for i in range(4):\n",
    "        pos = [0,0,base_pos[2]]\n",
    "        d1 = [1,1,-1,-1]\n",
    "        d2 = [1,-1,-1,1]\n",
    "        pos[0] = base_pos[0] + d1[i]*half_length\n",
    "        pos[1] = base_pos[1] + d2[i]*half_length\n",
    "        poss[i] = pos\n",
    "    \n",
    "    return poss\n",
    "\n",
    "def extend_face(face_vertices, length):\n",
    "    face_bottom = np.copy(face_vertices)\n",
    "    face_bottom[:,2] += length\n",
    "    return np.concatenate([face_vertices, face_bottom])"
   ]
  },
  {
   "cell_type": "code",
   "execution_count": null,
   "metadata": {},
   "outputs": [],
   "source": [
    "zone_hull = [None]*(max(labels)+1)\n",
    "for i in range(len(zone_hull)):\n",
    "    pts = extend_face(sample_pts[labels==i], -1*OBSTACLE_SIZE/2)\n",
    "    print(pts)\n",
    "    if len(pts) > 4:\n",
    "#         zone_hull[i] = trimesh.convex.hull_points(pts[:,:2])\n",
    "        zone_hull[i] = trimesh.Trimesh(vertices=pts).convex_hull\n",
    "    else:\n",
    "        v = []\n",
    "        for p in pts:\n",
    "            v.extend(get_square_horizon(p, 0.01))\n",
    "        v = np.array(v)\n",
    "#         zone_hull[i] = trimesh.convex.hull_points(v[:,:2])\n",
    "        zone_hull[i] = trimesh.Trimesh(vertices=v).convex_hull\n",
    "    \n",
    "zone_hull_expand = [None]*len(zone_hull)\n",
    "\n",
    "\n",
    "print(\"zone_full: \\n{}\".format(zone_hull))"
   ]
  },
  {
   "cell_type": "markdown",
   "metadata": {},
   "source": [
    "### Methods to get target position: "
   ]
  },
  {
   "cell_type": "markdown",
   "metadata": {},
   "source": [
    "- sample a vector in convex face that generated with all origin position of cubes in a cluster"
   ]
  },
  {
   "cell_type": "code",
   "execution_count": 17,
   "metadata": {},
   "outputs": [
    {
     "name": "stdout",
     "output_type": "stream",
     "text": [
      "[[ 1.6280383   0.47532221  0.4       ]\n",
      " [ 1.06612518 -1.25524001  0.4       ]\n",
      " [ 1.07051614 -0.37006875  0.4       ]\n",
      " [ 1.6280383   0.47532221  0.        ]\n",
      " [ 1.06612518 -1.25524001  0.        ]\n",
      " [ 1.07051614 -0.37006875  0.        ]]\n",
      "[[-1.91878831 -1.45287269  0.4       ]\n",
      " [-1.13075492 -1.3815387   0.4       ]\n",
      " [-1.72196411 -1.775725    0.4       ]\n",
      " [-1.78581065 -1.93064327  0.4       ]\n",
      " [-0.8571042  -1.08652255  0.4       ]\n",
      " [-1.91878831 -1.45287269  0.        ]\n",
      " [-1.13075492 -1.3815387   0.        ]\n",
      " [-1.72196411 -1.775725    0.        ]\n",
      " [-1.78581065 -1.93064327  0.        ]\n",
      " [-0.8571042  -1.08652255  0.        ]]\n",
      "[[1.52151552 2.82872883 0.4       ]\n",
      " [1.52151552 2.82872883 0.        ]]\n",
      "[[-0.62495616  0.95918874  0.4       ]\n",
      " [-0.62495616  0.95918874  0.        ]]\n",
      "zone_full: \n",
      "[<trimesh.Trimesh(vertices.shape=(6, 3), faces.shape=(8, 3))>, <trimesh.Trimesh(vertices.shape=(8, 3), faces.shape=(12, 3))>, <trimesh.Trimesh(vertices.shape=(8, 3), faces.shape=(12, 3))>, <trimesh.Trimesh(vertices.shape=(8, 3), faces.shape=(12, 3))>]\n",
      "[[ 1.39751567 -0.23463409  0.2       ]\n",
      " [-1.45945648 -1.65707484  0.2       ]\n",
      " [ 1.53151552  2.82410625  0.2       ]\n",
      " [-0.61495616  0.95667678  0.2       ]]\n"
     ]
    }
   ],
   "source": [
    "zone_samples = [None]*len(zone_hull)\n",
    "for i in range(len(zone_samples)):\n",
    "    ## sample_surface return tuple, so choice 0 index\n",
    "    samples = trimesh.sample.sample_surface(zone_hull[i], 100)[0]\n",
    "    zone_samples[i] = samples[\n",
    "        np.logical_and(\n",
    "            np.not_equal(samples[:,2], 0), \n",
    "            np.not_equal(samples[:,2], OBSTACLE_SIZE/2)\n",
    "        )\n",
    "    ]\n",
    "\n",
    "choiced_goal = np.zeros([len(zone_hull),3])\n",
    "for i in range(len(choiced_goal)):\n",
    "    choiced_goal[i] = zone_samples[i][np.random.choice(range(len(zone_samples[i])))]\n",
    "    \n",
    "choiced_goal[:,2] = TARGET_SIZE/2\n",
    "\n",
    "print(choiced_goal)\n",
    "for model, p in zip(models_target, choiced_goal):\n",
    "    model.spawn(\n",
    "        gazebo_proxy=gazebo_proxy, \n",
    "        robot_namespace=model.name,\n",
    "        pos=list(p*1.4)\n",
    "    )"
   ]
  },
  {
   "cell_type": "markdown",
   "metadata": {},
   "source": [
    "- sample a vector in above convex face that expanded with depend on target size"
   ]
  },
  {
   "cell_type": "code",
   "execution_count": null,
   "metadata": {},
   "outputs": [],
   "source": [
    "zone_samples = [None]*len(zone_hull)\n",
    "for i in range(len(zone_samples)):\n",
    "    ## sample_surface return tuple, so choice 0 index\n",
    "    samples = trimesh.sample.sample_surface(zone_hull[i], 100)[0]\n",
    "    zone_samples[i] = samples[\n",
    "        np.logical_and(\n",
    "            np.not_equal(samples[:,2], 0), \n",
    "            np.not_equal(samples[:,2], OBSTACLE_SIZE/2)\n",
    "        )\n",
    "    ]\n",
    "\n",
    "choiced_goal = np.zeros([len(zone_hull),3])\n",
    "for i in range(len(choiced_goal)):\n",
    "    choiced_goal[i] = zone_samples[i][np.random.choice(range(len(zone_samples[i])))]\n",
    "    \n",
    "choiced_goal[:,2] = TARGET_SIZE/2\n",
    "\n",
    "print(choiced_goal)\n",
    "for model, p in zip(models_target, choiced_goal):\n",
    "    model.spawn(\n",
    "        gazebo_proxy=gazebo_proxy, \n",
    "        robot_namespace=model.name,\n",
    "        pos=list(p*1.4)\n",
    "    )"
   ]
  },
  {
   "cell_type": "code",
   "execution_count": 100,
   "metadata": {},
   "outputs": [],
   "source": [
    "def delete_models(model_name, start=None, stop=None):\n",
    "    if start is not None and stop is not None:\n",
    "        for i in range(start, stop+1):\n",
    "            gazebo_proxy.delete_model(model_name=model_name+\"_\"+str(i))\n",
    "    else:\n",
    "        gazebo_proxy.delete_model(model_name='')\n",
    "        \n",
    "delete_models('box_static_var_size', 0, 10)"
   ]
  },
  {
   "cell_type": "code",
   "execution_count": null,
   "metadata": {},
   "outputs": [],
   "source": []
  }
 ],
 "metadata": {
  "kernelspec": {
   "display_name": "Python 2",
   "language": "python",
   "name": "python2"
  },
  "language_info": {
   "codemirror_mode": {
    "name": "ipython",
    "version": 2
   },
   "file_extension": ".py",
   "mimetype": "text/x-python",
   "name": "python",
   "nbconvert_exporter": "python",
   "pygments_lexer": "ipython2",
   "version": "2.7.17"
  }
 },
 "nbformat": 4,
 "nbformat_minor": 2
}
