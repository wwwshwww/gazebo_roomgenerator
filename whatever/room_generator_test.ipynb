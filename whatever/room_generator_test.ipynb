{
 "cells": [
  {
   "cell_type": "code",
   "execution_count": null,
   "metadata": {},
   "outputs": [],
   "source": [
    "DEFAULT_I = 10\n",
    "try:\n",
    "    i = rospy.get_param('ii')\n",
    "except:\n",
    "    print('can not collect param. Going to use default value.')\n",
    "    i = DEFAULT_I\n",
    "    \n",
    "print(i)"
   ]
  },
  {
   "cell_type": "code",
   "execution_count": 4,
   "metadata": {},
   "outputs": [
    {
     "name": "stderr",
     "output_type": "stream",
     "text": [
      "/usr/local/lib/python2.7/dist-packages/quaternion/numba_wrapper.py:21: UserWarning: \n",
      "\n",
      "!!!!!!!!!!!!!!!!!!!!!!!!!!!!!!!!!!!!!!!!!!!!!!!!!!!!!\n",
      "Could not import from numba, which means that some\n",
      "parts of this code may run MUCH more slowly.  You\n",
      "may wish to install numba.\n",
      "!!!!!!!!!!!!!!!!!!!!!!!!!!!!!!!!!!!!!!!!!!!!!!!!!!!!!\n",
      "\n",
      "  warnings.warn(warning_text)\n"
     ]
    }
   ],
   "source": [
    "import quaternion\n",
    "from shapely.geometry import Polygon\n",
    "\n",
    "def vec_to_trans(vec):\n",
    "    a = np.identity(len(vec)+1)\n",
    "    a[:len(vec),len(vec)] = vec\n",
    "    return a\n",
    "\n",
    "def distance_filtered_poly(polygon, distance=0.01):\n",
    "    c = np.round(polygon.exterior.coords, 3)\n",
    "    ban = np.zeros([len(c)], dtype=int)\n",
    "    for i in range(len(c)):\n",
    "        if not ban[i]:\n",
    "            n = np.linalg.norm(c-c[i], axis=1) < distance\n",
    "            n[i] = False\n",
    "            ban = np.logical_or(ban, n) \n",
    "    \n",
    "    return Polygon(c[np.logical_not(ban)])\n",
    "\n",
    "def get_square_horizon(base_pos, radius, z_angle=0):\n",
    "    d1 = [1,1,-1,-1]\n",
    "    d2 = [1,-1,-1,1]\n",
    "    poss = np.array([np.quaternion(1,d1[i]*radius,d2[i]*radius,0) for i in range(4)])\n",
    "    q = quaternion.from_euler_angles(0,0,z_angle)\n",
    "    pq = q*poss*q.conj()\n",
    "    \n",
    "    return np.array([[p.x, p.y, p.z] for p in pq])+base_pos\n",
    "\n",
    "def get_extended_face(face_vertices, length):\n",
    "    face_bottom = np.copy(face_vertices)\n",
    "    face_bottom[:,2] += length\n",
    "    return np.concatenate([face_vertices, face_bottom])\n",
    "\n",
    "def unique_augment_poly(polygon, length, center=None):\n",
    "    '''\n",
    "    arg1: must be object of shapely.geometry such as Polygon and more.\n",
    "    arg2: length of augmentation to centroid\n",
    "    '''\n",
    "    \n",
    "    p = np.array(polygon.exterior.coords)\n",
    "    if center is None:\n",
    "#         c = np.zeros([2])\n",
    "        c = polygon.centroid\n",
    "#         c = np.mean(p[:-1], axis=0)\n",
    "        print(c)\n",
    "    else:\n",
    "        c = center\n",
    "    r = p - c\n",
    "    n = r / np.linalg.norm(r, axis=1, ord=2)[np.newaxis,:].T\n",
    "    return Polygon(p+n*length).convex_hull\n",
    "\n",
    "# p = [0, 0, 0]\n",
    "# ang = np.pi/4\n",
    "# print(get_square_horizon(p, 0.1, ang))"
   ]
  },
  {
   "cell_type": "code",
   "execution_count": 5,
   "metadata": {},
   "outputs": [
    {
     "name": "stdout",
     "output_type": "stream",
     "text": [
      "ROS_MASTER_URI=http://localhost:11311, GAZEBO_MASTER_URI=http://localhost:11345\n"
     ]
    }
   ],
   "source": [
    "from pcg_gazebo.task_manager import ProcessManager\n",
    "from pcg_gazebo.generators.creators import create_models_from_config\n",
    "\n",
    "TARGET_SIM = dict(\n",
    "    ros_host='localhost',\n",
    "    ros_port=11311,\n",
    "    gazebo_host='localhost',\n",
    "    gazebo_port=11345\n",
    ")\n",
    "\n",
    "process_manager = ProcessManager(**TARGET_SIM)\n",
    "gazebo_proxy = process_manager.get_gazebo_proxy()\n",
    "print(gazebo_proxy.ros_config)"
   ]
  },
  {
   "cell_type": "code",
   "execution_count": 7,
   "metadata": {},
   "outputs": [
    {
     "name": "stdout",
     "output_type": "stream",
     "text": [
      "[-0.30025696  0.55294181 -0.4       ]\n",
      "POINT (0.1841429289440726 -0.4775904645256889)\n",
      "(array([ 0.00985124, -1.93562576,  0.3       ]), array([0.        , 0.        , 5.17985909]))\n",
      "(array([ 1.00494241, -0.0555077 ,  0.3       ]), array([0.        , 0.        , 0.10229465]))\n",
      "(array([ 2.18699067, -0.74762384,  0.3       ]), array([0.        , 0.        , 0.83547646]))\n",
      "(array([1.89798921, 0.74618462, 0.3       ]), array([0.        , 0.        , 4.38970374]))\n",
      "(array([ 0.05258014, -0.67947089,  0.3       ]), array([0.        , 0.        , 3.23807767]))\n",
      "(array([1.5010036 , 1.25593702, 0.3       ]), array([0.        , 0.        , 5.80780436]))\n",
      "(array([2.73681326, 0.20141748, 0.3       ]), array([0.        , 0.        , 1.07787068]))\n",
      "(array([2.09096456, 0.76423959, 0.3       ]), array([0.        , 0.        , 3.77164137]))\n",
      "(array([-0.85813292, -0.78788129,  0.3       ]), array([0.        , 0.        , 2.10050174]))\n",
      "(array([-1.95437795, -1.15783232,  0.3       ]), array([0.       , 0.       , 0.2649095]))\n",
      "(array([-0.01072367,  0.07615789,  0.3       ]), array([0.        , 0.        , 1.61573937]))\n",
      "(array([1.24650811, 1.55076571, 0.3       ]), array([0.        , 0.        , 0.68818188]))\n",
      "(array([-0.62462756, -0.99420077,  0.3       ]), array([0.       , 0.       , 4.0548826]))\n",
      "(array([-1.71350839, -0.22576423,  0.3       ]), array([0.        , 0.        , 3.19719521]))\n",
      "(array([2.28719199, 0.32407548, 0.3       ]), array([0.       , 0.       , 6.0761032]))\n"
     ]
    },
    {
     "data": {
      "image/png": "[encoded data removed]",
      "text/plain": [
       "<Figure size 432x288 with 1 Axes>"
      ]
     },
     "metadata": {
      "needs_background": "light"
     },
     "output_type": "display_data"
    }
   ],
   "source": [
    "## spawn box to the any place of wall collision space coordinates\n",
    "\n",
    "import numpy as np\n",
    "from pcg_gazebo.generators.shapes import random_rectangle, \\\n",
    "    random_points_to_triangulation, random_rectangles\n",
    "import trimesh\n",
    "from shapely.geometry import Polygon\n",
    "\n",
    "THRESHOLD_WALL = 0.2\n",
    "ROOM_SIZE_RADIUS = 4.1\n",
    "ROOM_WALL_HEIGHT = 0.8\n",
    "ROOM_WALL_THICKNESS = 0.05\n",
    "OBSTACLE_NUM = 15\n",
    "OBSTACLE_SIZE = 0.6\n",
    "TARGET_SIZE = 0.2\n",
    "AGENT_SIZE = 0.3\n",
    "# CLUSTER_EPS = 1.3\n",
    "\n",
    "config = [\n",
    "    dict(\n",
    "        type='extrude',\n",
    "        args=dict(\n",
    "            polygon=random_points_to_triangulation(\n",
    "                x_min=-ROOM_SIZE_RADIUS,\n",
    "                x_max=ROOM_SIZE_RADIUS,\n",
    "                y_min=-ROOM_SIZE_RADIUS,\n",
    "                y_max=ROOM_SIZE_RADIUS\n",
    "            ),\n",
    "            height=ROOM_WALL_HEIGHT,\n",
    "            thickness=ROOM_WALL_THICKNESS,\n",
    "            extrude_boundaries=True,\n",
    "            name='extruded_poly_triangulation',\n",
    "            color='random'\n",
    "        )\n",
    "    )\n",
    "]\n",
    "\n",
    "models = create_models_from_config(config)\n",
    "\n",
    "for model in models:\n",
    "    col = model.get_link_by_name(model.name).collisions[0]\n",
    "    col_mesh_before_trans = col.geometry._geometry_entity.get_meshes()[0] # Trimesh of not corrected by pose\n",
    "    col_mesh = col_mesh_before_trans.apply_transform(vec_to_trans(col.pose.position))\n",
    "    print(col.pose.position)\n",
    "#     col_poly = Polygon((col_mesh.vertices)[::2,:2]).convex_hull\n",
    "    col_poly = trimesh.path.polygons.projected(col_mesh, (0,0,ROOM_WALL_HEIGHT/2))\n",
    "    extrude_interior_poly = distance_filtered_poly(Polygon(col_poly.interiors[0]))\n",
    "#     sample_pts = col.geometry._geometry_entity.get_samples(OBSTACLE_NUM)\n",
    "\n",
    "    model.spawn(\n",
    "        gazebo_proxy=gazebo_proxy, \n",
    "        robot_namespace=model.name,\n",
    "        pos=[0,0,ROOM_WALL_HEIGHT/2]\n",
    "    )\n",
    "\n",
    "# extrude_interior_poly = Polygon(col_poly.exterior.buffer(ROOM_WALL_THICKNESS, cap_style=1, join_style=2).interiors[0])\n",
    "\n",
    "mini_col_poly = unique_augment_poly(extrude_interior_poly, -1*(THRESHOLD_WALL+OBSTACLE_SIZE))\n",
    "# mini_col_poly = Polygon(extrude_interior_poly.exterior.buffer(THRESHOLD_WALL+OBSTACLE_SIZE, cap_style=1, join_style=2).interiors[0])\n",
    "sample_pts_2d = trimesh.path.polygons.sample(mini_col_poly, OBSTACLE_NUM)\n",
    "sample_pts = np.concatenate([\n",
    "    sample_pts_2d[np.newaxis,:,0].T, \n",
    "    sample_pts_2d[np.newaxis,:,1].T, \n",
    "    np.full([len(sample_pts_2d),1], OBSTACLE_SIZE/2)\n",
    "], 1)\n",
    "    \n",
    "# mini_col_mesh = trimesh.Trimesh(np.array(col_mesh.vertices)*THRESHOLD_WALL)\n",
    "# sample_pts = np.array(mini_col_mesh.convex_hull.sample(len(sample_pts)))\n",
    "# sample_pts += col.pose.position * THRESHOLD_WALL\n",
    "# sample_pts[:,2] = OBSTACLE_SIZE/2\n",
    "\n",
    "sample_rot = np.zeros_like(sample_pts)\n",
    "sample_rot[:,2] = np.random.random([len(sample_pts)])*np.pi*2\n",
    "\n",
    "sizes = [[OBSTACLE_SIZE, OBSTACLE_SIZE, OBSTACLE_SIZE]]*len(sample_pts)\n",
    "\n",
    "config_obstacle_box = [\n",
    "    dict(\n",
    "        type='box_factory',\n",
    "        args=dict(\n",
    "            size=sizes,\n",
    "            name='obstacle_box',\n",
    "            use_permutation=True,\n",
    "            color='white'\n",
    "        )\n",
    "    )\n",
    "]\n",
    "\n",
    "models_box = create_models_from_config(config_obstacle_box)\n",
    "for model, p, r in zip(models_box, sample_pts, sample_rot):\n",
    "    print(p, r)\n",
    "    model.spawn(\n",
    "        gazebo_proxy=gazebo_proxy, \n",
    "        robot_namespace=model.name,\n",
    "        pos=list(p),\n",
    "        rot=list(r)\n",
    "    )\n",
    "\n",
    "# col_mesh.show()\n",
    "trimesh.path.polygons.plot_polygon(extrude_interior_poly)"
   ]
  },
  {
   "cell_type": "code",
   "execution_count": 39,
   "metadata": {},
   "outputs": [
    {
     "data": {
      "image/png": "[encoded data removed]",
      "text/plain": [
       "<Figure size 432x288 with 1 Axes>"
      ]
     },
     "metadata": {
      "needs_background": "light"
     },
     "output_type": "display_data"
    }
   ],
   "source": [
    "trimesh.path.polygons.plot_polygon(mini_col_poly)\n",
    "# list(mini_col_poly.exterior.coords)"
   ]
  },
  {
   "cell_type": "code",
   "execution_count": 40,
   "metadata": {},
   "outputs": [
    {
     "name": "stdout",
     "output_type": "stream",
     "text": [
      "[0 1 1 2 2 0 2 2 2 3 0 2 4 2 5]\n"
     ]
    }
   ],
   "source": [
    "from sklearn.cluster import DBSCAN\n",
    "\n",
    "db = DBSCAN(eps=np.sqrt((OBSTACLE_SIZE**2)*2)+AGENT_SIZE/2, min_samples=1).fit(np.array(sample_pts))\n",
    "labels = db.labels_\n",
    "print(labels)\n"
   ]
  },
  {
   "cell_type": "code",
   "execution_count": 41,
   "metadata": {},
   "outputs": [],
   "source": [
    "sizes = [[TARGET_SIZE, TARGET_SIZE, TARGET_SIZE]]*(max(labels)+1)\n",
    "config_target_box = [\n",
    "    dict(\n",
    "        type='box_factory',\n",
    "        args=dict(\n",
    "            size=sizes,\n",
    "            name='target_box',\n",
    "            use_permutation=True,\n",
    "            color='cyan'\n",
    "        )\n",
    "    )\n",
    "]\n",
    "\n",
    "models_target = create_models_from_config(config_target_box)"
   ]
  },
  {
   "cell_type": "code",
   "execution_count": 42,
   "metadata": {},
   "outputs": [
    {
     "data": {
      "image/svg+xml": [
       "<svg xmlns=\"http://www.w3.org/2000/svg\" xmlns:xlink=\"http://www.w3.org/1999/xlink\" width=\"100.0\" height=\"100.0\" viewBox=\"-3.20696 -4.05496 6.40592 8.09892\" preserveAspectRatio=\"xMinYMin meet\"><g transform=\"matrix(1,0,0,-1,0,-0.011)\"><path fill-rule=\"evenodd\" fill=\"#66cc99\" stroke=\"#555555\" stroke-width=\"0.1619784\" opacity=\"0.6\" d=\"M 2.899,-3.323 L 1.6,2.24 L -0.264,3.744 L -1.286,2.948 L -2.907,-1.602 L -1.852,-3.755 L 2.899,-3.323 z M 1.36024752358,-2.35370456556 L 1.36488547987,-2.33797594714 L 0.989920576868,-2.27580583092 L 1.08806223916,-1.68388673668 L 1.17374824636,-1.69809369041 L 1.04198118695,-1.48898283248 L 1.54960629584,-1.16911293888 L 1.86947618944,-1.67673804776 L 1.67736779848,-1.79779133985 L 1.67359264869,-1.82056029636 L 2.10544913032,-1.94790342546 L 1.935748897,-2.52340479888 L 1.36024752358,-2.35370456556 z M -1.14006868294,-0.162278969473 L -1.01386312346,-0.748855611316 L -1.6004397653,-0.875061170796 L -1.63882762703,-0.696642540795 L -2.03801952166,-0.799166295138 L -2.18727264586,-0.218026462638 L -1.60613281336,-0.0687733384432 L -1.55897019461,-0.252408197055 L -1.14006868294,-0.162278969473 z M -0.882639283573,0.84646383482 L -1.02356187238,0.263247902284 L -1.60677780492,0.40417049109 L -1.46585521611,0.987386423627 L -0.882639283573,0.84646383482 z M -0.4699478344,-0.275504597361 L 0.129249988588,-0.24448897345 L 0.160265612499,-0.843686796438 L -0.438932210489,-0.874702420349 L -0.4699478344,-0.275504597361 z M 1.66937727676,-0.555086579236 L 1.22865564131,-0.622114264467 L 1.13844128694,-0.028935227189 L 1.35299656327,0.00369567261141 L 1.3616105905,0.0822557781019 L 1.6567564597,0.049893365409 L 1.73162032422,0.0612791271754 L 1.734650916,0.0413523258602 L 1.95803592891,0.0168584103709 L 1.89263856118,-0.579566928036 L 1.66937727676,-0.555086579236 z M 0.452760559371,-0.959710352755 L 0.469635513869,-0.826647423621 L 0.363806615191,-0.808781756723 L 0.463683333757,-0.217152953259 L 1.05531213722,-0.317029671825 L 1.03642247824,-0.428924280491 L 1.1234800444,-0.43996486465 L 1.04799304594,-1.03519735122 L 0.452760559371,-0.959710352755 z M -0.816685148483,0.536863883786 L -0.235697378778,0.686707840797 L -0.0858534217661,0.105720071092 L -0.666841191471,-0.0441238859197 L -0.816685148483,0.536863883786 z M -0.723565800232,-2.17511796398 L -1.30194270554,-2.01549291768 L -1.14231765924,-1.43711601237 L -0.563940753929,-1.59674105868 L -0.723565800232,-2.17511796398 z M 0.240470599552,2.11807149569 L -0.28256637253,1.82407774434 L -0.576560123883,2.34711471642 L -0.0535231518003,2.64110846777 L 0.240470599552,2.11807149569 z M 1.32193411059,0.409642750596 L 0.781288057349,0.669838532868 L 1.04148383962,1.21048458611 L 1.58212989286,0.950288803839 L 1.32193411059,0.409642750596 z\" /></g></svg>"
      ],
      "text/plain": [
       "<shapely.geometry.polygon.Polygon at 0x7f248a29f910>"
      ]
     },
     "execution_count": 42,
     "metadata": {},
     "output_type": "execute_result"
    }
   ],
   "source": [
    "import shapely\n",
    "from shapely.geometry.polygon import Polygon, LinearRing, LineString\n",
    "\n",
    "zone_base_2d = [None]*(max(labels)+1)\n",
    "for i in range(len(zone_base_2d)):\n",
    "    pts = sample_pts_2d[labels==i]\n",
    "    \n",
    "    #A\n",
    "#     if len(pts) > 2:\n",
    "#         zone_base_2d[i] = trimesh.convex.hull_points(pts)\n",
    "#     else:\n",
    "#         zone_base_2d[i] = pts\n",
    "\n",
    "zone_vertices_2d = [None]*len(zone_base_2d)\n",
    "zone_polys = [None]*len(zone_base_2d)\n",
    "for i in range(len(zone_base_2d)):\n",
    "    pts = sample_pts[labels==i]\n",
    "    rts = sample_rot[labels==i]\n",
    "    vertices = [get_square_horizon(p, OBSTACLE_SIZE/2, r[2]) for p,r in zip(pts,rts)]\n",
    "    vertices_all = np.concatenate(vertices)\n",
    "\n",
    "    zone_vertices_2d[i] = trimesh.convex.hull_points(vertices_all[:,:2])\n",
    "    zone_polys[i] = shapely.ops.unary_union([Polygon(v) for v in vertices])\n",
    "    \n",
    "zone_hull = [None]*len(zone_base_2d)\n",
    "for i in range(len(zone_base_2d)):\n",
    "    p3 = np.zeros([len(zone_vertices_2d[i]),3])\n",
    "    p3[:,:2] = zone_vertices_2d[i]\n",
    "    zone_hull[i] = trimesh.Trimesh(vertices=get_extended_face(p3, OBSTACLE_SIZE)).convex_hull\n",
    "\n",
    "\n",
    "all_poly = []\n",
    "for polys in zone_polys:\n",
    "    if isinstance(polys, Polygon):\n",
    "        all_poly.append(polys)\n",
    "    else:\n",
    "        for p in polys:\n",
    "            all_poly.append(p)\n",
    "\n",
    "map_poly = Polygon(list(extrude_interior_poly.exterior.coords), map(lambda p: list(p.exterior.coords), all_poly))\n",
    "map_poly\n"
   ]
  },
  {
   "cell_type": "code",
   "execution_count": 43,
   "metadata": {},
   "outputs": [
    {
     "data": {
      "image/svg+xml": [
       "<svg xmlns=\"http://www.w3.org/2000/svg\" xmlns:xlink=\"http://www.w3.org/1999/xlink\" width=\"100.0\" height=\"100.0\" viewBox=\"0.935748902468 -2.57757647328 1.22387190226 1.4626352088\" preserveAspectRatio=\"xMinYMin meet\"><g transform=\"matrix(1,0,0,-1,0,-3.69251773776)\"><path fill-rule=\"evenodd\" fill=\"#66cc99\" stroke=\"#555555\" stroke-width=\"0.0292527041761\" opacity=\"0.6\" d=\"M 1.36024752358,-2.35370456556 L 1.36488547987,-2.33797594714 L 0.989920576868,-2.27580583092 L 1.08806223916,-1.68388673668 L 1.17374824636,-1.69809369041 L 1.04198118695,-1.48898283248 L 1.54960629584,-1.16911293888 L 1.86947618944,-1.67673804776 L 1.67736779848,-1.79779133985 L 1.67359264869,-1.82056029636 L 2.10544913032,-1.94790342546 L 1.935748897,-2.52340479888 L 1.36024752358,-2.35370456556 z\" /></g></svg>"
      ],
      "text/plain": [
       "<shapely.geometry.polygon.Polygon at 0x7f248b75c4d0>"
      ]
     },
     "execution_count": 43,
     "metadata": {},
     "output_type": "execute_result"
    }
   ],
   "source": [
    "zone_polys[0]"
   ]
  },
  {
   "cell_type": "code",
   "execution_count": 44,
   "metadata": {},
   "outputs": [
    {
     "name": "stdout",
     "output_type": "stream",
     "text": [
      "[[ 2.22044605e-16 -1.00000000e+00  1.00000000e+00]\n",
      " [ 1.00000000e+00  2.22044605e-16  1.00000000e+00]\n",
      " [ 0.00000000e+00  0.00000000e+00  1.00000000e+00]]\n"
     ]
    },
    {
     "data": {
      "image/png": "[encoded data removed]",
      "text/plain": [
       "<Figure size 432x288 with 1 Axes>"
      ]
     },
     "metadata": {
      "needs_background": "light"
     },
     "output_type": "display_data"
    },
    {
     "data": {
      "image/png": "[encoded data removed]",
      "text/plain": [
       "<Figure size 432x288 with 1 Axes>"
      ]
     },
     "metadata": {
      "needs_background": "light"
     },
     "output_type": "display_data"
    }
   ],
   "source": [
    "import shapely\n",
    "\n",
    "def fullmap_from_agent_pose(agent_pos, agent_ori, poly):\n",
    "\n",
    "    matrix_rota1 = quaternion.as_rotation_matrix(agent_ori)\n",
    "\n",
    "    matrix_trans1 = np.identity(3)\n",
    "    matrix_trans1[:2,2] = [agent_pos.x,agent_pos.y]\n",
    "\n",
    "    affine_matrix = np.dot(matrix_trans1, matrix_rota1)\n",
    "    print(affine_matrix)\n",
    "\n",
    "    # shapely.affinity.affine_transform(map_poly, [1,0,0,1,tx,ty])\n",
    "    return shapely.affinity.affine_transform(map_poly, [\n",
    "        affine_matrix[0,0],affine_matrix[0,1],\n",
    "        affine_matrix[1,0],affine_matrix[1,1],\n",
    "        affine_matrix[0,2],affine_matrix[1,2]\n",
    "    ])\n",
    "\n",
    "\n",
    "pq = np.quaternion(1,1,1,0) # (w,x,y,z)\n",
    "rq = quaternion.from_euler_angles(0,0,np.pi/2)\n",
    "\n",
    "p = fullmap_from_agent_pose(pq, rq, map_poly)\n",
    "\n",
    "trimesh.path.polygons.plot_polygon(map_poly)\n",
    "trimesh.path.polygons.plot_polygon(p)\n",
    "\n",
    "# shapely.affinity.rotate(map_poly, np.rad2deg(tr))"
   ]
  },
  {
   "cell_type": "markdown",
   "metadata": {},
   "source": [
    "### Methods to generate position of target\n",
    "\n",
    "Target position is sampled from convex face formed by cluster."
   ]
  },
  {
   "cell_type": "code",
   "execution_count": 45,
   "metadata": {},
   "outputs": [
    {
     "name": "stdout",
     "output_type": "stream",
     "text": [
      "[[ 1.90543229 -1.66766016  0.1       ]\n",
      " [-1.0819395  -0.43245106  0.1       ]\n",
      " [ 0.63844118  0.41979244  0.1       ]\n",
      " [-1.23848103 -1.78554925  0.1       ]\n",
      " [ 0.14531583  2.28735897  0.1       ]\n",
      " [ 1.30678262  1.08280471  0.1       ]]\n"
     ]
    }
   ],
   "source": [
    "zone_samples = [None]*len(zone_hull)\n",
    "for i in range(len(zone_samples)):\n",
    "    ## sample_surface return tuple, so choice 0 index\n",
    "    samples = trimesh.sample.sample_surface_even(zone_hull[i], 100)[0]\n",
    "    zone_samples[i] = samples[\n",
    "        np.logical_and(\n",
    "            np.not_equal(samples[:,2], 0), \n",
    "            np.not_equal(samples[:,2], OBSTACLE_SIZE)\n",
    "        )\n",
    "    ]\n",
    "\n",
    "choiced_goal = np.zeros([len(zone_hull),3])\n",
    "for i in range(len(choiced_goal)):\n",
    "    choiced_goal[i] = zone_samples[i][np.random.choice(range(len(zone_samples[i])))]\n",
    "    \n",
    "choiced_goal[:,2] = TARGET_SIZE/2\n",
    "\n",
    "print(choiced_goal)\n",
    "for model, p in zip(models_target, choiced_goal):\n",
    "    model.get_link_by_name('link').disable_collision()\n",
    "    model.spawn(\n",
    "        gazebo_proxy=gazebo_proxy, \n",
    "        robot_namespace=model.name,\n",
    "        pos=list(p)\n",
    "    )"
   ]
  },
  {
   "cell_type": "code",
   "execution_count": 26,
   "metadata": {},
   "outputs": [],
   "source": [
    "def delete_models(model_name, start=None, stop=None):\n",
    "    if start is not None and stop is not None:\n",
    "        for i in range(start, stop+1):\n",
    "            gazebo_proxy.delete_model(model_name=model_name+\"_\"+str(i))\n",
    "    else:\n",
    "        gazebo_proxy.delete_model(model_name=model_name)\n",
    "        \n",
    "delete_models('target_box', 2, 7)"
   ]
  },
  {
   "cell_type": "code",
   "execution_count": null,
   "metadata": {},
   "outputs": [],
   "source": []
  }
 ],
 "metadata": {
  "kernelspec": {
   "display_name": "Python 2",
   "language": "python",
   "name": "python2"
  },
  "language_info": {
   "codemirror_mode": {
    "name": "ipython",
    "version": 2
   },
   "file_extension": ".py",
   "mimetype": "text/x-python",
   "name": "python",
   "nbconvert_exporter": "python",
   "pygments_lexer": "ipython2",
   "version": "2.7.17"
  }
 },
 "nbformat": 4,
 "nbformat_minor": 2
}
