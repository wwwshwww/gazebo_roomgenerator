{
 "cells": [
  {
   "cell_type": "code",
   "execution_count": 2,
   "metadata": {},
   "outputs": [
    {
     "data": {
      "image/svg+xml": [
       "<svg xmlns=\"http://www.w3.org/2000/svg\" xmlns:xlink=\"http://www.w3.org/1999/xlink\" width=\"100.0\" height=\"100.0\" viewBox=\"-0.0800000000011 -0.0800000000011 2.16 2.16\" preserveAspectRatio=\"xMinYMin meet\"><g transform=\"matrix(1,0,0,-1,0,2.0)\"><path fill-rule=\"evenodd\" fill=\"#66cc99\" stroke=\"#555555\" stroke-width=\"0.0432\" opacity=\"0.6\" d=\"M 0.0,-1e-12 L -9.80171403296e-14,-9.95184726672e-13 L -1.95090322016e-13,-9.80785280403e-13 L -2.90284677254e-13,-9.56940335732e-13 L -3.82683432365e-13,-9.23879532511e-13 L -4.71396736826e-13,-8.81921264348e-13 L -5.5557023302e-13,-8.31469612303e-13 L -6.34393284164e-13,-7.73010453363e-13 L -7.07106781187e-13,-7.07106781187e-13 L -7.73010453363e-13,-6.34393284164e-13 L -8.31469612303e-13,-5.5557023302e-13 L -8.81921264348e-13,-4.71396736826e-13 L -9.23879532511e-13,-3.82683432365e-13 L -9.56940335732e-13,-2.90284677254e-13 L -9.80785280403e-13,-1.95090322016e-13 L -9.95184726672e-13,-9.80171403296e-14 L -1e-12,0.0 L -1e-12,2.0 L -9.95184726672e-13,2.0 L -9.80785280403e-13,2.0 L -9.56940335732e-13,2.0 L -9.23879532511e-13,2.0 L -8.81921264348e-13,2.0 L -8.31469612303e-13,2.0 L -7.73010453363e-13,2.0 L -7.07106781187e-13,2.0 L -6.34393284164e-13,2.0 L -5.5557023302e-13,2.0 L -4.71396736826e-13,2.0 L -3.82683432365e-13,2.0 L -2.90284677254e-13,2.0 L -1.95090322016e-13,2.0 L -9.80171403296e-14,2.0 L 0.0,2.0 L 2.0,2.0 L 2.0,2.0 L 2.0,2.0 L 2.0,2.0 L 2.0,2.0 L 2.0,2.0 L 2.0,2.0 L 2.0,2.0 L 2.0,2.0 L 2.0,2.0 L 2.0,2.0 L 2.0,2.0 L 2.0,2.0 L 2.0,2.0 L 2.0,2.0 L 2.0,2.0 L 2.0,2.0 L 2.0,0.0 L 2.0,-9.80171403296e-14 L 2.0,-1.95090322016e-13 L 2.0,-2.90284677254e-13 L 2.0,-3.82683432365e-13 L 2.0,-4.71396736826e-13 L 2.0,-5.5557023302e-13 L 2.0,-6.34393284164e-13 L 2.0,-7.07106781187e-13 L 2.0,-7.73010453363e-13 L 2.0,-8.31469612303e-13 L 2.0,-8.81921264348e-13 L 2.0,-9.23879532511e-13 L 2.0,-9.56940335732e-13 L 2.0,-9.80785280403e-13 L 2.0,-9.95184726672e-13 L 2.0,-1e-12 L 0.0,-1e-12 z M 0.750000000001,1.0 L 0.500000000001,0.5 L 1.0,1.41425759992e-12 L 1.5,0.5 L 1.25,1.0 L 1.5,1.5 L 1.0,2.0 L 0.500000000001,1.5 L 0.750000000001,1.0 z\" /></g></svg>"
      ],
      "text/plain": [
       "<shapely.geometry.polygon.Polygon at 0x7fe0d802e890>"
      ]
     },
     "execution_count": 2,
     "metadata": {},
     "output_type": "execute_result"
    }
   ],
   "source": [
    "from shapely.geometry import Polygon\n",
    "import trimesh\n",
    "\n",
    "ext = Polygon([(0, 0), (0, 2), (2, 2), (2, 0), (0, 0)])\n",
    "inte = Polygon([(1, 0), (0.5, 0.5), (1, 1.5), (1.5, 0.5), (1, 0)][::-1])\n",
    "inte2 = Polygon([(1,2), (0.5,1.5), (1,0.5), (1.5,1.5), (1,2)][::-1])\n",
    "polygon = Polygon(list(ext.exterior.coords), [list(inte.exterior.coords), list(inte2.exterior.coords)])\n",
    "fixed = trimesh.path.polygons.repair_invalid(polygon)\n",
    "fixed"
   ]
  },
  {
   "cell_type": "code",
   "execution_count": 3,
   "metadata": {},
   "outputs": [
    {
     "data": {
      "image/svg+xml": [
       "<svg xmlns=\"http://www.w3.org/2000/svg\" xmlns:xlink=\"http://www.w3.org/1999/xlink\" width=\"100.0\" height=\"100.0\" viewBox=\"0.420000000001 -0.0799999999985 1.16 2.16\" preserveAspectRatio=\"xMinYMin meet\"><g transform=\"matrix(1,0,0,-1,0,2.0)\"><polyline fill=\"none\" stroke=\"#66cc99\" stroke-width=\"0.0431999999999\" points=\"0.750000000001,1.0 0.500000000001,0.5 1.0,1.41425759992e-12 1.5,0.5 1.25,1.0 1.5,1.5 1.0,2.0 0.500000000001,1.5 0.750000000001,1.0\" opacity=\"0.8\" /></g></svg>"
      ],
      "text/plain": [
       "<shapely.geometry.polygon.LinearRing at 0x7fe0d802e350>"
      ]
     },
     "execution_count": 3,
     "metadata": {},
     "output_type": "execute_result"
    }
   ],
   "source": [
    "fixed.interiors[0]"
   ]
  },
  {
   "cell_type": "code",
   "execution_count": 6,
   "metadata": {},
   "outputs": [
    {
     "data": {
      "image/svg+xml": [
       "<svg xmlns=\"http://www.w3.org/2000/svg\" xmlns:xlink=\"http://www.w3.org/1999/xlink\" width=\"100.0\" height=\"100.0\" viewBox=\"0.42 -0.08 1.16 2.16\" preserveAspectRatio=\"xMinYMin meet\"><g transform=\"matrix(1,0,0,-1,0,2.0)\"><path fill-rule=\"evenodd\" fill=\"#66cc99\" stroke=\"#555555\" stroke-width=\"0.0432\" opacity=\"0.6\" d=\"M 1.25,1.0 L 1.5,0.5 L 1.0,0.0 L 0.5,0.5 L 0.75,1.0 L 0.5,1.5 L 1.0,2.0 L 1.5,1.5 L 1.25,1.0 z\" /></g></svg>"
      ],
      "text/plain": [
       "<shapely.geometry.polygon.Polygon at 0x7fe0a2031450>"
      ]
     },
     "execution_count": 6,
     "metadata": {},
     "output_type": "execute_result"
    }
   ],
   "source": [
    "from shapely.ops import unary_union\n",
    "inte = Polygon([(1, 0), (0.5, 0.5), (1, 1.5), (1.5, 0.5), (1, 0)][::-1])\n",
    "inte2 = Polygon([(1,2), (0.5,1.5), (1,0.5), (1.5,1.5), (1,2)][::-1])\n",
    "pp = unary_union([inte, inte2])\n",
    "pp"
   ]
  },
  {
   "cell_type": "code",
   "execution_count": 14,
   "metadata": {},
   "outputs": [
    {
     "data": {
      "image/svg+xml": [
       "<svg xmlns=\"http://www.w3.org/2000/svg\" xmlns:xlink=\"http://www.w3.org/1999/xlink\" width=\"100.0\" height=\"100.0\" viewBox=\"0.287010240172 -0.232735064736 1.42597951966 2.46547012947\" preserveAspectRatio=\"xMinYMin meet\"><g transform=\"matrix(1,0,0,-1,0,2.0)\"><path fill-rule=\"evenodd\" fill=\"#66cc99\" stroke=\"#555555\" stroke-width=\"0.0493094025895\" opacity=\"0.6\" d=\"M 1.36180339887,1.0 L 1.62167605133,0.480254695092 L 1.0,-0.141421356237 L 0.378323948671,0.480254695092 L 0.638196601125,1.0 L 0.378323948671,1.51974530491 L 1.0,2.14142135624 L 1.62167605133,1.51974530491 L 1.36180339887,1.0 z M 1.15009658293,1.0 L 1.15003706113,1.00272228796 L 1.15020377806,1.004902674 L 1.15025157912,1.00708890201 L 1.15057764519,1.00979224725 L 1.15078524088,1.01250726081 L 1.15116487023,1.01466080658 L 1.15142672893,1.01683182198 L 1.15201619908,1.01949018981 L 1.152488913,1.02217178189 L 1.15307779873,1.02427774757 L 1.15355119323,1.0264126423 L 1.15439839053,1.02900043118 L 1.15513167019,1.0316227766 L 1.15592414101,1.03366088058 L 1.15660451226,1.03573909443 L 1.15770127774,1.03823138255 L 1.15868806126,1.04076922668 L 1.15967648525,1.04271984091 L 1.1605572809,1.04472135955 L 1.37832394867,1.48025469509 L 1.0,1.85857864376 L 0.621676051329,1.48025469509 L 0.861803398875,1.0 L 0.621676051329,0.519745304908 L 1.0,0.141421356237 L 1.37832394867,0.519745304908 L 1.1605572809,0.95527864045 L 1.15967648525,0.957280159086 L 1.15868806126,0.959230773316 L 1.15770127774,0.961768617452 L 1.15660451226,0.964260905569 L 1.15592414101,0.966339119418 L 1.15513167019,0.968377223398 L 1.15439839053,0.97099956882 L 1.15355119323,0.973587357705 L 1.15307779873,0.97572225243 L 1.152488913,0.977828218106 L 1.15201619908,0.980509810194 L 1.15142672893,0.983168178025 L 1.15116487023,0.985339193423 L 1.15078524088,0.987492739194 L 1.15057764519,0.99020775275 L 1.15025157912,0.992911097991 L 1.15020377806,0.995097325997 L 1.15003706113,0.997277712041 L 1.15009658293,1.0 z\" /></g></svg>"
      ],
      "text/plain": [
       "<shapely.geometry.polygon.Polygon at 0x7fe0a2021b50>"
      ]
     },
     "execution_count": 14,
     "metadata": {},
     "output_type": "execute_result"
    }
   ],
   "source": [
    "pp.exterior.buffer(0.1, cap_style=1, join_style=2)"
   ]
  },
  {
   "cell_type": "code",
   "execution_count": 59,
   "metadata": {},
   "outputs": [],
   "source": [
    "import networkx as nx\n",
    "import matplotlib.pyplot as plt"
   ]
  },
  {
   "cell_type": "code",
   "execution_count": null,
   "metadata": {},
   "outputs": [],
   "source": []
  }
 ],
 "metadata": {
  "kernelspec": {
   "display_name": "Python 2",
   "language": "python",
   "name": "python2"
  },
  "language_info": {
   "codemirror_mode": {
    "name": "ipython",
    "version": 2
   },
   "file_extension": ".py",
   "mimetype": "text/x-python",
   "name": "python",
   "nbconvert_exporter": "python",
   "pygments_lexer": "ipython2",
   "version": "2.7.17"
  }
 },
 "nbformat": 4,
 "nbformat_minor": 2
}
