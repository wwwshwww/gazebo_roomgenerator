{
 "cells": [
  {
   "cell_type": "code",
   "execution_count": 32,
   "metadata": {},
   "outputs": [],
   "source": [
    "import trimesh\n",
    "from shapely.geometry import Polygon, Point\n",
    "from geopandas import GeoSeries\n",
    "import numpy as np"
   ]
  },
  {
   "cell_type": "code",
   "execution_count": 27,
   "metadata": {},
   "outputs": [
    {
     "data": {
      "image/svg+xml": [
       "<svg xmlns=\"http://www.w3.org/2000/svg\" xmlns:xlink=\"http://www.w3.org/1999/xlink\" width=\"100.0\" height=\"100.0\" viewBox=\"-0.12 -0.12 1.24 3.24\" preserveAspectRatio=\"xMinYMin meet\"><g transform=\"matrix(1,0,0,-1,0,3.0)\"><path fill-rule=\"evenodd\" fill=\"#66cc99\" stroke=\"#555555\" stroke-width=\"0.0648\" opacity=\"0.6\" d=\"M 0.0,0.0 L 0.0,1.0 L 0.5,3.0 L 1.0,1.0 L 1.0,0.0 L 0.0,0.0 z M 0.4,0.4 L 0.4,0.9 L 0.6,0.9 L 0.6,0.4 L 0.4,0.4 z\" /></g></svg>"
      ],
      "text/plain": [
       "<shapely.geometry.polygon.Polygon at 0x7fc769f67410>"
      ]
     },
     "execution_count": 27,
     "metadata": {},
     "output_type": "execute_result"
    }
   ],
   "source": [
    "p = Polygon([(0,0), (0,1), (0.5,3), (1,1), (1,0)], [[(0.4,0.4), (0.4,0.9),(0.6,0.9),(0.6,0.4)]])\n",
    "p"
   ]
  },
  {
   "cell_type": "code",
   "execution_count": 145,
   "metadata": {},
   "outputs": [
    {
     "name": "stdout",
     "output_type": "stream",
     "text": [
      "0     True\n",
      "1    False\n",
      "2    False\n",
      "dtype: bool\n"
     ]
    },
    {
     "data": {
      "text/plain": [
       "True"
      ]
     },
     "execution_count": 145,
     "metadata": {},
     "output_type": "execute_result"
    },
    {
     "data": {
      "image/png": "[encoded data removed]",
      "text/plain": [
       "<Figure size 432x288 with 1 Axes>"
      ]
     },
     "metadata": {
      "needs_background": "light"
     },
     "output_type": "display_data"
    }
   ],
   "source": [
    "g = GeoSeries(p)\n",
    "gp = GeoSeries([Point(0.3,0.3), Point(0.4,0.4), Point(1,1)])\n",
    "print(gp.within(g))\n",
    "g.plot()\n",
    "\n",
    "p.contains(Point(0.1,0.1))"
   ]
  },
  {
   "cell_type": "code",
   "execution_count": 164,
   "metadata": {},
   "outputs": [
    {
     "name": "stdout",
     "output_type": "stream",
     "text": [
      "(array([[-10.        ,  -9.96086106,  -9.92172211, ...,   9.92172211,\n",
      "          9.96086106,  10.        ],\n",
      "       [-10.        ,  -9.96086106,  -9.92172211, ...,   9.92172211,\n",
      "          9.96086106,  10.        ],\n",
      "       [-10.        ,  -9.96086106,  -9.92172211, ...,   9.92172211,\n",
      "          9.96086106,  10.        ],\n",
      "       ..., \n",
      "       [-10.        ,  -9.96086106,  -9.92172211, ...,   9.92172211,\n",
      "          9.96086106,  10.        ],\n",
      "       [-10.        ,  -9.96086106,  -9.92172211, ...,   9.92172211,\n",
      "          9.96086106,  10.        ],\n",
      "       [-10.        ,  -9.96086106,  -9.92172211, ...,   9.92172211,\n",
      "          9.96086106,  10.        ]]), array([[-10.        , -10.        , -10.        , ..., -10.        ,\n",
      "        -10.        , -10.        ],\n",
      "       [ -9.96086106,  -9.96086106,  -9.96086106, ...,  -9.96086106,\n",
      "         -9.96086106,  -9.96086106],\n",
      "       [ -9.92172211,  -9.92172211,  -9.92172211, ...,  -9.92172211,\n",
      "         -9.92172211,  -9.92172211],\n",
      "       ..., \n",
      "       [  9.92172211,   9.92172211,   9.92172211, ...,   9.92172211,\n",
      "          9.92172211,   9.92172211],\n",
      "       [  9.96086106,   9.96086106,   9.96086106, ...,   9.96086106,\n",
      "          9.96086106,   9.96086106],\n",
      "       [ 10.        ,  10.        ,  10.        , ...,  10.        ,\n",
      "         10.        ,  10.        ]]))\n",
      "((512, 512), (262144,), (512, 512), (262144,))\n"
     ]
    }
   ],
   "source": [
    "xmin, xmax, ymin, ymax = -10, 10, -10, 10\n",
    "length = 512\n",
    "xx, yy = np.meshgrid(np.linspace(xmin, xmax, length), np.linspace(ymin, ymax, length))\n",
    "xc = xx.flatten()\n",
    "yc = yy.flatten()\n",
    "print(xx, yy)\n",
    "print(xx.shape, xc.shape, yy.shape, yc.shape)"
   ]
  },
  {
   "cell_type": "code",
   "execution_count": 147,
   "metadata": {},
   "outputs": [
    {
     "name": "stdout",
     "output_type": "stream",
     "text": [
      "6.45130205154\n",
      "2.46649098396\n"
     ]
    },
    {
     "data": {
      "text/plain": [
       "<matplotlib.axes._subplots.AxesSubplot at 0x7fc6d49d92d0>"
      ]
     },
     "execution_count": 147,
     "metadata": {},
     "output_type": "execute_result"
    },
    {
     "data": {
      "image/png": "[encoded data removed]",
      "text/plain": [
       "<Figure size 432x288 with 1 Axes>"
      ]
     },
     "metadata": {
      "needs_background": "light"
     },
     "output_type": "display_data"
    }
   ],
   "source": [
    "import time\n",
    "\n",
    "data = np.full([length*length], 0)\n",
    "\n",
    "start = time.time()\n",
    "\n",
    "pts = GeoSeries([Point(x, y) for x, y in zip(xc, yc)])\n",
    "in_map = np.array(pts.within(p))\n",
    "grid1 = GeoSeries([pts[i] for i in range(len(pts)) if in_map[i]])\n",
    "\n",
    "print(time.time()-start)\n",
    "\n",
    "##------------------------------------------------------------\n",
    "\n",
    "start2 = time.time()\n",
    "\n",
    "trr = [p.contains(Point(x, y)) for x, y in zip(xc, yc)]\n",
    "data[trr] = 255\n",
    "img = data.reshape(length, length)\n",
    "\n",
    "print(time.time()-start2)\n",
    "\n",
    "grid1.plot(markersize=1)"
   ]
  },
  {
   "cell_type": "code",
   "execution_count": 160,
   "metadata": {},
   "outputs": [
    {
     "name": "stdout",
     "output_type": "stream",
     "text": [
      "[[0 0 0 ..., 0 0 0]\n",
      " [0 0 0 ..., 0 0 0]\n",
      " [0 0 0 ..., 0 0 0]\n",
      " ..., \n",
      " [0 0 0 ..., 0 0 0]\n",
      " [0 0 0 ..., 0 0 0]\n",
      " [0 0 0 ..., 0 0 0]]\n"
     ]
    },
    {
     "data": {
      "text/plain": [
       "<matplotlib.image.AxesImage at 0x7fc768460450>"
      ]
     },
     "execution_count": 160,
     "metadata": {},
     "output_type": "execute_result"
    },
    {
     "data": {
      "image/png": "[encoded data removed]",
      "text/plain": [
       "<Figure size 432x288 with 1 Axes>"
      ]
     },
     "metadata": {
      "needs_background": "light"
     },
     "output_type": "display_data"
    }
   ],
   "source": [
    "import matplotlib.pyplot as plt\n",
    "print(img)\n",
    "plt.imshow(img, cmap='gray')"
   ]
  },
  {
   "cell_type": "code",
   "execution_count": 170,
   "metadata": {},
   "outputs": [
    {
     "name": "stdout",
     "output_type": "stream",
     "text": [
      "2.49856686592\n",
      "0.92125916481\n"
     ]
    }
   ],
   "source": [
    "import time\n",
    "from multiprocessing import Pool, Array\n",
    "from contextlib import closing\n",
    "\n",
    "data = np.full([length*length], 0)\n",
    "\n",
    "start = time.time()\n",
    "\n",
    "trr = [p.contains(Point(x, y)) for x, y in zip(xc, yc)]\n",
    "data[trr] = 255\n",
    "img = data.reshape(length, length)\n",
    "\n",
    "print(time.time()-start)\n",
    "\n",
    "##------------------------------------------------------------\n",
    "\n",
    "data = np.full([length*length], 0)\n",
    "\n",
    "start2 = time.time()\n",
    "\n",
    "xl = Array('d', xc)\n",
    "yl = Array('d', yc)\n",
    "\n",
    "def mu(i):\n",
    "    return p.contains(Point(xl[i], yl[i]))\n",
    "\n",
    "with closing(Pool()) as pool:\n",
    "    data[pool.map(mu, range(len(xc)))] = 255\n",
    "\n",
    "img = data.reshape(length, length)\n",
    "    \n",
    "print(time.time()-start2)"
   ]
  },
  {
   "cell_type": "code",
   "execution_count": null,
   "metadata": {},
   "outputs": [],
   "source": []
  }
 ],
 "metadata": {
  "kernelspec": {
   "display_name": "Python 2",
   "language": "python",
   "name": "python2"
  },
  "language_info": {
   "codemirror_mode": {
    "name": "ipython",
    "version": 2
   },
   "file_extension": ".py",
   "mimetype": "text/x-python",
   "name": "python",
   "nbconvert_exporter": "python",
   "pygments_lexer": "ipython2",
   "version": "2.7.17"
  }
 },
 "nbformat": 4,
 "nbformat_minor": 2
}
