{
 "cells": [
  {
   "cell_type": "code",
   "execution_count": null,
   "metadata": {},
   "outputs": [],
   "source": [
    "## expand ver(gomi)\n",
    "\n",
    "# hull_points_2d = [None]*(max(labels)+1)\n",
    "# for i in range(len(hull_points_2d)):\n",
    "#     pts = sample_pts[labels==i]\n",
    "#     if len(pts) < 3:\n",
    "#         v = []\n",
    "#         for p in pts:\n",
    "#             v.extend(get_square_horizon(p, 0.05))\n",
    "#         pts = np.array(v)\n",
    "        \n",
    "# #     convex_2d = ConvexHull(pts[:,:2])\n",
    "#     hull_points_2d[i] = trimesh.convex.hull_points(pts[:,:2])\n",
    "\n",
    "\n",
    "# zone_hull = [None]*(len(hull_points_2d)) # trimesh.Trimesh in\n",
    "# for i in range(len(zone_hull)):\n",
    "#     tmp = np.zeros([len(hull_points_2d[i]), 3])\n",
    "#     tmp[:,:2] = hull_points_2d[i]\n",
    "#     pts = get_extended_face(tmp, OBSTACLE_SIZE)\n",
    "#     zone_hull[i] = trimesh.Trimesh(vertices=pts).convex_hull\n",
    "    \n",
    "    \n",
    "# zone_hull_expand = [None]*(len(hull_points_2d)) # trimesh.Trimesh in\n",
    "# zone_vecs_g2v = [None]*(len(hull_points_2d)) # normalized vector centroid to vertice\n",
    "# hull_points_2d_expand = [None]*(len(hull_points_2d))\n",
    "# for i in range(len(zone_hull_expand)):\n",
    "#     g = np.mean(hull_points_2d[i], axis=0)\n",
    "    \n",
    "# #     g = Polygon(hull_points_2d[i]).convex_hull.centroid.coords[0]\n",
    "\n",
    "#     vec_g2v = hull_points_2d[i]-g\n",
    "#     norm = np.linalg.norm(vec_g2v, axis=1, ord=2)\n",
    "#     zone_vecs_g2v[i] = vec_g2v / (np.array([norm]).T) ## KETAOTI OKIRUYO\n",
    "#     hull_points_2d_expand[i] = hull_points_2d[i]+zone_vecs_g2v[i]*(np.sqrt((OBSTACLE_SIZE**2)*2)/2)\n",
    "    \n",
    "#     tmp = np.zeros([len(hull_points_2d[i]), 3])\n",
    "#     tmp[:,:2] = hull_points_2d_expand[i]\n",
    "#     pts = get_extended_face(tmp, OBSTACLE_SIZE)\n",
    "#     zone_hull_expand[i] = trimesh.Trimesh(vertices=pts).convex_hull\n",
    "    \n",
    "# print(\"zone_vecs_g2v\", zone_vecs_g2v)\n",
    "# print(\"zone_full: \\n{}\".format(zone_hull[0].mass))\n",
    "# print(\"zone_full_expand: \\n{}\".format(zone_hull_expand[0].mass))"
   ]
  },
  {
   "cell_type": "code",
   "execution_count": null,
   "metadata": {},
   "outputs": [],
   "source": [
    "def unique_augment_poly(polygon, length, center=None):\n",
    "    '''\n",
    "    arg1: must be object of shapely.geometry such as Polygon and more.\n",
    "    arg2: length of augmentation to centroid\n",
    "    '''\n",
    "    p = np.array(polygon.exterior.coords)\n",
    "    if center is None:\n",
    "#         c = polygon.centroid\n",
    "        c = np.mean(p[:-1], axis=0)\n",
    "    else:\n",
    "        c = center\n",
    "    r = p - c\n",
    "    n = r / np.linalg.norm(r, axis=1, ord=2)[np.newaxis,:].T\n",
    "    return Polygon(p+n*length)\n",
    "\n",
    "# p = [0, 0, 0]\n",
    "# ang = np.pi/4\n",
    "# print(get_square_horizon(p, 0.1, ang))"
   ]
  }
 ],
 "metadata": {
  "kernelspec": {
   "display_name": "Python 2",
   "language": "python",
   "name": "python2"
  },
  "language_info": {
   "codemirror_mode": {
    "name": "ipython",
    "version": 2
   },
   "file_extension": ".py",
   "mimetype": "text/x-python",
   "name": "python",
   "nbconvert_exporter": "python",
   "pygments_lexer": "ipython2",
   "version": "2.7.17"
  }
 },
 "nbformat": 4,
 "nbformat_minor": 2
}
