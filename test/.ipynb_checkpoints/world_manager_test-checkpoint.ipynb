{
 "cells": [
  {
   "cell_type": "code",
   "execution_count": 41,
   "metadata": {},
   "outputs": [
    {
     "name": "stdout",
     "output_type": "stream",
     "text": [
      "ROS_MASTER_URI=http://localhost:11311, GAZEBO_MASTER_URI=http://localhost:11345\n"
     ]
    }
   ],
   "source": [
    "from pcg_gazebo.task_manager import ProcessManager\n",
    "from pcg_gazebo.generators.creators import create_models_from_config\n",
    "\n",
    "TARGET_SIM = dict(\n",
    "    ros_host='localhost',\n",
    "    ros_port=11311,\n",
    "    gazebo_host='localhost',\n",
    "    gazebo_port=11345\n",
    ")\n",
    "\n",
    "process_manager = ProcessManager(**TARGET_SIM)\n",
    "gazebo_proxy = process_manager.get_gazebo_proxy()\n",
    "print(gazebo_proxy.ros_config)"
   ]
  },
  {
   "cell_type": "code",
   "execution_count": 55,
   "metadata": {},
   "outputs": [
    {
     "data": {
      "text/plain": [
       "True"
      ]
     },
     "execution_count": 55,
     "metadata": {},
     "output_type": "execute_result"
    }
   ],
   "source": [
    "from pcg_gazebo.simulation import World\n",
    "from pcg_gazebo.generators.creators import create_models_from_config\n",
    "\n",
    "from pcg_gazebo.task_manager import process_manager\n",
    "\n",
    "box_config = [\n",
    "    dict(\n",
    "        type='box',\n",
    "        args=dict(\n",
    "            size=[0.5,0.5,0.5],\n",
    "            name='tameshi',\n",
    "            pose=[1,1,0,0,0,0],\n",
    "            color='random'\n",
    "        )\n",
    "    ), \n",
    "    dict(\n",
    "        type='box',\n",
    "        args=dict(\n",
    "            size=[0.2,0.2,0.2],\n",
    "            name='tameshi2',\n",
    "            color='random'\n",
    "        )\n",
    "    )\n",
    "]\n",
    "model = create_models_from_config(box_config)\n",
    "model[0].spawn(gazebo_proxy)\n",
    "model[1].spawn(gazebo_proxy)"
   ]
  },
  {
   "cell_type": "code",
   "execution_count": 56,
   "metadata": {},
   "outputs": [
    {
     "name": "stdout",
     "output_type": "stream",
     "text": [
      "Position (x, y, z) [m]: 1, 1, 0\n",
      "\t - x: 1\n",
      "\t - y: 1\n",
      "\t - z: 0\n",
      "Orientation rpy (roll, pitch, yaw) (degrees): \n",
      "\t - Roll: 0.0\n",
      "\t - Pitch: -0.0\n",
      "\t - Yaw: 0.0\n",
      "\n"
     ]
    }
   ],
   "source": [
    "print(model[0].pose)"
   ]
  },
  {
   "cell_type": "code",
   "execution_count": 57,
   "metadata": {},
   "outputs": [],
   "source": [
    "model[0].pose.position = [2,2,0]\n",
    "model[0].pose.rpy = [45,45,45]"
   ]
  },
  {
   "cell_type": "code",
   "execution_count": 58,
   "metadata": {},
   "outputs": [
    {
     "data": {
      "text/plain": [
       "True"
      ]
     },
     "execution_count": 58,
     "metadata": {},
     "output_type": "execute_result"
    }
   ],
   "source": [
    "model[0].spawn(gazebo_proxy)"
   ]
  },
  {
   "cell_type": "code",
   "execution_count": 27,
   "metadata": {},
   "outputs": [
    {
     "name": "stdout",
     "output_type": "stream",
     "text": [
      "[0.0, -0.0, 0.0]\n"
     ]
    }
   ],
   "source": [
    "print(model[0].pose.rpy)"
   ]
  },
  {
   "cell_type": "code",
   "execution_count": 29,
   "metadata": {},
   "outputs": [
    {
     "data": {
      "text/plain": [
       "'tameshi'"
      ]
     },
     "execution_count": 29,
     "metadata": {},
     "output_type": "execute_result"
    }
   ],
   "source": [
    "model[0].name"
   ]
  },
  {
   "cell_type": "code",
   "execution_count": 43,
   "metadata": {},
   "outputs": [],
   "source": [
    "ms = gazebo_proxy.get_model_names()"
   ]
  },
  {
   "cell_type": "code",
   "execution_count": null,
   "metadata": {},
   "outputs": [],
   "source": []
  }
 ],
 "metadata": {
  "kernelspec": {
   "display_name": "Python 2",
   "language": "python",
   "name": "python2"
  },
  "language_info": {
   "codemirror_mode": {
    "name": "ipython",
    "version": 2
   },
   "file_extension": ".py",
   "mimetype": "text/x-python",
   "name": "python",
   "nbconvert_exporter": "python",
   "pygments_lexer": "ipython2",
   "version": "2.7.17"
  }
 },
 "nbformat": 4,
 "nbformat_minor": 2
}
