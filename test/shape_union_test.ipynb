{
 "cells": [
  {
   "cell_type": "code",
   "execution_count": 71,
   "metadata": {},
   "outputs": [
    {
     "data": {
      "image/svg+xml": [
       "<svg xmlns=\"http://www.w3.org/2000/svg\" xmlns:xlink=\"http://www.w3.org/1999/xlink\" width=\"100.0\" height=\"100.0\" viewBox=\"-0.0800000000011 -0.0800000000011 2.16 2.16\" preserveAspectRatio=\"xMinYMin meet\"><g transform=\"matrix(1,0,0,-1,0,2.0)\"><path fill-rule=\"evenodd\" fill=\"#66cc99\" stroke=\"#555555\" stroke-width=\"0.0432\" opacity=\"0.6\" d=\"M 0.0,-1e-12 L -9.80171403296e-14,-9.95184726672e-13 L -1.95090322016e-13,-9.80785280403e-13 L -2.90284677254e-13,-9.56940335732e-13 L -3.82683432365e-13,-9.23879532511e-13 L -4.71396736826e-13,-8.81921264348e-13 L -5.5557023302e-13,-8.31469612303e-13 L -6.34393284164e-13,-7.73010453363e-13 L -7.07106781187e-13,-7.07106781187e-13 L -7.73010453363e-13,-6.34393284164e-13 L -8.31469612303e-13,-5.5557023302e-13 L -8.81921264348e-13,-4.71396736826e-13 L -9.23879532511e-13,-3.82683432365e-13 L -9.56940335732e-13,-2.90284677254e-13 L -9.80785280403e-13,-1.95090322016e-13 L -9.95184726672e-13,-9.80171403296e-14 L -1e-12,0.0 L -1e-12,2.0 L -9.95184726672e-13,2.0 L -9.80785280403e-13,2.0 L -9.56940335732e-13,2.0 L -9.23879532511e-13,2.0 L -8.81921264348e-13,2.0 L -8.31469612303e-13,2.0 L -7.73010453363e-13,2.0 L -7.07106781187e-13,2.0 L -6.34393284164e-13,2.0 L -5.5557023302e-13,2.0 L -4.71396736826e-13,2.0 L -3.82683432365e-13,2.0 L -2.90284677254e-13,2.0 L -1.95090322016e-13,2.0 L -9.80171403296e-14,2.0 L 0.0,2.0 L 2.0,2.0 L 2.0,2.0 L 2.0,2.0 L 2.0,2.0 L 2.0,2.0 L 2.0,2.0 L 2.0,2.0 L 2.0,2.0 L 2.0,2.0 L 2.0,2.0 L 2.0,2.0 L 2.0,2.0 L 2.0,2.0 L 2.0,2.0 L 2.0,2.0 L 2.0,2.0 L 2.0,2.0 L 2.0,0.0 L 2.0,-9.80171403296e-14 L 2.0,-1.95090322016e-13 L 2.0,-2.90284677254e-13 L 2.0,-3.82683432365e-13 L 2.0,-4.71396736826e-13 L 2.0,-5.5557023302e-13 L 2.0,-6.34393284164e-13 L 2.0,-7.07106781187e-13 L 2.0,-7.73010453363e-13 L 2.0,-8.31469612303e-13 L 2.0,-8.81921264348e-13 L 2.0,-9.23879532511e-13 L 2.0,-9.56940335732e-13 L 2.0,-9.80785280403e-13 L 2.0,-9.95184726672e-13 L 2.0,-1e-12 L 0.0,-1e-12 z M 0.750000000001,1.0 L 0.500000000001,0.5 L 1.0,1.41425759992e-12 L 1.5,0.5 L 1.25,1.0 L 1.5,1.5 L 1.0,2.0 L 0.500000000001,1.5 L 0.750000000001,1.0 z\" /></g></svg>"
      ],
      "text/plain": [
       "<shapely.geometry.polygon.Polygon at 0x7fe2bad44250>"
      ]
     },
     "execution_count": 71,
     "metadata": {},
     "output_type": "execute_result"
    }
   ],
   "source": [
    "from shapely.geometry import Polygon\n",
    "import trimesh\n",
    "\n",
    "ext = Polygon([(0, 0), (0, 2), (2, 2), (2, 0), (0, 0)])\n",
    "inte = Polygon([(1, 0), (0.5, 0.5), (1, 1.5), (1.5, 0.5), (1, 0)][::-1])\n",
    "inte2 = Polygon([(1,2), (0.5,1.5), (1,0.5), (1.5,1.5), (1,2)][::-1])\n",
    "polygon = Polygon(list(ext.exterior.coords), [list(inte.exterior.coords), list(inte2.exterior.coords)])\n",
    "fixed = trimesh.path.polygons.repair_invalid(polygon)\n",
    "fixed"
   ]
  },
  {
   "cell_type": "code",
   "execution_count": 73,
   "metadata": {},
   "outputs": [
    {
     "data": {
      "image/svg+xml": [
       "<svg xmlns=\"http://www.w3.org/2000/svg\" xmlns:xlink=\"http://www.w3.org/1999/xlink\" width=\"100.0\" height=\"100.0\" viewBox=\"0.420000000001 -0.0799999999985 1.16 2.16\" preserveAspectRatio=\"xMinYMin meet\"><g transform=\"matrix(1,0,0,-1,0,2.0)\"><path fill-rule=\"evenodd\" fill=\"#66cc99\" stroke=\"#555555\" stroke-width=\"0.0431999999999\" opacity=\"0.6\" d=\"M 0.750000000001,1.0 L 0.500000000001,0.5 L 1.0,1.41425759992e-12 L 1.5,0.5 L 1.25,1.0 L 1.5,1.5 L 1.0,2.0 L 0.500000000001,1.5 L 0.750000000001,1.0 z\" /></g></svg>"
      ],
      "text/plain": [
       "<shapely.geometry.polygon.Polygon at 0x7fe2d45f1d50>"
      ]
     },
     "execution_count": 73,
     "metadata": {},
     "output_type": "execute_result"
    }
   ],
   "source": [
    "Polygon(fixed.interiors[0])"
   ]
  },
  {
   "cell_type": "code",
   "execution_count": 58,
   "metadata": {},
   "outputs": [
    {
     "data": {
      "image/svg+xml": [
       "<svg xmlns=\"http://www.w3.org/2000/svg\" xmlns:xlink=\"http://www.w3.org/1999/xlink\" width=\"100.0\" height=\"100.0\" viewBox=\"0.42 -0.08 1.16 2.16\" preserveAspectRatio=\"xMinYMin meet\"><g transform=\"matrix(1,0,0,-1,0,2.0)\"><path fill-rule=\"evenodd\" fill=\"#66cc99\" stroke=\"#555555\" stroke-width=\"0.0432\" opacity=\"0.6\" d=\"M 1.25,1.0 L 1.5,0.5 L 1.0,0.0 L 0.5,0.5 L 0.75,1.0 L 0.5,1.5 L 1.0,2.0 L 1.5,1.5 L 1.25,1.0 z\" /></g></svg>"
      ],
      "text/plain": [
       "<shapely.geometry.polygon.Polygon at 0x7fe2bad39a10>"
      ]
     },
     "execution_count": 58,
     "metadata": {},
     "output_type": "execute_result"
    }
   ],
   "source": [
    "from shapely.ops import unary_union\n",
    "inte = Polygon([(1, 0), (0.5, 0.5), (1, 1.5), (1.5, 0.5), (1, 0)][::-1])\n",
    "inte2 = Polygon([(1,2), (0.5,1.5), (1,0.5), (1.5,1.5), (1,2)][::-1])\n",
    "unary_union([inte, inte2])"
   ]
  },
  {
   "cell_type": "code",
   "execution_count": 59,
   "metadata": {},
   "outputs": [],
   "source": [
    "import networkx as nx\n",
    "import matplotlib.pyplot as plt"
   ]
  },
  {
   "cell_type": "code",
   "execution_count": null,
   "metadata": {},
   "outputs": [],
   "source": []
  }
 ],
 "metadata": {
  "kernelspec": {
   "display_name": "Python 2",
   "language": "python",
   "name": "python2"
  },
  "language_info": {
   "codemirror_mode": {
    "name": "ipython",
    "version": 2
   },
   "file_extension": ".py",
   "mimetype": "text/x-python",
   "name": "python",
   "nbconvert_exporter": "python",
   "pygments_lexer": "ipython2",
   "version": "2.7.17"
  }
 },
 "nbformat": 4,
 "nbformat_minor": 2
}
