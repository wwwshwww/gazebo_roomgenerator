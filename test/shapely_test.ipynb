{
 "cells": [
  {
   "cell_type": "code",
   "execution_count": 113,
   "metadata": {},
   "outputs": [
    {
     "data": {
      "image/svg+xml": [
       "<svg xmlns=\"http://www.w3.org/2000/svg\" xmlns:xlink=\"http://www.w3.org/1999/xlink\" width=\"100.0\" height=\"100.0\" viewBox=\"0.002 -0.008 0.206 0.216\" preserveAspectRatio=\"xMinYMin meet\"><g transform=\"matrix(1,0,0,-1,0,0.2)\"><path fill-rule=\"evenodd\" fill=\"#66cc99\" stroke=\"#555555\" stroke-width=\"0.00432\" opacity=\"0.6\" d=\"M 0.01,0.0 L 0.02,0.15 L 0.1,0.1 L 0.2,0.2 L 0.18,0.0 L 0.1,0.08 L 0.01,0.0 z\" /></g></svg>"
      ],
      "text/plain": [
       "<shapely.geometry.polygon.Polygon at 0x7ff2e6f100d0>"
      ]
     },
     "execution_count": 113,
     "metadata": {},
     "output_type": "execute_result"
    }
   ],
   "source": [
    "import numpy as np\n",
    "from matplotlib import pyplot as plt\n",
    "from shapely.geometry.polygon import LinearRing, Polygon\n",
    "\n",
    "poly = Polygon([(0.01, 0), (0.02, 0.15), (0.1, 0.1),\n",
    "    (0.2, 0.2), (0.18, 0), (0.1, 0.08), (0.01, 0)])\n",
    "x,y = poly.exterior.xy\n",
    "\n",
    "poly"
   ]
  },
  {
   "cell_type": "code",
   "execution_count": 114,
   "metadata": {},
   "outputs": [
    {
     "name": "stdout",
     "output_type": "stream",
     "text": [
      "[(0.2, 0.0), (0.2, 0.2), (0.01, 0.2), (0.01, 0.0), (0.2, 0.0)]\n"
     ]
    }
   ],
   "source": [
    "from shapely.geometry import box\n",
    "\n",
    "bound = box(*[np.min(x), np.min(y), np.max(x), np.max(y)])\n",
    "print(list(bound.exterior.coords))\n",
    "\n",
    "bx, by = bound.exterior.xy\n"
   ]
  },
  {
   "cell_type": "code",
   "execution_count": 115,
   "metadata": {},
   "outputs": [
    {
     "data": {
      "image/svg+xml": [
       "<svg xmlns=\"http://www.w3.org/2000/svg\" xmlns:xlink=\"http://www.w3.org/1999/xlink\" width=\"100.0\" height=\"100.0\" viewBox=\"0.002 -0.008 0.206 0.216\" preserveAspectRatio=\"xMinYMin meet\"><g transform=\"matrix(1,0,0,-1,0,0.2)\"><path fill-rule=\"evenodd\" fill=\"#66cc99\" stroke=\"#555555\" stroke-width=\"0.00432\" opacity=\"0.6\" d=\"M 0.01,0.0 L 0.02,0.15 L 0.2,0.2 L 0.18,0.0 L 0.01,0.0 z\" /></g></svg>"
      ],
      "text/plain": [
       "<shapely.geometry.polygon.Polygon at 0x7ff2e6fa9350>"
      ]
     },
     "execution_count": 115,
     "metadata": {},
     "output_type": "execute_result"
    }
   ],
   "source": [
    "c = poly.convex_hull\n",
    "c"
   ]
  },
  {
   "cell_type": "code",
   "execution_count": 116,
   "metadata": {},
   "outputs": [
    {
     "data": {
      "text/plain": [
       "[<shapely.geometry.polygon.Polygon at 0x7ff2e7278210>,\n",
       " <shapely.geometry.polygon.Polygon at 0x7ff2e7498ad0>]"
      ]
     },
     "execution_count": 116,
     "metadata": {},
     "output_type": "execute_result"
    }
   ],
   "source": [
    "from shapely.ops import triangulate\n",
    "triangulate(c)"
   ]
  },
  {
   "cell_type": "code",
   "execution_count": 117,
   "metadata": {},
   "outputs": [
    {
     "name": "stdout",
     "output_type": "stream",
     "text": [
      "[(0.10663911845730027, 0.08856749311294766)]\n",
      "(array('d', [0.01, 0.02, 0.2, 0.18, 0.01]), array('d', [0.0, 0.15, 0.2, 0.0, 0.0]))\n",
      "(0.084, 0.06999999999999999)\n"
     ]
    }
   ],
   "source": [
    "print(list(c.centroid.coords))\n",
    "cx, cy = c.exterior.xy\n",
    "\n",
    "print(cx, cy)\n",
    "print(np.mean(cx), np.mean(cy))"
   ]
  },
  {
   "cell_type": "code",
   "execution_count": 124,
   "metadata": {},
   "outputs": [
    {
     "name": "stdout",
     "output_type": "stream",
     "text": [
      "[array([[0.01],\n",
      "       [0.02],\n",
      "       [0.2 ],\n",
      "       [0.18]]), array([[0.  ],\n",
      "       [0.15],\n",
      "       [0.2 ],\n",
      "       [0.  ]])]\n",
      "('vx: ', array([-0.09663912, -0.08663912,  0.09336088,  0.07336088, -0.09663912]))\n",
      "(array([-0.48149741, -0.43167313,  0.46516383,  0.36551528, -0.48149741]), array([-0.44437455,  0.3082287 ,  0.55909645, -0.44437455, -0.44437455]))\n"
     ]
    }
   ],
   "source": [
    "cc = np.vstack([cx,cy]).T[:-1]\n",
    "print(np.hsplit(cc, 2))\n",
    "# vec = cc-c.centroid.coords[0]\n",
    "cxy_arr = np.array([cx, cy])\n",
    "\n",
    "vec_x, vec_y = tuple([cxy_arr[i]-c.centroid.coords[0][i] for i in range(len(cxy_arr))])\n",
    "print('vx: ',vec_x)\n",
    "\n",
    "normalize = lambda v: v/np.linalg.norm(v)\n",
    "vec_x_n, vec_y_n = (normalize(vec_x), normalize(vec_y))\n",
    "\n",
    "print(vec_x_n, vec_y_n)"
   ]
  },
  {
   "cell_type": "code",
   "execution_count": 121,
   "metadata": {},
   "outputs": [],
   "source": [
    "dx = cx + vec_x_n * 0.2\n",
    "dy = cy + vec_y_n * 0.2"
   ]
  },
  {
   "cell_type": "code",
   "execution_count": 122,
   "metadata": {},
   "outputs": [
    {
     "data": {
      "text/plain": [
       "Text(0.5,1,'Polygon')"
      ]
     },
     "execution_count": 122,
     "metadata": {},
     "output_type": "execute_result"
    },
    {
     "data": {
      "image/png": "[encoded data removed]",
      "text/plain": [
       "<Figure size 360x360 with 1 Axes>"
      ]
     },
     "metadata": {
      "needs_background": "light"
     },
     "output_type": "display_data"
    }
   ],
   "source": [
    "fig = plt.figure(1, figsize=(5,5))\n",
    "ax = fig.add_subplot(111)\n",
    "ax.plot(x, y, color='black', alpha=0.7,\n",
    "    linewidth=3, solid_capstyle='round', zorder=2)\n",
    "\n",
    "ax.plot(bx, by, color='green', alpha=0.7,\n",
    "    linewidth=3, solid_capstyle='round', zorder=2)\n",
    "\n",
    "ax.plot(cx, cy, color='blue', alpha=0.7,\n",
    "    linewidth=3, solid_capstyle='round', zorder=2)\n",
    "\n",
    "ax.plot(c.centroid.coords[0][0], c.centroid.coords[0][1], 'ro')\n",
    "\n",
    "ax.plot(dx, dy, color='red', alpha=0.7,\n",
    "    linewidth=3, solid_capstyle='round', zorder=2)\n",
    "\n",
    "ax.set_title('Polygon')"
   ]
  },
  {
   "cell_type": "code",
   "execution_count": 105,
   "metadata": {},
   "outputs": [
    {
     "data": {
      "image/svg+xml": [
       "<svg xmlns=\"http://www.w3.org/2000/svg\" xmlns:xlink=\"http://www.w3.org/1999/xlink\" width=\"100.0\" height=\"100.0\" viewBox=\"0.02 -0.08 2.06 2.16\" preserveAspectRatio=\"xMinYMin meet\"><g transform=\"matrix(1,0,0,-1,0,2.0)\"><path fill-rule=\"evenodd\" fill=\"#66cc99\" stroke=\"#555555\" stroke-width=\"0.0432\" opacity=\"0.6\" d=\"M 0.1,0.0 L 0.2,1.5 L 2.0,2.0 L 1.8,0.0 L 0.1,0.0 z\" /></g></svg>"
      ],
      "text/plain": [
       "<shapely.geometry.polygon.Polygon at 0x7ff2e6f22ad0>"
      ]
     },
     "execution_count": 105,
     "metadata": {},
     "output_type": "execute_result"
    }
   ],
   "source": [
    "c"
   ]
  },
  {
   "cell_type": "code",
   "execution_count": 108,
   "metadata": {},
   "outputs": [
    {
     "data": {
      "image/svg+xml": [
       "<svg xmlns=\"http://www.w3.org/2000/svg\" xmlns:xlink=\"http://www.w3.org/1999/xlink\" width=\"100.0\" height=\"100.0\" viewBox=\"-1.0232724919 -1.04902678975 4.11387782799 4.32749736209\" preserveAspectRatio=\"xMinYMin meet\"><g transform=\"matrix(1,0,0,-1,0,2.22944378259)\"><path fill-rule=\"evenodd\" fill=\"#66cc99\" stroke=\"#555555\" stroke-width=\"0.0865499472417\" opacity=\"0.6\" d=\"M -0.862994811826,-0.888749109671 L -0.663346260887,2.11645739178 L 2.93032765601,3.11819289226 L 2.53103055413,-0.888749109671 L -0.862994811826,-0.888749109671 z\" /></g></svg>"
      ],
      "text/plain": [
       "<shapely.geometry.polygon.Polygon at 0x7ff2e6f03ed0>"
      ]
     },
     "execution_count": 108,
     "metadata": {},
     "output_type": "execute_result"
    }
   ],
   "source": [
    "Polygon(np.vstack([dx,dy]).T)"
   ]
  },
  {
   "cell_type": "code",
   "execution_count": null,
   "metadata": {},
   "outputs": [],
   "source": []
  }
 ],
 "metadata": {
  "kernelspec": {
   "display_name": "Python 2",
   "language": "python",
   "name": "python2"
  },
  "language_info": {
   "codemirror_mode": {
    "name": "ipython",
    "version": 2
   },
   "file_extension": ".py",
   "mimetype": "text/x-python",
   "name": "python",
   "nbconvert_exporter": "python",
   "pygments_lexer": "ipython2",
   "version": "2.7.17"
  }
 },
 "nbformat": 4,
 "nbformat_minor": 2
}
